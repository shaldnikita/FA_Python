{
 "cells": [
  {
   "cell_type": "markdown",
   "metadata": {
    "collapsed": true
   },
   "source": [
    "11) Создать целочисленную невырожденную матрицу M размерности 5 на 10, состоящую из случайных чисел. \n",
    "Средствами numpy выбрать из M столбец с максимальной суммой значений и вывести его на экран.\n",
    "Средствами numpy выбрать из M строку с минимальной суммой значений и вывести ее на экран."
   ]
  },
  {
   "cell_type": "code",
   "execution_count": 21,
   "metadata": {
    "collapsed": false
   },
   "outputs": [
    {
     "name": "stdout",
     "output_type": "stream",
     "text": [
      "[[8 9 5 2 1 2 6 8 4 1]\n",
      " [6 3 7 9 8 9 6 1 6 3]\n",
      " [9 7 1 5 8 8 6 6 7 6]\n",
      " [3 2 8 3 7 5 4 0 9 6]\n",
      " [4 2 8 9 0 4 8 2 9 6]]\n"
     ]
    }
   ],
   "source": [
    "import numpy as np\n",
    "M = np.random.randint(0, 10, (5, 10))\n",
    "print(M)"
   ]
  },
  {
   "cell_type": "code",
   "execution_count": 22,
   "metadata": {
    "collapsed": false
   },
   "outputs": [
    {
     "data": {
      "text/plain": [
       "array([30, 23, 29, 28, 24, 28, 30, 17, 35, 22])"
      ]
     },
     "execution_count": 22,
     "metadata": {},
     "output_type": "execute_result"
    }
   ],
   "source": [
    "M.sum(axis=0)"
   ]
  },
  {
   "cell_type": "code",
   "execution_count": 23,
   "metadata": {
    "collapsed": false
   },
   "outputs": [
    {
     "data": {
      "text/plain": [
       "8"
      ]
     },
     "execution_count": 23,
     "metadata": {},
     "output_type": "execute_result"
    }
   ],
   "source": [
    "np.argmax(M.sum(axis=0))"
   ]
  },
  {
   "cell_type": "code",
   "execution_count": 27,
   "metadata": {
    "collapsed": false
   },
   "outputs": [
    {
     "name": "stdout",
     "output_type": "stream",
     "text": [
      "[4 6 7 9 9]\n"
     ]
    }
   ],
   "source": [
    "print(M[:, np.argmax(M.prod(axis=0))])"
   ]
  },
  {
   "cell_type": "code",
   "execution_count": 25,
   "metadata": {
    "collapsed": false
   },
   "outputs": [
    {
     "name": "stdout",
     "output_type": "stream",
     "text": [
      "[8 9 5 2 1 2 6 8 4 1]\n"
     ]
    }
   ],
   "source": [
    "print(M[np.argmin(M.sum(axis=1)), :])"
   ]
  },
  {
   "cell_type": "markdown",
   "metadata": {},
   "source": [
    "3.\tСоздать иерархию классов для фруктов, продающихся в магазине. Иерархия должна содержать не менее 5 классов, и не менее 3х уровней. Объекты должны содержать не менее 3х атрибутов и 2х методов (часть из которых должны быть перегружены). В конструкторах должны корректно использоваться конструкторы базовых классов. Необходимо заполнить список представителями всех классов (всего не менее 10 объектов) и продемонстрировать работу полиморфизма."
   ]
  },
  {
   "cell_type": "code",
   "execution_count": 72,
   "metadata": {
    "collapsed": false
   },
   "outputs": [],
   "source": [
    "# верхний класс - фрукты (1 атрибут, 1 метод)\n",
    "# фрукты делятся на: цитрусовые + яблоки (по 1 атрибуту и 1 методу)\n",
    "# цитрусовые делятся на: лимоны + апельсины (по 1 атрибуту)\n",
    "import random\n",
    "class Fruit(object):\n",
    "    def __init__(self, color):\n",
    "        self.color = color\n",
    "        self.pealed = False\n",
    "    def peal(self):\n",
    "        self.pealed = True\n",
    "    def cook(self):\n",
    "        return 'cut fruit', 1\n",
    "    def __str__(self):\n",
    "        return \"{}: {} ({})\".format(self.__class__.__name__, self.color, 'pealed' if self.pealed else 'not pealed')\n",
    "    \n",
    "class Citrus(Fruit):\n",
    "    def __init__(self, color):\n",
    "        super().__init__(color)\n",
    "        self.seeds = random.randint(0, 10)\n",
    "        self.juiced = False\n",
    "    def get_juice(self):\n",
    "        assert not self.juiced, \"Juice has already been made!\"\n",
    "        self.juiced = True\n",
    "        return random.randint(1, 5)\n",
    "    \n",
    "class Apple(Fruit):\n",
    "    def __init__(self, color, kind):\n",
    "        super().__init__(color)\n",
    "        self.kind = kind\n",
    "    def cut(self, parts):\n",
    "        print(\"Congrats! You cut the apple into {} pieces.\".format(parts))\n",
    "    def cook(self):\n",
    "        return 'apple pie', 3\n",
    "    \n",
    "class Lemon(Citrus):\n",
    "    def __init__(self):\n",
    "        super().__init__('yellow')\n",
    "    def cook(self):\n",
    "        return 'lemon jam', 4\n",
    "        \n",
    "class Orange(Citrus):\n",
    "    def __init__(self):\n",
    "        super().__init__('orange')\n",
    "\n",
    "class Basket():\n",
    "    def __init__(self):\n",
    "        self.contents = []\n",
    "        self.__applecount = 0\n",
    "        self.__lemoncount = 0\n",
    "    \n",
    "    @property\n",
    "    def applecount(self):\n",
    "        return self.__applecount\n",
    "    \n",
    "    @applecount.setter\n",
    "    def applecount(self, x):\n",
    "        self.__applecount = x\n",
    "        \n",
    "    @property\n",
    "    def lemoncount(self):\n",
    "        return self.__lemoncount\n",
    "    \n",
    "    @lemoncount.setter\n",
    "    def lemoncount(self, x):\n",
    "        self.__lemoncount = x\n",
    "        \n",
    "    @property\n",
    "    def totalcount(self):\n",
    "        return len(self.contents)\n",
    "        \n",
    "    def add_fruits(self, *fruits):\n",
    "        self.contents += fruits\n",
    "        for x in fruits:\n",
    "            if isinstance(x, Apple): self.applecount += 1\n",
    "            elif isinstance(x, Lemon): self.lemoncount += 1\n",
    "    "
   ]
  },
  {
   "cell_type": "code",
   "execution_count": 58,
   "metadata": {
    "collapsed": false
   },
   "outputs": [
    {
     "data": {
      "text/plain": [
       "False"
      ]
     },
     "execution_count": 58,
     "metadata": {},
     "output_type": "execute_result"
    }
   ],
   "source": [
    "c = Citrus('yellow')\n",
    "c.pealed"
   ]
  },
  {
   "cell_type": "code",
   "execution_count": 59,
   "metadata": {
    "collapsed": false
   },
   "outputs": [
    {
     "name": "stdout",
     "output_type": "stream",
     "text": [
      "yellow 4 3 False\n"
     ]
    }
   ],
   "source": [
    "lemon = Lemon()\n",
    "print(lemon.color, lemon.seeds, lemon.get_juice(), lemon.pealed)"
   ]
  },
  {
   "cell_type": "code",
   "execution_count": 60,
   "metadata": {
    "collapsed": false
   },
   "outputs": [
    {
     "data": {
      "text/plain": [
       "True"
      ]
     },
     "execution_count": 60,
     "metadata": {},
     "output_type": "execute_result"
    }
   ],
   "source": [
    "lemon.peal()\n",
    "lemon.pealed"
   ]
  },
  {
   "cell_type": "code",
   "execution_count": 61,
   "metadata": {
    "collapsed": true
   },
   "outputs": [],
   "source": [
    "different_fruits = [Fruit('red'), Citrus('green'), Apple('pink', 'malinka'), Lemon(), Orange()]"
   ]
  },
  {
   "cell_type": "code",
   "execution_count": 62,
   "metadata": {
    "collapsed": false
   },
   "outputs": [
    {
     "name": "stdout",
     "output_type": "stream",
     "text": [
      "Fruit: red (not pealed) -> dish 'cut fruit', taste 1\n",
      "Citrus: green (not pealed) -> dish 'cut fruit', taste 1\n",
      "Apple: pink (not pealed) -> dish 'apple pie', taste 3\n",
      "Lemon: yellow (not pealed) -> dish 'lemon jam', taste 4\n",
      "Orange: orange (not pealed) -> dish 'cut fruit', taste 1\n"
     ]
    }
   ],
   "source": [
    "for x in different_fruits:\n",
    "    print(\"{} -> dish '{}', taste {}\".format(x, *x.cook()))"
   ]
  },
  {
   "cell_type": "code",
   "execution_count": 63,
   "metadata": {
    "collapsed": false
   },
   "outputs": [
    {
     "data": {
      "text/plain": [
       "2"
      ]
     },
     "execution_count": 63,
     "metadata": {},
     "output_type": "execute_result"
    }
   ],
   "source": [
    "lem = different_fruits[3]\n",
    "lem.get_juice()"
   ]
  },
  {
   "cell_type": "code",
   "execution_count": 64,
   "metadata": {
    "collapsed": false
   },
   "outputs": [
    {
     "ename": "AssertionError",
     "evalue": "Juice has already been made!",
     "output_type": "error",
     "traceback": [
      "\u001b[0;31m---------------------------------------------------------------------------\u001b[0m",
      "\u001b[0;31mAssertionError\u001b[0m                            Traceback (most recent call last)",
      "\u001b[0;32m<ipython-input-64-890039661198>\u001b[0m in \u001b[0;36m<module>\u001b[0;34m()\u001b[0m\n\u001b[0;32m----> 1\u001b[0;31m \u001b[0mlem\u001b[0m\u001b[1;33m.\u001b[0m\u001b[0mget_juice\u001b[0m\u001b[1;33m(\u001b[0m\u001b[1;33m)\u001b[0m\u001b[1;33m\u001b[0m\u001b[0m\n\u001b[0m",
      "\u001b[0;32m<ipython-input-57-87eec18bdd0c>\u001b[0m in \u001b[0;36mget_juice\u001b[0;34m(self)\u001b[0m\n\u001b[1;32m     20\u001b[0m         \u001b[0mself\u001b[0m\u001b[1;33m.\u001b[0m\u001b[0mjuiced\u001b[0m \u001b[1;33m=\u001b[0m \u001b[1;32mFalse\u001b[0m\u001b[1;33m\u001b[0m\u001b[0m\n\u001b[1;32m     21\u001b[0m     \u001b[1;32mdef\u001b[0m \u001b[0mget_juice\u001b[0m\u001b[1;33m(\u001b[0m\u001b[0mself\u001b[0m\u001b[1;33m)\u001b[0m\u001b[1;33m:\u001b[0m\u001b[1;33m\u001b[0m\u001b[0m\n\u001b[0;32m---> 22\u001b[0;31m         \u001b[1;32massert\u001b[0m \u001b[1;32mnot\u001b[0m \u001b[0mself\u001b[0m\u001b[1;33m.\u001b[0m\u001b[0mjuiced\u001b[0m\u001b[1;33m,\u001b[0m \u001b[1;34m\"Juice has already been made!\"\u001b[0m\u001b[1;33m\u001b[0m\u001b[0m\n\u001b[0m\u001b[1;32m     23\u001b[0m         \u001b[0mself\u001b[0m\u001b[1;33m.\u001b[0m\u001b[0mjuiced\u001b[0m \u001b[1;33m=\u001b[0m \u001b[1;32mTrue\u001b[0m\u001b[1;33m\u001b[0m\u001b[0m\n\u001b[1;32m     24\u001b[0m         \u001b[1;32mreturn\u001b[0m \u001b[0mrandom\u001b[0m\u001b[1;33m.\u001b[0m\u001b[0mrandint\u001b[0m\u001b[1;33m(\u001b[0m\u001b[1;36m1\u001b[0m\u001b[1;33m,\u001b[0m \u001b[1;36m5\u001b[0m\u001b[1;33m)\u001b[0m\u001b[1;33m\u001b[0m\u001b[0m\n",
      "\u001b[0;31mAssertionError\u001b[0m: Juice has already been made!"
     ]
    }
   ],
   "source": [
    "lem.get_juice()"
   ]
  },
  {
   "cell_type": "code",
   "execution_count": 77,
   "metadata": {
    "collapsed": true
   },
   "outputs": [],
   "source": [
    "bs = Basket()"
   ]
  },
  {
   "cell_type": "code",
   "execution_count": 78,
   "metadata": {
    "collapsed": false
   },
   "outputs": [
    {
     "data": {
      "text/plain": [
       "[<__main__.Apple at 0x24be03875c0>,\n",
       " <__main__.Lemon at 0x24be0387be0>,\n",
       " <__main__.Orange at 0x24be0387ba8>]"
      ]
     },
     "execution_count": 78,
     "metadata": {},
     "output_type": "execute_result"
    }
   ],
   "source": [
    "bs.add_fruits(Apple('green', 'antonovka'), Lemon(), Orange())\n",
    "bs.contents"
   ]
  },
  {
   "cell_type": "code",
   "execution_count": 79,
   "metadata": {
    "collapsed": false
   },
   "outputs": [
    {
     "data": {
      "text/plain": [
       "3"
      ]
     },
     "execution_count": 79,
     "metadata": {},
     "output_type": "execute_result"
    }
   ],
   "source": [
    "bs.totalcount"
   ]
  },
  {
   "cell_type": "code",
   "execution_count": 80,
   "metadata": {
    "collapsed": false
   },
   "outputs": [
    {
     "name": "stdout",
     "output_type": "stream",
     "text": [
      "('apple pie', 3)\n",
      "('lemon jam', 4)\n",
      "('cut fruit', 1)\n"
     ]
    }
   ],
   "source": [
    "for x in bs.contents:\n",
    "    print(x.cook())"
   ]
  },
  {
   "cell_type": "code",
   "execution_count": null,
   "metadata": {
    "collapsed": true
   },
   "outputs": [],
   "source": []
  }
 ],
 "metadata": {
  "anaconda-cloud": {},
  "kernelspec": {
   "display_name": "Python 3",
   "language": "python",
   "name": "python3"
  },
  "language_info": {
   "codemirror_mode": {
    "name": "ipython",
    "version": 3
   },
   "file_extension": ".py",
   "mimetype": "text/x-python",
   "name": "python",
   "nbconvert_exporter": "python",
   "pygments_lexer": "ipython3",
   "version": "3.6.0"
  }
 },
 "nbformat": 4,
 "nbformat_minor": 0
}
