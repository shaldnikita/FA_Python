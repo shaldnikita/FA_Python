{
 "cells": [
  {
   "cell_type": "markdown",
   "metadata": {},
   "source": [
    "1) Создать класс BinaryTreeLL, реализующий API для хранения двоичных деревьев в виде списка списков. \n",
    "\n",
    "* BinaryTreeLL(tree) - создание нового экземпляра бинарного дерева. tree - или значение root_val, или список, содержащий бинарное дерево, или BinaryTreeLL.\n",
    "\n",
    "\n",
    "* get_left_child() - возвращает бинарное дерево, начинающееся с левого дочернего узла рассматриваемого узла.\n",
    "* get_right_child() - возвращает бинарное дерево, начинающееся с правого дочернего узла рассматриваемого узла. \n",
    "\n",
    "\n",
    "* get_val() - возвращает объект, хранящийся в данном узле.\n",
    "* set_val(val) - сохраняет объект, хранящийся в данном узле.\n",
    "\n",
    "\n",
    "* insert_left_child(ll_val) - вставляет новое бинарное дерево в левый дочерний узел. ll_val - это представление бинарного дерева в виде списка списков или BinaryTreeLL.\n",
    "* insert_right_child(ll_val) - вставляет новое бинарное дерево в правый дочерний узел. ll_val - это представление бинарного дерева в виде списка списков или BinaryTreeLL.\n",
    "\n",
    "\n",
    "* get_tree_list() - возвращает представление дерева в виде списка."
   ]
  },
  {
   "cell_type": "code",
   "execution_count": 3,
   "metadata": {
    "collapsed": false
   },
   "outputs": [
    {
     "data": {
      "text/plain": [
       "[4, [[1, [None, [2]]], [5]]]"
      ]
     },
     "execution_count": 3,
     "metadata": {},
     "output_type": "execute_result"
    }
   ],
   "source": [
    "import math as m\n",
    "class Node(object):\n",
    "    def __init__(self,value):\n",
    "        self.leftChild=None\n",
    "        self.rightChild=None\n",
    "        self.value=value\n",
    "        \n",
    "    def __str__(self):\n",
    "        return str(self.value)\n",
    "        \n",
    "class BinaryTree(object):\n",
    "    def __init__(self):\n",
    "        self.root=None\n",
    "        self.size=0\n",
    "        \n",
    "    def find(self,value):\n",
    "        current = self.root\n",
    "        if current==None:\n",
    "            return \"EmptyTree\"\n",
    "        else:\n",
    "            while(current.value!=value):\n",
    "                    if value>current.value:\n",
    "                        current=current.rightChild\n",
    "                    else:\n",
    "                        current = current.leftChild\n",
    "            return current\n",
    "    def add(self,value):\n",
    "        self.size+=1\n",
    "        newNode = Node(value)\n",
    "        current = self.root\n",
    "        parent=current\n",
    "        if current==None:\n",
    "            self.root=newNode\n",
    "            return\n",
    "        else:\n",
    "            while(True):\n",
    "                parent=current\n",
    "                if value<current.value:\n",
    "                    current=current.leftChild\n",
    "                    if(current==None):\n",
    "                        parent.leftChild=newNode\n",
    "                        return\n",
    "                else:\n",
    "                    current=current.rightChild\n",
    "                    if(current==None):\n",
    "                        parent.rightChild=newNode\n",
    "                        return\n",
    "    @staticmethod\n",
    "    def displayTree(node,finalList,size):\n",
    "        if node==None:\n",
    "            return\n",
    "        #print(node)\n",
    "        finalList.append(node.value)\n",
    "        left=node.leftChild\n",
    "        right=node.rightChild\n",
    "        if(left==None and right==None):\n",
    "            return node.value\n",
    "        finalList.append([BinaryTree.displayTree(left,[]),BinaryTree.displayTree(right,[])])\n",
    "        #print(node)\n",
    "        #print(left,\" \",right)\n",
    "        return finalList\n",
    "    @staticmethod\n",
    "    def displayTree(node,finalList):\n",
    "        if node==None:\n",
    "            return\n",
    "        #print(node)\n",
    "        finalList.append(node.value)\n",
    "        left=node.leftChild\n",
    "        right=node.rightChild\n",
    "        if(left==None and right==None):\n",
    "            return finalList\n",
    "        finalList.append([BinaryTree.displayTree(left,[]),BinaryTree.displayTree(right,[])])                        \n",
    "        return finalList\n",
    "        \n",
    "            \n",
    "bt = BinaryTree()\n",
    "bt.add(4)\n",
    "bt.add(5)\n",
    "bt.add(1)\n",
    "bt.add(2)\n",
    "\n",
    "\n",
    "bt.displayTree(bt.root,[])"
   ]
  },
  {
   "cell_type": "code",
   "execution_count": 106,
   "metadata": {
    "collapsed": false,
    "scrolled": true
   },
   "outputs": [
    {
     "name": "stdout",
     "output_type": "stream",
     "text": [
      "4 \n",
      "1 \n",
      "5 \n",
      "None 2 \n",
      "None None "
     ]
    }
   ],
   "source": [
    "import math as m\n",
    "arr=[4, [[1, [None, 2]], [5,[None,None]]]]\n",
    "st=m.log(3,2)\n",
    "lastRow=1\n",
    "size=3\n",
    "if st/10!=0:\n",
    "    st+=1\n",
    "st=int(st)\n",
    "while(lastRow<size):\n",
    "    lastRow*=2\n",
    "    size-=lastRow\n",
    "lastRow*=2\n",
    "lastRow+=1\n",
    "\n",
    "empty=\" \"\n",
    "mid=lastRow//2+1\n",
    "numbers=[]\n",
    "numbers.append(arr[0])\n",
    "a=arr[1]\n",
    "for _ in range(lastRow):\n",
    "    final.append([])\n",
    "    \n",
    "for _ in range(st):\n",
    "    newArray=[]\n",
    "    for i in a:\n",
    "        if(i != None):\n",
    "            numbers.append(i[0])\n",
    "            if(not isinstance(i[1],int) and i[1]!=None):\n",
    "                newArray.append(i[1])\n",
    "            else:\n",
    "                numbers.append(i[1])\n",
    "    a=newArray\n",
    "\n",
    "curCount=0\n",
    "for k,v in enumerate(numbers):\n",
    "    print(v,end=\" \")\n",
    "    if(k==0):\n",
    "        print(\"\")\n",
    "        curCount+=1\n",
    "        continue\n",
    "    if(k==2**curCount-k):\n",
    "        print(\"\")\n",
    "        curCount+=1"
   ]
  },
  {
   "cell_type": "code",
   "execution_count": null,
   "metadata": {
    "collapsed": false
   },
   "outputs": [],
   "source": []
  },
  {
   "cell_type": "code",
   "execution_count": 72,
   "metadata": {
    "collapsed": false
   },
   "outputs": [
    {
     "name": "stdout",
     "output_type": "stream",
     "text": [
      " \n",
      "\n"
     ]
    }
   ],
   "source": [
    "while(mid<lastRow):\n",
    "    mid+=1\n",
    "    curPos=mid-row\n",
    "    print(empty*(lastRow-mid),end=\"\")\n",
    "    newArray=[]\n",
    "    for i in a:\n",
    "        print(i[0],end=\" \")\n",
    "        curPos-=2       \n",
    "    a=newArray\n",
    "    print(empty*(lastRow-mid-1))\n",
    "    row+=1\n",
    "    half=lastRow-mid"
   ]
  },
  {
   "cell_type": "markdown",
   "metadata": {},
   "source": [
    "2) Реализовать функцию вывода дерева на экран. Построить тестовое дерево."
   ]
  },
  {
   "cell_type": "code",
   "execution_count": 1,
   "metadata": {
    "collapsed": true
   },
   "outputs": [],
   "source": []
  },
  {
   "cell_type": "markdown",
   "metadata": {},
   "source": [
    "3) Создать класс BinaryNode, реализующий API для хранения двоичных деревьев в виде объектов, ссылающихся на родителя и потомков. \n",
    "\n",
    "* BinaryNode(val) - создание нового экземпляра бинарного дерева. val - значение root_val или бинарное дерево в виде BinaryTree.\n",
    "\n",
    "\n",
    "* get_val() - возвращает объект, хранящийся в данном узле.\n",
    "* set_val(val) - сохраняет объект, хранящийся в данном узле.\n",
    "\n",
    "\n",
    "* get_left_child() - возвращает левый дочерний узел рассматриваемого узла.\n",
    "* get_right_child() - возвращает правый дочерний узел рассматриваемого узла.\n",
    "\n",
    "\n",
    "* set_left_child(node) - устанавливает новый левый дочерний узел. node - это узел BinaryNode или None.\n",
    "* set_right_child(node) - устанавливает новый правый дочерний узел. node - это узел BinaryNode или None.\n",
    "\n",
    "\n",
    "* get_parent() - возвращает родительский узел.\n",
    "* set_parent(node) - устанавливает новый родительский узел. node - это узел BinaryNode или None."
   ]
  },
  {
   "cell_type": "markdown",
   "metadata": {},
   "source": [
    "3) Реализовать разбор арифметических выражений с операциями +, -, *, / и произвольным количеством скобок в виде бинарного дерева."
   ]
  },
  {
   "cell_type": "markdown",
   "metadata": {},
   "source": [
    "4) Реализовать расчет арифметического выражения, представленного в виде бинарного дерева."
   ]
  },
  {
   "cell_type": "markdown",
   "metadata": {},
   "source": [
    "5) Реализовать прямой, обратный и симметричный порядок обхода дерева."
   ]
  },
  {
   "cell_type": "code",
   "execution_count": null,
   "metadata": {
    "collapsed": true
   },
   "outputs": [],
   "source": []
  }
 ],
 "metadata": {
  "anaconda-cloud": {},
  "kernelspec": {
   "display_name": "Python 3",
   "language": "python",
   "name": "python3"
  },
  "language_info": {
   "codemirror_mode": {
    "name": "ipython",
    "version": 3
   },
   "file_extension": ".py",
   "mimetype": "text/x-python",
   "name": "python",
   "nbconvert_exporter": "python",
   "pygments_lexer": "ipython3",
   "version": "3.6.0"
  }
 },
 "nbformat": 4,
 "nbformat_minor": 0
}
