{
 "cells": [
  {
   "cell_type": "markdown",
   "metadata": {},
   "source": [
    "1) Создать класс BinaryTreeLL, реализующий API для хранения двоичных деревьев в виде списка списков. \n",
    "\n",
    "* BinaryTreeLL(tree) - создание нового экземпляра бинарного дерева. tree - или значение root_val, или список, содержащий бинарное дерево, или BinaryTreeLL.\n",
    "\n",
    "\n",
    "* get_left_child() - возвращает бинарное дерево, начинающееся с левого дочернего узла рассматриваемого узла.\n",
    "* get_right_child() - возвращает бинарное дерево, начинающееся с правого дочернего узла рассматриваемого узла. \n",
    "\n",
    "\n",
    "* get_val() - возвращает объект, хранящийся в данном узле.\n",
    "* set_val(val) - сохраняет объект, хранящийся в данном узле.\n",
    "\n",
    "\n",
    "* insert_left_child(ll_val) - вставляет новое бинарное дерево в левый дочерний узел. ll_val - это представление бинарного дерева в виде списка списков или BinaryTreeLL.\n",
    "* insert_right_child(ll_val) - вставляет новое бинарное дерево в правый дочерний узел. ll_val - это представление бинарного дерева в виде списка списков или BinaryTreeLL.\n",
    "\n",
    "\n",
    "* get_tree_list() - возвращает представление дерева в виде списка."
   ]
  },
  {
   "cell_type": "code",
   "execution_count": 3,
   "metadata": {
    "collapsed": false
   },
   "outputs": [
    {
     "name": "stdout",
     "output_type": "stream",
     "text": [
      "1\n",
      "4\n",
      "2\n"
     ]
    }
   ],
   "source": [
    "class Node(object):\n",
    "    def __init__(self,value):\n",
    "        self.leftChild=None\n",
    "        self.rightChild=None\n",
    "        self.value=value\n",
    "        \n",
    "    def __str__(self):\n",
    "        return str(self.value)\n",
    "        \n",
    "class BinaryTree(object):\n",
    "    def __init__(self):\n",
    "        self.root=None\n",
    "        \n",
    "    def find(self,value):\n",
    "        current = self.root\n",
    "        if current==None:\n",
    "            return \"EmptyTree\"\n",
    "        else:\n",
    "            while(current.value!=value):\n",
    "                    if value>current.value:\n",
    "                        current=current.rightChild\n",
    "                    else:\n",
    "                        current = current.leftChild\n",
    "            return current\n",
    "    def add(self,value):\n",
    "        newNode = Node(value)\n",
    "        current = self.root\n",
    "        parent=current\n",
    "        if current==None:\n",
    "            self.root=newNode\n",
    "            return\n",
    "        else:\n",
    "            while(True):\n",
    "                parent=current\n",
    "                if value<current.value:\n",
    "                    current=current.leftChild\n",
    "                    if(current==None):\n",
    "                        parent.leftChild=newNode\n",
    "                        return\n",
    "                else:\n",
    "                    current=current.rightChild\n",
    "                    if(current==None):\n",
    "                        parent.rightChild=newNode\n",
    "                        return\n",
    "    @staticmethod\n",
    "    def displayTree(node):\n",
    "        if node==None:\n",
    "            return\n",
    "        #print(node)\n",
    "        if node.leftChild!=None:\n",
    "            print(node.leftChild)\n",
    "        if node.rightChild!= None:\n",
    "            print(node.rightChild)\n",
    "            \n",
    "        left=node.leftChild\n",
    "        right=node.rightChild\n",
    "        BinaryTree.displayTree(right)\n",
    "        BinaryTree.displayTree(left)\n",
    "        \n",
    "    \n",
    "bt = BinaryTree()\n",
    "bt.add(3)\n",
    "bt.add(4)\n",
    "bt.add(1)\n",
    "bt.add(2)\n",
    "\n",
    "bt.displayTree(bt.root)"
   ]
  },
  {
   "cell_type": "markdown",
   "metadata": {},
   "source": [
    "2) Реализовать функцию вывода дерева на экран. Построить тестовое дерево."
   ]
  },
  {
   "cell_type": "markdown",
   "metadata": {},
   "source": [
    "3) Создать класс BinaryNode, реализующий API для хранения двоичных деревьев в виде объектов, ссылающихся на родителя и потомков. \n",
    "\n",
    "* BinaryNode(val) - создание нового экземпляра бинарного дерева. val - значение root_val или бинарное дерево в виде BinaryTree.\n",
    "\n",
    "\n",
    "* get_val() - возвращает объект, хранящийся в данном узле.\n",
    "* set_val(val) - сохраняет объект, хранящийся в данном узле.\n",
    "\n",
    "\n",
    "* get_left_child() - возвращает левый дочерний узел рассматриваемого узла.\n",
    "* get_right_child() - возвращает правый дочерний узел рассматриваемого узла.\n",
    "\n",
    "\n",
    "* set_left_child(node) - устанавливает новый левый дочерний узел. node - это узел BinaryNode или None.\n",
    "* set_right_child(node) - устанавливает новый правый дочерний узел. node - это узел BinaryNode или None.\n",
    "\n",
    "\n",
    "* get_parent() - возвращает родительский узел.\n",
    "* set_parent(node) - устанавливает новый родительский узел. node - это узел BinaryNode или None."
   ]
  },
  {
   "cell_type": "markdown",
   "metadata": {},
   "source": [
    "3) Реализовать разбор арифметических выражений с операциями +, -, *, / и произвольным количеством скобок в виде бинарного дерева."
   ]
  },
  {
   "cell_type": "markdown",
   "metadata": {},
   "source": [
    "4) Реализовать расчет арифметического выражения, представленного в виде бинарного дерева."
   ]
  },
  {
   "cell_type": "markdown",
   "metadata": {},
   "source": [
    "5) Реализовать прямой, обратный и симметричный порядок обхода дерева."
   ]
  },
  {
   "cell_type": "code",
   "execution_count": null,
   "metadata": {
    "collapsed": true
   },
   "outputs": [],
   "source": []
  }
 ],
 "metadata": {
  "anaconda-cloud": {},
  "kernelspec": {
   "display_name": "Python [Root]",
   "language": "python",
   "name": "Python [Root]"
  },
  "language_info": {
   "codemirror_mode": {
    "name": "ipython",
    "version": 3
   },
   "file_extension": ".py",
   "mimetype": "text/x-python",
   "name": "python",
   "nbconvert_exporter": "python",
   "pygments_lexer": "ipython3",
   "version": "3.5.2"
  }
 },
 "nbformat": 4,
 "nbformat_minor": 0
}
