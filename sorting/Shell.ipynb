{
 "cells": [
  {
   "cell_type": "code",
   "execution_count": 1,
   "metadata": {
    "collapsed": false
   },
   "outputs": [
    {
     "name": "stdout",
     "output_type": "stream",
     "text": [
      "[3, 12, 21, 24, 33, 40, 44, 51, 64, 70, 85, 97]\n"
     ]
    }
   ],
   "source": [
    "#SHELL\n",
    "def shellSort():\n",
    "    size=len(arrayA)\n",
    "    h=1\n",
    "    \n",
    "    while h< size//3: #Последовательность Кнута\n",
    "        h=h*3+1\n",
    "    \n",
    "    while h>0:\n",
    "        for outer in range(h,size):\n",
    "            temp=arrayA[outer]\n",
    "            inner=outer\n",
    "            \n",
    "            while (inner>h-1 and arrayA[inner-h]>temp):\n",
    "                arrayA[inner]=arrayA[inner-h]\n",
    "                inner-=h\n",
    "            arrayA[inner]=temp\n",
    "        h=(h-1)//3\n",
    "               \n",
    "arrayA = [64,21,33,70,12,85,44,3,97,24,51,40]  \n",
    "shellSort()\n",
    "print(arrayA)"
   ]
  }
 ],
 "metadata": {
  "kernelspec": {
   "display_name": "Python 3",
   "language": "python",
   "name": "python3"
  },
  "language_info": {
   "codemirror_mode": {
    "name": "ipython",
    "version": 3
   },
   "file_extension": ".py",
   "mimetype": "text/x-python",
   "name": "python",
   "nbconvert_exporter": "python",
   "pygments_lexer": "ipython3",
   "version": "3.6.0"
  }
 },
 "nbformat": 4,
 "nbformat_minor": 2
}
