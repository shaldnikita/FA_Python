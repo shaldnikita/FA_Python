{
 "cells": [
  {
   "cell_type": "code",
   "execution_count": 1,
   "metadata": {
    "collapsed": false
   },
   "outputs": [
    {
     "name": "stdout",
     "output_type": "stream",
     "text": [
      "0   1   1\n",
      "temporary array:  [21, 64]\n",
      "original array:  [21, 64, 33, 70, 12, 85, 44, 3, 97, 24, 51, 40]\n",
      "0   2   2\n",
      "temporary array:  [21, 33, 64]\n",
      "original array:  [21, 33, 64, 70, 12, 85, 44, 3, 97, 24, 51, 40]\n",
      "3   4   4\n",
      "temporary array:  [12, 70]\n",
      "original array:  [21, 33, 64, 12, 70, 85, 44, 3, 97, 24, 51, 40]\n",
      "3   5   5\n",
      "temporary array:  [12, 70, 85]\n",
      "original array:  [21, 33, 64, 12, 70, 85, 44, 3, 97, 24, 51, 40]\n",
      "0   3   5\n",
      "temporary array:  [12, 21, 33, 64, 70, 85]\n",
      "original array:  [12, 21, 33, 64, 70, 85, 44, 3, 97, 24, 51, 40]\n",
      "6   7   7\n",
      "temporary array:  [3, 44]\n",
      "original array:  [12, 21, 33, 64, 70, 85, 3, 44, 97, 24, 51, 40]\n",
      "6   8   8\n",
      "temporary array:  [3, 44, 97]\n",
      "original array:  [12, 21, 33, 64, 70, 85, 3, 44, 97, 24, 51, 40]\n",
      "9   10   10\n",
      "temporary array:  [24, 51]\n",
      "original array:  [12, 21, 33, 64, 70, 85, 3, 44, 97, 24, 51, 40]\n",
      "9   11   11\n",
      "temporary array:  [24, 40, 51]\n",
      "original array:  [12, 21, 33, 64, 70, 85, 3, 44, 97, 24, 40, 51]\n",
      "6   9   11\n",
      "temporary array:  [3, 24, 40, 44, 51, 97]\n",
      "original array:  [12, 21, 33, 64, 70, 85, 3, 24, 40, 44, 51, 97]\n",
      "0   6   11\n",
      "temporary array:  [3, 12, 21, 24, 33, 40, 44, 51, 64, 70, 85, 97]\n",
      "original array:  [3, 12, 21, 24, 33, 40, 44, 51, 64, 70, 85, 97]\n"
     ]
    }
   ],
   "source": [
    "#Merge\n",
    "def recMergeSort(workspace,lowerBound,upperBound):\n",
    "        if(lowerBound==upperBound):\n",
    "            return\n",
    "        else:\n",
    "            mid = (lowerBound+upperBound)//2            \n",
    "            recMergeSort(workspace, lowerBound, mid)\n",
    "            recMergeSort(workspace, mid+1, upperBound)\n",
    "            merge(list([i for i in range(upperBound-lowerBound+1)]), lowerBound, mid+1, upperBound)           \n",
    "    \n",
    "def merge(workspace,lowerBound,mid,upperBound):\n",
    "        print(lowerBound,\" \",mid,\" \",upperBound)\n",
    "        cDex=0;\n",
    "        lowReg = lowerBound;\n",
    "        upReg = mid;\n",
    "        while(lowReg<=mid-1 and upReg<=upperBound):\n",
    "            if(arrayA[lowReg]<arrayA[upReg]):\n",
    "                workspace[cDex] = arrayA[lowReg]\n",
    "                cDex+=1\n",
    "                lowReg+=1\n",
    "            else:\n",
    "                workspace[cDex] = arrayA[upReg]\n",
    "                cDex+=1\n",
    "                upReg+=1\n",
    "        while (lowReg<=mid-1):\n",
    "            workspace[cDex] = arrayA[lowReg]\n",
    "            cDex+=1\n",
    "            lowReg+=1\n",
    "        while (upReg<=upperBound):\n",
    "            workspace[cDex] = arrayA[upReg]\n",
    "            cDex+=1\n",
    "            upReg+=1\n",
    "        print(\"temporary array: \",workspace)\n",
    "          \n",
    "        for j in range(upperBound-lowerBound+1):\n",
    "            arrayA[lowerBound+j]=workspace[j]    \n",
    "        print(\"original array: \",arrayA)\n",
    "   \n",
    "arrayA = [64,21,33,70,12,85,44,3,97,24,51,40]   \n",
    "recMergeSort(list([i for i in range(len(arrayA))]),0,len(arrayA)-1);\n",
    "\n"
   ]
  }
 ],
 "metadata": {
  "kernelspec": {
   "display_name": "Python 3",
   "language": "python",
   "name": "python3"
  },
  "language_info": {
   "codemirror_mode": {
    "name": "ipython",
    "version": 3
   },
   "file_extension": ".py",
   "mimetype": "text/x-python",
   "name": "python",
   "nbconvert_exporter": "python",
   "pygments_lexer": "ipython3",
   "version": "3.6.0"
  }
 },
 "nbformat": 4,
 "nbformat_minor": 2
}
