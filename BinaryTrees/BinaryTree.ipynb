{
 "cells": [
  {
   "cell_type": "code",
   "execution_count": 7,
   "metadata": {
    "collapsed": false
   },
   "outputs": [
    {
     "name": "stdout",
     "output_type": "stream",
     "text": [
      "4\n",
      "2\n",
      "1\n",
      "3\n",
      "7\n",
      "6\n",
      "8\n"
     ]
    }
   ],
   "source": [
    "class Node(object):\n",
    "    def __init__(self,value,parent):\n",
    "        self.parent=parent\n",
    "        self.leftChild=None\n",
    "        self.rightChild=None\n",
    "        self.value=value\n",
    "        \n",
    "    def __str__(self):\n",
    "        return str(self.value)\n",
    "        \n",
    "class BinaryTree(object):\n",
    "    def __init__(self):\n",
    "        self.root=None\n",
    "        \n",
    "    def find(self,value):\n",
    "        current = self.root\n",
    "        if current==None:\n",
    "            return \"EmptyTree\"\n",
    "        else:\n",
    "            while(current.value!=value):\n",
    "                    if value>current.value:\n",
    "                        current=current.rightChild\n",
    "                    else:\n",
    "                        current = current.leftChild\n",
    "            return current\n",
    "    def add(self,value):\n",
    "        current = self.root\n",
    "        newNode = Node(value,current)\n",
    "        parent=current\n",
    "        if current==None:\n",
    "            self.root=newNode\n",
    "            return\n",
    "        else:\n",
    "            while(True):\n",
    "                parent=current\n",
    "                if value<current.value:\n",
    "                    current=current.leftChild\n",
    "                    if(current==None):\n",
    "                        newNode = Node(value,parent)\n",
    "                        parent.leftChild=newNode\n",
    "                        return\n",
    "                else:\n",
    "                    current=current.rightChild\n",
    "                    if(current==None):\n",
    "                        newNode = Node(value,parent)\n",
    "                        parent.rightChild=newNode\n",
    "                        return\n",
    "    @staticmethod\n",
    "    def displayTree(node):\n",
    "        if node==None:\n",
    "            return\n",
    "        print(node)           \n",
    "        left=node.leftChild\n",
    "        right=node.rightChild\n",
    "        BinaryTree.displayTree(left)\n",
    "        BinaryTree.displayTree(right)       \n",
    "        \n",
    "    \n",
    "bt = BinaryTree()\n",
    "bt.add(4)\n",
    "bt.add(2)\n",
    "bt.add(1)\n",
    "bt.add(3)\n",
    "bt.add(7)\n",
    "bt.add(6)\n",
    "bt.add(8)\n",
    "bt.displayTree(bt.root)"
   ]
  }
 ],
 "metadata": {
  "anaconda-cloud": {},
  "kernelspec": {
   "display_name": "Python 3",
   "language": "python",
   "name": "python3"
  },
  "language_info": {
   "codemirror_mode": {
    "name": "ipython",
    "version": 3
   },
   "file_extension": ".py",
   "mimetype": "text/x-python",
   "name": "python",
   "nbconvert_exporter": "python",
   "pygments_lexer": "ipython3",
   "version": "3.6.0"
  }
 },
 "nbformat": 4,
 "nbformat_minor": 0
}
