{
 "cells": [
  {
   "cell_type": "markdown",
   "metadata": {},
   "source": [
    "# Лекция 2 \n",
    "## (часть 1)"
   ]
  },
  {
   "cell_type": "markdown",
   "metadata": {},
   "source": [
    "### Булевский тип"
   ]
  },
  {
   "cell_type": "code",
   "execution_count": 1,
   "metadata": {
    "collapsed": true
   },
   "outputs": [],
   "source": [
    "t1 = True\n",
    "t2 = False"
   ]
  },
  {
   "cell_type": "code",
   "execution_count": 2,
   "metadata": {
    "collapsed": false
   },
   "outputs": [
    {
     "name": "stdout",
     "output_type": "stream",
     "text": [
      "True\n",
      "False\n"
     ]
    }
   ],
   "source": [
    "print(t1)\n",
    "print(t2)"
   ]
  },
  {
   "cell_type": "code",
   "execution_count": 3,
   "metadata": {
    "collapsed": false
   },
   "outputs": [
    {
     "data": {
      "text/plain": [
       "bool"
      ]
     },
     "execution_count": 3,
     "metadata": {},
     "output_type": "execute_result"
    }
   ],
   "source": [
    "type(t1)"
   ]
  },
  {
   "cell_type": "code",
   "execution_count": 4,
   "metadata": {
    "collapsed": false
   },
   "outputs": [
    {
     "data": {
      "text/plain": [
       "False"
      ]
     },
     "execution_count": 4,
     "metadata": {},
     "output_type": "execute_result"
    }
   ],
   "source": [
    "t3 = bool()\n",
    "t3"
   ]
  },
  {
   "cell_type": "markdown",
   "metadata": {},
   "source": [
    "Приведение других типов к булевским значениям"
   ]
  },
  {
   "cell_type": "code",
   "execution_count": 5,
   "metadata": {
    "collapsed": false
   },
   "outputs": [
    {
     "name": "stdout",
     "output_type": "stream",
     "text": [
      "False False False False False False False False\n"
     ]
    }
   ],
   "source": [
    "# Значения других типов, интерпретируемые как False:\n",
    "# число 0\n",
    "ft1 = bool(0)\n",
    "ft2 = bool(0.0)\n",
    "\n",
    "ft3 = bool('') # пустая строка\n",
    "# последовательность не содержащая элементов:\n",
    "ft4 = bool(tuple()) # пустой кортеж\n",
    "ft5 = bool(list()) # пустой список\n",
    "\n",
    "ft6 = bool(set()) # пустое множество\n",
    "ft7 = bool(dict()) # пустой словарь\n",
    "\n",
    "ft8 = bool(None) # ссылка на объект None\n",
    "\n",
    "print(ft1, ft2, ft3, ft4, ft5, ft6, ft7, ft8)"
   ]
  },
  {
   "cell_type": "code",
   "execution_count": 6,
   "metadata": {
    "collapsed": false
   },
   "outputs": [
    {
     "name": "stdout",
     "output_type": "stream",
     "text": [
      "True True True True True True True\n"
     ]
    }
   ],
   "source": [
    "# Примеры значений других типов, интерпретируемых как True:\n",
    "# число, отличное от 0\n",
    "tt1 = bool(42)\n",
    "tt2 = bool(42.42)\n",
    "\n",
    "tt3 = bool('a b c') # не пустая строка\n",
    "# последовательность не содержащая элементов:\n",
    "tt4 = bool((1, 2, 3)) # не пустой кортеж\n",
    "tt5 = bool([1, 2, 3]) # не пустой список\n",
    "\n",
    "tt6 = bool({1, 2, 3}) # не пустое множество\n",
    "tt7 = bool({'a':1, 'b':2, 'c':3}) # не пустой словарь\n",
    "\n",
    "print(tt1, tt2, tt3, tt4, tt5, tt6, tt7)"
   ]
  },
  {
   "cell_type": "markdown",
   "metadata": {},
   "source": [
    "Операции с логическим типом"
   ]
  },
  {
   "cell_type": "code",
   "execution_count": 7,
   "metadata": {
    "collapsed": false
   },
   "outputs": [
    {
     "data": {
      "text/plain": [
       "True"
      ]
     },
     "execution_count": 7,
     "metadata": {},
     "output_type": "execute_result"
    }
   ],
   "source": [
    "t1"
   ]
  },
  {
   "cell_type": "code",
   "execution_count": 8,
   "metadata": {
    "collapsed": false
   },
   "outputs": [
    {
     "data": {
      "text/plain": [
       "False"
      ]
     },
     "execution_count": 8,
     "metadata": {},
     "output_type": "execute_result"
    }
   ],
   "source": [
    "not t1"
   ]
  },
  {
   "cell_type": "code",
   "execution_count": 9,
   "metadata": {
    "collapsed": false
   },
   "outputs": [
    {
     "data": {
      "text/plain": [
       "True"
      ]
     },
     "execution_count": 9,
     "metadata": {},
     "output_type": "execute_result"
    }
   ],
   "source": [
    "t1 or t2"
   ]
  },
  {
   "cell_type": "code",
   "execution_count": 10,
   "metadata": {
    "collapsed": false
   },
   "outputs": [
    {
     "data": {
      "text/plain": [
       "False"
      ]
     },
     "execution_count": 10,
     "metadata": {},
     "output_type": "execute_result"
    }
   ],
   "source": [
    "t1 and t2"
   ]
  },
  {
   "cell_type": "markdown",
   "metadata": {},
   "source": [
    "Приоритет:\n",
    "1. not\n",
    "2. and\n",
    "3. or"
   ]
  },
  {
   "cell_type": "markdown",
   "metadata": {},
   "source": [
    "### Операции сравнения"
   ]
  },
  {
   "cell_type": "code",
   "execution_count": 12,
   "metadata": {
    "collapsed": true
   },
   "outputs": [],
   "source": [
    "# создаем переменные:\n",
    "a = 2\n",
    "b = 6"
   ]
  },
  {
   "cell_type": "markdown",
   "metadata": {},
   "source": [
    "Виды сравнений:"
   ]
  },
  {
   "cell_type": "code",
   "execution_count": 13,
   "metadata": {
    "collapsed": false
   },
   "outputs": [
    {
     "data": {
      "text/plain": [
       "False"
      ]
     },
     "execution_count": 13,
     "metadata": {},
     "output_type": "execute_result"
    }
   ],
   "source": [
    "a == b # проверка на равенство"
   ]
  },
  {
   "cell_type": "code",
   "execution_count": 14,
   "metadata": {
    "collapsed": false
   },
   "outputs": [
    {
     "data": {
      "text/plain": [
       "True"
      ]
     },
     "execution_count": 14,
     "metadata": {},
     "output_type": "execute_result"
    }
   ],
   "source": [
    "a != b # проверка на неравенство"
   ]
  },
  {
   "cell_type": "code",
   "execution_count": 15,
   "metadata": {
    "collapsed": false
   },
   "outputs": [
    {
     "data": {
      "text/plain": [
       "True"
      ]
     },
     "execution_count": 15,
     "metadata": {},
     "output_type": "execute_result"
    }
   ],
   "source": [
    "a < b # меньше"
   ]
  },
  {
   "cell_type": "code",
   "execution_count": 16,
   "metadata": {
    "collapsed": false
   },
   "outputs": [
    {
     "data": {
      "text/plain": [
       "True"
      ]
     },
     "execution_count": 16,
     "metadata": {},
     "output_type": "execute_result"
    }
   ],
   "source": [
    "a <= b # меньше или равно"
   ]
  },
  {
   "cell_type": "code",
   "execution_count": 17,
   "metadata": {
    "collapsed": false
   },
   "outputs": [
    {
     "data": {
      "text/plain": [
       "False"
      ]
     },
     "execution_count": 17,
     "metadata": {},
     "output_type": "execute_result"
    }
   ],
   "source": [
    "a > b # больше"
   ]
  },
  {
   "cell_type": "code",
   "execution_count": 18,
   "metadata": {
    "collapsed": false,
    "scrolled": true
   },
   "outputs": [
    {
     "data": {
      "text/plain": [
       "False"
      ]
     },
     "execution_count": 18,
     "metadata": {},
     "output_type": "execute_result"
    }
   ],
   "source": [
    "a >= b # больше или равно"
   ]
  },
  {
   "cell_type": "code",
   "execution_count": 19,
   "metadata": {
    "collapsed": false,
    "scrolled": true
   },
   "outputs": [
    {
     "data": {
      "text/plain": [
       "True"
      ]
     },
     "execution_count": 19,
     "metadata": {},
     "output_type": "execute_result"
    }
   ],
   "source": [
    "# Цепочка сравнений:\n",
    "0 <= a <= 10 # вместо: (0 <= a) and (a <= 10)"
   ]
  },
  {
   "cell_type": "code",
   "execution_count": 20,
   "metadata": {
    "collapsed": false
   },
   "outputs": [
    {
     "data": {
      "text/plain": [
       "True"
      ]
     },
     "execution_count": 20,
     "metadata": {},
     "output_type": "execute_result"
    }
   ],
   "source": [
    "# сравнение значений различных числовых типовв:\n",
    "3.0 < 4"
   ]
  },
  {
   "cell_type": "code",
   "execution_count": 21,
   "metadata": {
    "collapsed": false,
    "scrolled": true
   },
   "outputs": [
    {
     "ename": "TypeError",
     "evalue": "unorderable types: str() < int()",
     "output_type": "error",
     "traceback": [
      "\u001b[1;31m--------------------------------------------------------------------------\u001b[0m",
      "\u001b[1;31mTypeError\u001b[0m                                Traceback (most recent call last)",
      "\u001b[1;32m<ipython-input-21-d6b06851d9ea>\u001b[0m in \u001b[0;36m<module>\u001b[1;34m()\u001b[0m\n\u001b[0;32m      1\u001b[0m \u001b[1;31m# автоматического приведения типов при сравнении (кроме случая числовых типов) нет:\u001b[0m\u001b[1;33m\u001b[0m\u001b[1;33m\u001b[0m\u001b[0m\n\u001b[1;32m----> 2\u001b[1;33m \u001b[1;34m\"three\"\u001b[0m \u001b[1;33m<\u001b[0m \u001b[1;36m4\u001b[0m\u001b[1;33m\u001b[0m\u001b[0m\n\u001b[0m",
      "\u001b[1;31mTypeError\u001b[0m: unorderable types: str() < int()"
     ]
    }
   ],
   "source": [
    "# автоматического приведения типов при сравнении (кроме случая числовых типов) нет:\n",
    "\"three\" < 4 "
   ]
  },
  {
   "cell_type": "markdown",
   "metadata": {},
   "source": [
    "Сравнения для нечисловых типов:"
   ]
  },
  {
   "cell_type": "code",
   "execution_count": 22,
   "metadata": {
    "collapsed": false
   },
   "outputs": [
    {
     "data": {
      "text/plain": [
       "True"
      ]
     },
     "execution_count": 22,
     "metadata": {},
     "output_type": "execute_result"
    }
   ],
   "source": [
    "True > False"
   ]
  },
  {
   "cell_type": "code",
   "execution_count": 23,
   "metadata": {
    "collapsed": false
   },
   "outputs": [
    {
     "data": {
      "text/plain": [
       "True"
      ]
     },
     "execution_count": 23,
     "metadata": {},
     "output_type": "execute_result"
    }
   ],
   "source": [
    "True == True"
   ]
  },
  {
   "cell_type": "code",
   "execution_count": 24,
   "metadata": {
    "collapsed": false
   },
   "outputs": [
    {
     "data": {
      "text/plain": [
       "True"
      ]
     },
     "execution_count": 24,
     "metadata": {},
     "output_type": "execute_result"
    }
   ],
   "source": [
    "None == None"
   ]
  },
  {
   "cell_type": "code",
   "execution_count": 25,
   "metadata": {
    "collapsed": false
   },
   "outputs": [
    {
     "name": "stdout",
     "output_type": "stream",
     "text": [
      "True\n",
      "True\n",
      "False\n",
      "False\n"
     ]
    }
   ],
   "source": [
    "# в случае булевского типа и None эквивалентно\n",
    "print(True is True)\n",
    "print(None is None)\n",
    "\n",
    "# проверка на несовпадение (предпочтительная):\n",
    "print(True is not True) # is not - это не два оператора, а один!\n",
    "print(None is not None)"
   ]
  },
  {
   "cell_type": "markdown",
   "metadata": {},
   "source": [
    "Сравнение последовательностей:"
   ]
  },
  {
   "cell_type": "code",
   "execution_count": 26,
   "metadata": {
    "collapsed": false
   },
   "outputs": [
    {
     "data": {
      "text/plain": [
       "False"
      ]
     },
     "execution_count": 26,
     "metadata": {},
     "output_type": "execute_result"
    }
   ],
   "source": [
    "s1 = 'Hello world'\n",
    "s2 = 'Hello world'\n",
    "s3 = 'Hello'\n",
    "s4 = 'Halo'\n",
    "s5 = 'A'\n",
    "s6 = '1'\n",
    "s1 is s2 # совпадают ли объекты?"
   ]
  },
  {
   "cell_type": "code",
   "execution_count": 27,
   "metadata": {
    "collapsed": false
   },
   "outputs": [
    {
     "data": {
      "text/plain": [
       "True"
      ]
     },
     "execution_count": 27,
     "metadata": {},
     "output_type": "execute_result"
    }
   ],
   "source": [
    "s1 == s2"
   ]
  },
  {
   "cell_type": "code",
   "execution_count": 28,
   "metadata": {
    "collapsed": false
   },
   "outputs": [
    {
     "data": {
      "text/plain": [
       "False"
      ]
     },
     "execution_count": 28,
     "metadata": {},
     "output_type": "execute_result"
    }
   ],
   "source": [
    "s1 == s3"
   ]
  },
  {
   "cell_type": "markdown",
   "metadata": {},
   "source": [
    "Лексикографический порядок используется для операций порядка:"
   ]
  },
  {
   "cell_type": "code",
   "execution_count": 32,
   "metadata": {
    "collapsed": false
   },
   "outputs": [
    {
     "name": "stdout",
     "output_type": "stream",
     "text": [
      "\"Hello world\" > \"Hello\" is True\n"
     ]
    }
   ],
   "source": [
    "print('\"{}\" > \"{}\" is {}'.format(s1, s3, s1 > s3)) # сравнение в лексикографическом порядке"
   ]
  },
  {
   "cell_type": "code",
   "execution_count": 34,
   "metadata": {
    "collapsed": false
   },
   "outputs": [
    {
     "name": "stdout",
     "output_type": "stream",
     "text": [
      "\"Hello\" > \"Halo\" is True\n"
     ]
    }
   ],
   "source": [
    "print('\"{}\" > \"{}\" is {}'.format(s3, s4, s3 > s4))"
   ]
  },
  {
   "cell_type": "code",
   "execution_count": 35,
   "metadata": {
    "collapsed": false
   },
   "outputs": [
    {
     "name": "stdout",
     "output_type": "stream",
     "text": [
      "\"Hello\" > \"Halo\" is True\n"
     ]
    }
   ],
   "source": [
    "print('\"{}\" > \"{}\" is {}'.format(s3, s4, s3 > s4))"
   ]
  },
  {
   "cell_type": "code",
   "execution_count": 36,
   "metadata": {
    "collapsed": false
   },
   "outputs": [
    {
     "name": "stdout",
     "output_type": "stream",
     "text": [
      "\"Halo\" > \"A\" is True\n"
     ]
    }
   ],
   "source": [
    "print('\"{}\" > \"{}\" is {}'.format(s4, s5, s4 > s5))"
   ]
  },
  {
   "cell_type": "code",
   "execution_count": 37,
   "metadata": {
    "collapsed": false,
    "scrolled": true
   },
   "outputs": [
    {
     "name": "stdout",
     "output_type": "stream",
     "text": [
      "\"A\" > \"1\" is True\n"
     ]
    }
   ],
   "source": [
    "print('\"{}\" > \"{}\" is {}'.format(s5, s6, s5 > s6))"
   ]
  },
  {
   "cell_type": "code",
   "execution_count": 39,
   "metadata": {
    "collapsed": true
   },
   "outputs": [],
   "source": [
    "tu1 = (1, 2, 3)\n",
    "tu2 = (1, 3, 3)\n",
    "tu3 = (1, 2)"
   ]
  },
  {
   "cell_type": "code",
   "execution_count": 40,
   "metadata": {
    "collapsed": false,
    "scrolled": true
   },
   "outputs": [
    {
     "name": "stdout",
     "output_type": "stream",
     "text": [
      "\"(1, 2, 3)\" > \"(1, 3, 3)\" is False\n"
     ]
    }
   ],
   "source": [
    "print('\"{}\" > \"{}\" is {}'.format(tu1, tu2, tu1 > tu2))"
   ]
  },
  {
   "cell_type": "code",
   "execution_count": 41,
   "metadata": {
    "collapsed": false,
    "scrolled": true
   },
   "outputs": [
    {
     "name": "stdout",
     "output_type": "stream",
     "text": [
      "\"(1, 2, 3)\" > \"(1, 2)\" is True\n"
     ]
    }
   ],
   "source": [
    "print('\"{}\" > \"{}\" is {}'.format(tu1, tu3, tu1 > tu3))"
   ]
  },
  {
   "cell_type": "markdown",
   "metadata": {},
   "source": [
    "### Условные операторы"
   ]
  },
  {
   "cell_type": "markdown",
   "metadata": {},
   "source": [
    "В языке Python для обозначения блочной структуры используются отступы (вместо фигурных скобок в языках с С-образным синтаксисом или блоков begin - end в Pascal). \n",
    "\n",
    "Так как некоторые синтаксические конструкции языка Python требуют наличия блока кода, Python предоставляет ключевое \n",
    "слово _pass_, которое представляет собой инструкцию, не делающую ровным счетом ничего, и которая может использоваться везде, где  требуется блок кода (или когда мы хотим указать на наличие особого случая), но никаких действий выполнять не требуется. "
   ]
  },
  {
   "cell_type": "markdown",
   "metadata": {},
   "source": [
    "Общий вид синтаксиса условного оператора:\n",
    "\n",
    "if *boolean_expression1*:\n",
    "\n",
    "    suite 1\n",
    "    \n",
    "elif *boolean_expression2*: \n",
    "\n",
    "    suite2\n",
    "    \n",
    "elif *boolean_expressionN*: \n",
    "\n",
    "    suiteN\n",
    "    \n",
    "else: \n",
    "\n",
    "    else_suite\n",
    "    \n",
    "может быть ноль или более предложений elif,\n",
    "\n",
    "блок else не обязательный.\n"
   ]
  },
  {
   "cell_type": "code",
   "execution_count": 42,
   "metadata": {
    "collapsed": true
   },
   "outputs": [],
   "source": [
    "x = 42"
   ]
  },
  {
   "cell_type": "code",
   "execution_count": 43,
   "metadata": {
    "collapsed": false
   },
   "outputs": [
    {
     "name": "stdout",
     "output_type": "stream",
     "text": [
      "x is not False\n"
     ]
    }
   ],
   "source": [
    "if x:\n",
    "    print('x is not False')"
   ]
  },
  {
   "cell_type": "code",
   "execution_count": 44,
   "metadata": {
    "collapsed": false
   },
   "outputs": [
    {
     "name": "stdout",
     "output_type": "stream",
     "text": [
      "x is not False\n"
     ]
    }
   ],
   "source": [
    "if x:\n",
    "    print('x is not False')\n",
    "    y = 10"
   ]
  },
  {
   "cell_type": "code",
   "execution_count": 45,
   "metadata": {
    "collapsed": false
   },
   "outputs": [
    {
     "name": "stdout",
     "output_type": "stream",
     "text": [
      "x is False (or equivalent)\n"
     ]
    }
   ],
   "source": [
    "if not x:\n",
    "    print('x is not False (or equivalent)')\n",
    "    y = 10\n",
    "else:\n",
    "    print('x is False (or equivalent)')\n",
    "    y = 5"
   ]
  },
  {
   "cell_type": "code",
   "execution_count": 46,
   "metadata": {
    "collapsed": true
   },
   "outputs": [],
   "source": [
    "x = -5"
   ]
  },
  {
   "cell_type": "code",
   "execution_count": 47,
   "metadata": {
    "collapsed": false
   },
   "outputs": [
    {
     "name": "stdout",
     "output_type": "stream",
     "text": [
      "x is slightly negative\n"
     ]
    }
   ],
   "source": [
    "if x >= 0:\n",
    "    print('x is positve')\n",
    "elif x >= -10:\n",
    "    print('x is slightly negative')\n",
    "elif x >= -100:\n",
    "    print('x is pretty negative')\n",
    "else:\n",
    "    print('x is totally negative')"
   ]
  },
  {
   "cell_type": "code",
   "execution_count": 48,
   "metadata": {
    "collapsed": false
   },
   "outputs": [],
   "source": [
    "x = 10\n",
    "if x >= 0:\n",
    "    pass # если блок кода обязательный, а ничего выполнять не требуется, то используется оператор pass\n",
    "elif x >= -10:\n",
    "    print('x is slightly negative')\n",
    "elif x >= -100:\n",
    "    print('x is pretty negative')\n",
    "else:\n",
    "    print('x is totally negative')"
   ]
  },
  {
   "cell_type": "code",
   "execution_count": 49,
   "metadata": {
    "collapsed": false
   },
   "outputs": [
    {
     "name": "stdout",
     "output_type": "stream",
     "text": [
      "win!\n",
      "win! (correct)\n"
     ]
    }
   ],
   "source": [
    "tv = True \n",
    "# работающий, но некрасивый способ:\n",
    "if tv == True:\n",
    "    print('win!')\n",
    "    \n",
    "# правильный способ:\n",
    "if tv:\n",
    "    print('win! (correct)')"
   ]
  },
  {
   "cell_type": "markdown",
   "metadata": {},
   "source": [
    "## Циклы"
   ]
  },
  {
   "cell_type": "markdown",
   "metadata": {},
   "source": [
    "### Цикл while"
   ]
  },
  {
   "cell_type": "markdown",
   "metadata": {},
   "source": [
    "Синтаксис оператора цикла while:\n",
    "\n",
    "while *boolean_expression*:\n",
    "\n",
    "    suite\n",
    "\n",
    "else:\n",
    "\n",
    "    else_suite\n",
    "    \n",
    "блок else не обязательный"
   ]
  },
  {
   "cell_type": "code",
   "execution_count": 50,
   "metadata": {
    "collapsed": false
   },
   "outputs": [
    {
     "name": "stdout",
     "output_type": "stream",
     "text": [
      "0\n",
      "1\n",
      "2\n",
      "3\n",
      "4\n"
     ]
    }
   ],
   "source": [
    "i = 0\n",
    "while i < 5:\n",
    "    print(i)\n",
    "    i += 1"
   ]
  },
  {
   "cell_type": "markdown",
   "metadata": {},
   "source": [
    "Операторы break, continue, блок else"
   ]
  },
  {
   "cell_type": "code",
   "execution_count": 51,
   "metadata": {
    "collapsed": false
   },
   "outputs": [
    {
     "name": "stdout",
     "output_type": "stream",
     "text": [
      "8\n"
     ]
    }
   ],
   "source": [
    "st = 'Hello world'\n",
    "target = 'r'\n",
    "\n",
    "# поиск индекса первого вхождения символа target в строку st\n",
    "index = 0 \n",
    "while index < len(st): \n",
    "    if st[index] == target: \n",
    "        break # преждевременный выход из цикла\n",
    "    index += 1 \n",
    "else: # блок else выполняется, если выход из цикла произошел не в результате выполнения оператора break\n",
    "    index = -1 \n",
    "    \n",
    "print(index)"
   ]
  },
  {
   "cell_type": "code",
   "execution_count": 52,
   "metadata": {
    "collapsed": false
   },
   "outputs": [
    {
     "data": {
      "text/plain": [
       "'Heo word'"
      ]
     },
     "execution_count": 52,
     "metadata": {},
     "output_type": "execute_result"
    }
   ],
   "source": [
    "st = 'Hello world'\n",
    "target = 'l'\n",
    "st_wo_t = ''\n",
    "\n",
    "# создание строки, в которой из строки st исключен символ target \n",
    "index = 0 \n",
    "while index < len(st):\n",
    "    cur = st[index]\n",
    "    index += 1\n",
    "    if cur == target:\n",
    "        continue # преждевременное окончание итерации цикла и переход к очередной проверке условия while\n",
    "    st_wo_t += cur\n",
    "    \n",
    "st_wo_t"
   ]
  },
  {
   "cell_type": "code",
   "execution_count": 55,
   "metadata": {
    "collapsed": false
   },
   "outputs": [
    {
     "ename": "NameError",
     "evalue": "name 'get_next_item' is not defined",
     "output_type": "error",
     "traceback": [
      "\u001b[1;31m--------------------------------------------------------------------------\u001b[0m",
      "\u001b[1;31mNameError\u001b[0m                                Traceback (most recent call last)",
      "\u001b[1;32m<ipython-input-55-dcc13043d6d6>\u001b[0m in \u001b[0;36m<module>\u001b[1;34m()\u001b[0m\n\u001b[0;32m      1\u001b[0m \u001b[1;32mwhile\u001b[0m \u001b[1;32mTrue\u001b[0m\u001b[1;33m:\u001b[0m\u001b[1;33m\u001b[0m\u001b[0m\n\u001b[1;32m----> 2\u001b[1;33m     \u001b[0mitem\u001b[0m \u001b[1;33m=\u001b[0m \u001b[0mget_next_item\u001b[0m\u001b[1;33m(\u001b[0m\u001b[1;33m)\u001b[0m\u001b[1;33m\u001b[0m\u001b[0m\n\u001b[0m\u001b[0;32m      3\u001b[0m     \u001b[1;32mif\u001b[0m \u001b[1;32mnot\u001b[0m \u001b[0mitem\u001b[0m\u001b[1;33m:\u001b[0m\u001b[1;33m\u001b[0m\u001b[0m\n\u001b[0;32m      4\u001b[0m         \u001b[1;32mbreak\u001b[0m\u001b[1;33m\u001b[0m\u001b[0m\n\u001b[0;32m      5\u001b[0m     \u001b[0mprocess_item\u001b[0m\u001b[1;33m(\u001b[0m\u001b[0mitem\u001b[0m\u001b[1;33m)\u001b[0m\u001b[1;33m\u001b[0m\u001b[0m\n",
      "\u001b[1;31mNameError\u001b[0m: name 'get_next_item' is not defined"
     ]
    }
   ],
   "source": [
    "while True: \n",
    "    item = get_next_item() \n",
    "    if not item: \n",
    "        break \n",
    "    process_item(item) \n"
   ]
  },
  {
   "cell_type": "markdown",
   "metadata": {},
   "source": [
    "### Цикл for"
   ]
  },
  {
   "cell_type": "markdown",
   "metadata": {},
   "source": [
    "Синтаксис оператора цикла for:\n",
    "\n",
    "for expression in iterable: \n",
    "\n",
    "    for_suite \n",
    "    \n",
    "else: \n",
    "\n",
    "    else_suite \n",
    "\n",
    "блок else не обязательный; внутри цикла могут использоваться операторы break и continue"
   ]
  },
  {
   "cell_type": "markdown",
   "metadata": {},
   "source": [
    "В качестве iterable может использоваться любой тип данных, допускающий выполнение итераций по нему, включая \n",
    "строки (где итерации выполняются по символам строки), списки, кортежи и другие типы коллекций языка Python. "
   ]
  },
  {
   "cell_type": "code",
   "execution_count": 56,
   "metadata": {
    "collapsed": false
   },
   "outputs": [
    {
     "name": "stdout",
     "output_type": "stream",
     "text": [
      "H\n",
      "e\n",
      "l\n",
      "l\n",
      "o\n",
      " \n",
      "w\n",
      "o\n",
      "r\n",
      "l\n",
      "d\n"
     ]
    }
   ],
   "source": [
    "st = 'Hello world'\n",
    "for symb in st:\n",
    "    print(symb)"
   ]
  },
  {
   "cell_type": "markdown",
   "metadata": {},
   "source": [
    "Итерируемый тип данных - это такой тип, который может возвращать свои элементы по одному. Любой объект, имеющий метод \\__iter\\__(), или любая последовательность (то есть объект, имеющий метод \\__getitem\\__(), принимающий целочисленный аргумент со значением от 0 и выше), является итерируемым и может предоставлять итератор. Итератор - это объект, имеющий метод \\__next\\__(), который при каждом вызове возвращает очередной элемент и возбуждает исключение StopIteration после исчерпания всех элементов. "
   ]
  },
  {
   "cell_type": "markdown",
   "metadata": {},
   "source": [
    "Порядок, в котором возвращаются элементы, зависит от итерируемого объекта. В случае списков и кортежей элементы обычно возвращаются в предопределенном порядке, начиная с первого элемента (находящегося в позиции с индексом 0), но другие итераторы возвращают элементы в произвольном порядке - например, итераторы словарей и множеств."
   ]
  },
  {
   "cell_type": "markdown",
   "metadata": {},
   "source": [
    "В качестве выражения expression обычно используется либо единственная переменная, либо последовательность переменных, как правило, в форме кортежа. Если в качестве выражения expression используется кортеж или список, каждый элемент итерируемого объекта iterable распаковывается в элементы expression. "
   ]
  },
  {
   "cell_type": "markdown",
   "metadata": {},
   "source": [
    "Переменные, созданные в выражении expression цикла for ... in, **продолжают существовать после завершения цикла**. Как и любые локальные переменные, они прекращают свое существование после выхода из области видимости, включающей их. "
   ]
  },
  {
   "cell_type": "code",
   "execution_count": 57,
   "metadata": {
    "collapsed": false
   },
   "outputs": [
    {
     "name": "stdout",
     "output_type": "stream",
     "text": [
      "8\n"
     ]
    }
   ],
   "source": [
    "product = 1 \n",
    "# расчет произведения всех элементов кортежа:\n",
    "for i in (1, 2, 4): \n",
    "    product *= i \n",
    "print(product) "
   ]
  },
  {
   "cell_type": "code",
   "execution_count": 58,
   "metadata": {
    "collapsed": false
   },
   "outputs": [
    {
     "name": "stdout",
     "output_type": "stream",
     "text": [
      "8\n"
     ]
    }
   ],
   "source": [
    "product = 1 \n",
    "i = iter([1, 2, 4]) \n",
    "# расчет произведения всех элементов кортежа (аналог цикла for реализованный в цикле while):\n",
    "while True: \n",
    "    try: \n",
    "        product *= next(i) \n",
    "    except StopIteration: \n",
    "        break \n",
    "print(product) "
   ]
  },
  {
   "cell_type": "markdown",
   "metadata": {},
   "source": [
    "Функции range и enumerate:"
   ]
  },
  {
   "cell_type": "markdown",
   "metadata": {},
   "source": [
    "Функция range возвращает целочисленный итератор. Способы обращения к функции range:\n",
    "\n",
    "_range (stop)_\n",
    "\n",
    "С одним аргументом (stop) итератор представляет последовательность целых чисел от 0 до \n",
    "stop - 1.\n",
    "\n",
    "_range (start, stop)_\n",
    "\n",
    "С двумя аргументами (start, stop) - последовательность \n",
    "целых чисел от start до stop - 1.\n",
    "\n",
    "_range (start, stop, step)_\n",
    "\n",
    "С тремя аргументами -  последовательность целых чисел от start до stop - 1 с шагом step.\n",
    "\n",
    "\n"
   ]
  },
  {
   "cell_type": "code",
   "execution_count": 59,
   "metadata": {
    "collapsed": false
   },
   "outputs": [
    {
     "name": "stdout",
     "output_type": "stream",
     "text": [
      "0\n",
      "1\n",
      "2\n",
      "3\n"
     ]
    }
   ],
   "source": [
    "for i in range(4):\n",
    "    print(i)"
   ]
  },
  {
   "cell_type": "markdown",
   "metadata": {},
   "source": [
    "вместо:"
   ]
  },
  {
   "cell_type": "code",
   "execution_count": 61,
   "metadata": {
    "collapsed": false
   },
   "outputs": [
    {
     "name": "stdout",
     "output_type": "stream",
     "text": [
      "0\n",
      "1\n",
      "2\n",
      "3\n"
     ]
    }
   ],
   "source": [
    "i = 0\n",
    "while i < 4:\n",
    "    print(i)\n",
    "    i += 1"
   ]
  },
  {
   "cell_type": "code",
   "execution_count": 62,
   "metadata": {
    "collapsed": false
   },
   "outputs": [
    {
     "name": "stdout",
     "output_type": "stream",
     "text": [
      "3\n",
      "4\n",
      "5\n",
      "6\n"
     ]
    }
   ],
   "source": [
    "for i in range(3, 7):\n",
    "    print(i)"
   ]
  },
  {
   "cell_type": "code",
   "execution_count": 63,
   "metadata": {
    "collapsed": false
   },
   "outputs": [
    {
     "name": "stdout",
     "output_type": "stream",
     "text": [
      "-3\n",
      "-2\n",
      "-1\n",
      "0\n",
      "1\n",
      "2\n"
     ]
    }
   ],
   "source": [
    "for i in range(-3, 3):\n",
    "    print(i)"
   ]
  },
  {
   "cell_type": "code",
   "execution_count": 64,
   "metadata": {
    "collapsed": false
   },
   "outputs": [
    {
     "name": "stdout",
     "output_type": "stream",
     "text": [
      "-3\n",
      "-1\n",
      "1\n",
      "3\n"
     ]
    }
   ],
   "source": [
    "for i in range(-3, 5, 2):\n",
    "    print(i)"
   ]
  },
  {
   "cell_type": "markdown",
   "metadata": {},
   "source": [
    "Синтаксис функции _enumerte_ :\n",
    "\n",
    "_enumerate(i)_\n",
    "\n",
    "_enumerate (i, start)_\n",
    "\n",
    "Обычно используется в циклах for ... in, чтобы получить последовательность кортежей (index, item), где значения индексов начинают отсчитывать от 0 или от значения start; \n"
   ]
  },
  {
   "cell_type": "code",
   "execution_count": 65,
   "metadata": {
    "collapsed": false
   },
   "outputs": [
    {
     "name": "stdout",
     "output_type": "stream",
     "text": [
      "Symbol 'H' has index 0\n",
      "Symbol 'e' has index 1\n",
      "Symbol 'l' has index 2\n",
      "Symbol 'l' has index 3\n",
      "Symbol 'o' has index 4\n",
      "Symbol ' ' has index 5\n",
      "Symbol 'w' has index 6\n",
      "Symbol 'o' has index 7\n",
      "Symbol 'r' has index 8\n",
      "Symbol 'l' has index 9\n",
      "Symbol 'd' has index 10\n"
     ]
    }
   ],
   "source": [
    "st = 'Hello world'\n",
    "for ind, symb in enumerate(st):\n",
    "    print(\"Symbol '{}' has index {}\".format(symb, ind))"
   ]
  },
  {
   "cell_type": "code",
   "execution_count": 66,
   "metadata": {
    "collapsed": false
   },
   "outputs": [
    {
     "name": "stdout",
     "output_type": "stream",
     "text": [
      "Symbol 'H' has number 1\n",
      "Symbol 'e' has number 2\n",
      "Symbol 'l' has number 3\n",
      "Symbol 'l' has number 4\n",
      "Symbol 'o' has number 5\n",
      "Symbol ' ' has number 6\n",
      "Symbol 'w' has number 7\n",
      "Symbol 'o' has number 8\n",
      "Symbol 'r' has number 9\n",
      "Symbol 'l' has number 10\n",
      "Symbol 'd' has number 11\n"
     ]
    }
   ],
   "source": [
    "st = 'Hello world'\n",
    "for num, symb in enumerate(st, 1):\n",
    "    print(\"Symbol '{}' has number {}\".format(symb, num))"
   ]
  }
 ],
 "metadata": {
  "anaconda-cloud": {},
  "kernelspec": {
   "display_name": "Python [Root]",
   "language": "python",
   "name": "Python [Root]"
  },
  "language_info": {
   "codemirror_mode": {
    "name": "ipython",
    "version": 3
   },
   "file_extension": ".py",
   "mimetype": "text/x-python",
   "name": "python",
   "nbconvert_exporter": "python",
   "pygments_lexer": "ipython3",
   "version": "3.5.2"
  }
 },
 "nbformat": 4,
 "nbformat_minor": 0
}
