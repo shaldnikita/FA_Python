{
 "cells": [
  {
   "cell_type": "markdown",
   "metadata": {},
   "source": [
    "# Введение в функциональное программирование"
   ]
  },
  {
   "cell_type": "markdown",
   "metadata": {},
   "source": [
    "### Парадигмы и идиомы программирования\n",
    "\n",
    "Парадигма программирования: подход к программированию основанный на наборе принципов или некоторой теории.\n",
    "\n",
    "Разные парадигмы программирования, это разные способы мышления.\n",
    "\n",
    "Идиомы программирования, это шаблоны использования возможностей языка программирования.\n",
    "\n",
    "paradigm: approach to programming based on a set of principles or theory different paradigms: different ways of thinking idioms: patterns for using language features"
   ]
  },
  {
   "cell_type": "markdown",
   "metadata": {},
   "source": [
    "### Парадигмы программирования:\n",
    "\n",
    "__Императивное программирование__\n",
    "\n",
    "(Как решить задачу?)\n",
    "\n",
    "* Процедурное программирование\n",
    "* Объектно-ориентированное\n",
    "\n",
    "__Декларативное программирование__\n",
    "\n",
    "(какую задачу решить?)\n",
    "\n",
    "* Функциональное программирование\n",
    "* Логическое программирование"
   ]
  },
  {
   "cell_type": "markdown",
   "metadata": {},
   "source": [
    "Принцпи универасальности (возможность выполнить любые вычисления)."
   ]
  },
  {
   "cell_type": "markdown",
   "metadata": {},
   "source": [
    "### Императивное программирование\n",
    "\n",
    "Императивное программирование это последовательность инструкций для компьютера (компьютера с архитектурой фон Неймана)\n",
    "\n",
    "* содержимое памяти представляет собос состояние компьютера\n",
    "* выражения изменяют переменные (т.е. переменные являются изменяемыми (mutable))\n",
    "    \n",
    "Для императивного программирования характерны:\n",
    "* присваивания значений переменным\n",
    "* управляющие структуры (такие как циклы, условные операторы и пр.)"
   ]
  },
  {
   "cell_type": "code",
   "execution_count": 40,
   "metadata": {
    "collapsed": false
   },
   "outputs": [],
   "source": [
    "# Пример поиска наибольшего делителя в императивном стиле:\n",
    "\n",
    "def gcd_imp(x, y): \n",
    "    r = 0 \n",
    "    while y > 0: \n",
    "        r = x % y \n",
    "        print('x: {}, y: {}, r:{}'.format(x, y, r))\n",
    "        x = y \n",
    "        y = r \n",
    "    return x"
   ]
  },
  {
   "cell_type": "code",
   "execution_count": 41,
   "metadata": {
    "collapsed": false
   },
   "outputs": [
    {
     "name": "stdout",
     "output_type": "stream",
     "text": [
      "x: 9702, y: 945, r:252\n",
      "x: 945, y: 252, r:189\n",
      "x: 252, y: 189, r:63\n",
      "x: 189, y: 63, r:0\n"
     ]
    },
    {
     "data": {
      "text/plain": [
       "63"
      ]
     },
     "execution_count": 41,
     "metadata": {},
     "output_type": "execute_result"
    }
   ],
   "source": [
    "gcd_imp(9702, 945)"
   ]
  },
  {
   "cell_type": "markdown",
   "metadata": {},
   "source": [
    "Ключевые события в мире императивных языков программирования:\n",
    "* Fortran (1957 г.)\n",
    "* ALGOL (1960 г.)\n",
    "* C (1972 г.)\n",
    "* Ada (1983 г.)\n",
    "* Java (1995 г.)"
   ]
  },
  {
   "cell_type": "markdown",
   "metadata": {},
   "source": [
    "### Функциональное программирование\n",
    "\n",
    "Функциона́льное программи́рование — парадигма программирования, в которой процесс вычисления трактуется как вычисление значений функций в математическом понимании последних (в отличие от функций как подпрограмм в процедурном программировании). Функциональное программирование предполагает обходиться вычислением результатов функций от исходных данных и результатов других функций, и не предполагает явного хранения состояния программы. Соответственно, не предполагает оно и изменяемости этого состояния.\n",
    "\n",
    "Основано на Лямбда-исчислении (λ-исчисление), базирующемся на двух операциях: абстрации (операции, позволяющей конструировать функции) и аппликации (операции вызова функции).\n",
    "\n",
    "Определяет программу как вызов фукнции (аппликация).\n",
    "\n",
    "Принципы функционального программирования:\n",
    "* вызов функции для одних и тех же значений параметров должен возвращать одинаковый результат (чистые (pure) функции)\n",
    "* изменения контекста (внешних переменных) при вызове функции определяется как побочный эффект (нежелателен!)\n",
    "* изменяемость (mutation) переменных нежелательна\n",
    "* поддержка функций высших порядков (вызов функций для функций)"
   ]
  },
  {
   "cell_type": "code",
   "execution_count": 44,
   "metadata": {
    "collapsed": true
   },
   "outputs": [],
   "source": [
    "# Пример поиска наибольшего делителя в функциональном стиле:\n",
    "\n",
    "def gcd_fnc(x, y): \n",
    "    print('x: {}, y: {}'.format(x, y))\n",
    "    if y == 0: \n",
    "        return x \n",
    "    else: \n",
    "        return gcd_fnc(y, x % y) # рекурсивный вызов функции"
   ]
  },
  {
   "cell_type": "code",
   "execution_count": 45,
   "metadata": {
    "collapsed": false
   },
   "outputs": [
    {
     "name": "stdout",
     "output_type": "stream",
     "text": [
      "x: 9702, y: 945\n",
      "x: 945, y: 252\n",
      "x: 252, y: 189\n",
      "x: 189, y: 63\n",
      "x: 63, y: 0\n"
     ]
    },
    {
     "data": {
      "text/plain": [
       "63"
      ]
     },
     "execution_count": 45,
     "metadata": {},
     "output_type": "execute_result"
    }
   ],
   "source": [
    "gcd_fnc(9702, 945)"
   ]
  },
  {
   "cell_type": "markdown",
   "metadata": {},
   "source": [
    "![](recurs1.png)"
   ]
  },
  {
   "cell_type": "code",
   "execution_count": 50,
   "metadata": {
    "collapsed": true
   },
   "outputs": [],
   "source": [
    "# Источником побочных переменных является использование глобальных переменных:\n",
    "    \n",
    "factor = 0 \n",
    "\n",
    "def multiples(n): \n",
    "    global factor \n",
    "    factor = factor + 1 \n",
    "    return factor * n"
   ]
  },
  {
   "cell_type": "code",
   "execution_count": 51,
   "metadata": {
    "collapsed": false
   },
   "outputs": [
    {
     "data": {
      "text/plain": [
       "2"
      ]
     },
     "execution_count": 51,
     "metadata": {},
     "output_type": "execute_result"
    }
   ],
   "source": [
    "multiples(2)"
   ]
  },
  {
   "cell_type": "code",
   "execution_count": 54,
   "metadata": {
    "collapsed": false
   },
   "outputs": [
    {
     "data": {
      "text/plain": [
       "8"
      ]
     },
     "execution_count": 54,
     "metadata": {},
     "output_type": "execute_result"
    }
   ],
   "source": [
    "multiples(2) # Резальтаты вызова функции с одним и тем же параметром различаются!"
   ]
  },
  {
   "cell_type": "code",
   "execution_count": 55,
   "metadata": {
    "collapsed": false
   },
   "outputs": [
    {
     "data": {
      "text/plain": [
       "10"
      ]
     },
     "execution_count": 55,
     "metadata": {},
     "output_type": "execute_result"
    }
   ],
   "source": [
    "multiples(2)"
   ]
  },
  {
   "cell_type": "code",
   "execution_count": 57,
   "metadata": {
    "collapsed": true
   },
   "outputs": [],
   "source": [
    "# Источником побочных переменных так же является использование состояния объекта (или функции):\n",
    "\n",
    "class Multiplier: \n",
    "    def __init__(self):\n",
    "        self.factor = 0 \n",
    "        \n",
    "    def multiples(self, n): \n",
    "        self.factor = self.factor + 1 \n",
    "        return self.factor * n"
   ]
  },
  {
   "cell_type": "code",
   "execution_count": 58,
   "metadata": {
    "collapsed": true
   },
   "outputs": [],
   "source": [
    "m = Multiplier()"
   ]
  },
  {
   "cell_type": "code",
   "execution_count": 59,
   "metadata": {
    "collapsed": false
   },
   "outputs": [
    {
     "data": {
      "text/plain": [
       "2"
      ]
     },
     "execution_count": 59,
     "metadata": {},
     "output_type": "execute_result"
    }
   ],
   "source": [
    "m.multiples(2)"
   ]
  },
  {
   "cell_type": "code",
   "execution_count": 60,
   "metadata": {
    "collapsed": false
   },
   "outputs": [
    {
     "data": {
      "text/plain": [
       "4"
      ]
     },
     "execution_count": 60,
     "metadata": {},
     "output_type": "execute_result"
    }
   ],
   "source": [
    "m.multiples(2)"
   ]
  },
  {
   "cell_type": "code",
   "execution_count": 61,
   "metadata": {
    "collapsed": true
   },
   "outputs": [],
   "source": [
    "# Источником побочных эффектов может быть ввод/вывод: \n",
    "\n",
    "def read_byte(f): \n",
    "    return f.read(1)"
   ]
  },
  {
   "cell_type": "code",
   "execution_count": 62,
   "metadata": {
    "collapsed": true
   },
   "outputs": [],
   "source": [
    "# источником побочных эффектов может быть использование датчика случайных чисел:\n",
    "\n",
    "import random \n",
    "\n",
    "def get_random(n): \n",
    "    return random.randrange(1, n + 1)"
   ]
  },
  {
   "cell_type": "markdown",
   "metadata": {},
   "source": [
    "### Побочные эффекты\n",
    "\n",
    "Отрицательные моменты побочных эффектов:\n",
    "* тяжелее тестировать программу\n",
    "* тяжелее делать программы для параллельных вычислений (параллельной работы на нескольких ядрах / процессорах / компьютерах)\n",
    "* тяжелее производить формальную верефикацию (проверку) программы\n",
    "\n",
    "Но, можем ли мы писать программы без побочных эффектов? Или как минимум разделять части программы с побочным эффектом и без."
   ]
  },
  {
   "cell_type": "markdown",
   "metadata": {},
   "source": [
    "Ключевые события в мире функциональных языков программирования:\n",
    "* Lisp (1957 г.)\n",
    "* ML (1973 г.)\n",
    "* Haskell (1990 г.)"
   ]
  },
  {
   "cell_type": "markdown",
   "metadata": {},
   "source": [
    "Мультипарадигменные функциональные языки программирования поддерживающие объектно-ориентированный подход:\n",
    "* Ocaml\n",
    "* F#\n",
    "* Scala \n",
    "\n",
    "Императивные языки с поддержкой возможностей функционального подхода:\n",
    "* Python\n",
    "* Ruby\n",
    "* C#\n",
    "* Java "
   ]
  },
  {
   "cell_type": "markdown",
   "metadata": {},
   "source": [
    "### Что делает язык функциональным или императивным?\n",
    "\n",
    "Functions:\n",
    "* Functions as first-class citizens (функции \"граждане первого класса\")\n",
    "* Higher-order functions (функции высшего порядка)\n",
    "* Pure functions (функции без побочных эффектов)\n",
    "* Recursion, tail recursion (рекурся, хвостовая рекурсия)\n",
    "\n",
    "Data:\n",
    "* Immutable data structures (неизменяемые структуры данных)\n",
    "* Avoid state \n",
    "\n",
    "Idioms:\n",
    "* Iterators, sequences, lazy evaluation, pattern matching, monads...."
   ]
  },
  {
   "cell_type": "markdown",
   "metadata": {},
   "source": [
    "### Поддержка функционального программирования в Python\n",
    "\n",
    "PRO:\n",
    "* функции \"граждане первого класса\"\n",
    "* лямбда-функции (анонимные функции)\n",
    "* Поддержка функциональных идом в стандартной библотеке: map/filter/reduce, itertools, operator\n",
    "* Генераторы могут использоваться для ленивых вычислений (вычислений по требованию)\n",
    "\n",
    "CONTRA:\n",
    "* Невозможно разделить функции с побочным эффектом и без\n",
    "* Изменяемые переменные\n",
    "* Дорогостоящие операции копирования в памяти\n",
    "* Императивный стиль для циклов\n",
    "* Отсутствие оптимизации для хвостовой рекурсии\n",
    "* Нет синтаксиса для проверки шаблонов\n",
    "* Система типов базируется только на классах\n",
    "* Нет механизма перегрузки функций\n",
    "* В стандартной библиотеке не реализован механизм построения композиции функций\n",
    "* Имеется только императивный механизм обработки ошибок"
   ]
  },
  {
   "cell_type": "markdown",
   "metadata": {},
   "source": [
    "## Функции - граждане первого класса в Python"
   ]
  },
  {
   "cell_type": "markdown",
   "metadata": {},
   "source": [
    "Это означает, что функции можно динамически создвать и уничтожать, передвать их в другие функции, возвращать их как значения и так далее."
   ]
  },
  {
   "cell_type": "code",
   "execution_count": 64,
   "metadata": {
    "collapsed": true
   },
   "outputs": [],
   "source": [
    "def add(a, b):\n",
    "    return a + b"
   ]
  },
  {
   "cell_type": "code",
   "execution_count": 65,
   "metadata": {
    "collapsed": false
   },
   "outputs": [
    {
     "data": {
      "text/plain": [
       "5"
      ]
     },
     "execution_count": 65,
     "metadata": {},
     "output_type": "execute_result"
    }
   ],
   "source": [
    "add(2, 3)"
   ]
  },
  {
   "cell_type": "code",
   "execution_count": 66,
   "metadata": {
    "collapsed": false
   },
   "outputs": [
    {
     "data": {
      "text/plain": [
       "<function __main__.add>"
      ]
     },
     "execution_count": 66,
     "metadata": {},
     "output_type": "execute_result"
    }
   ],
   "source": [
    "f = add\n",
    "f"
   ]
  },
  {
   "cell_type": "code",
   "execution_count": 67,
   "metadata": {
    "collapsed": false
   },
   "outputs": [
    {
     "data": {
      "text/plain": [
       "5"
      ]
     },
     "execution_count": 67,
     "metadata": {},
     "output_type": "execute_result"
    }
   ],
   "source": [
    "f(2, 3)"
   ]
  },
  {
   "cell_type": "code",
   "execution_count": 72,
   "metadata": {
    "collapsed": true
   },
   "outputs": [],
   "source": [
    "# Применение: ветвление с использованием словарей:\n",
    "\n",
    "def insert():\n",
    "    print('Inserting ...')\n",
    "    \n",
    "def delete():\n",
    "    print('Deleting ...')\n",
    "    \n",
    "def update():\n",
    "    print('Updating ...')    \n",
    "    \n",
    "def test():\n",
    "    print('Testing ...')    "
   ]
  },
  {
   "cell_type": "code",
   "execution_count": 73,
   "metadata": {
    "collapsed": false
   },
   "outputs": [
    {
     "name": "stdout",
     "output_type": "stream",
     "text": [
      "Введите комнаду (i/d/u/t)i\n",
      "Inserting ...\n"
     ]
    }
   ],
   "source": [
    "command = input('Введите комнаду (i/d/u/t)')\n",
    "\n",
    "if command == 'i':\n",
    "    insert()\n",
    "elif command == 'd':\n",
    "    delete()\n",
    "elif command == 'u':\n",
    "    update()\n",
    "elif command == 't':\n",
    "    test()\n",
    "else:\n",
    "    print('Неправильное имя команды.')"
   ]
  },
  {
   "cell_type": "code",
   "execution_count": 74,
   "metadata": {
    "collapsed": false,
    "scrolled": true
   },
   "outputs": [
    {
     "name": "stdout",
     "output_type": "stream",
     "text": [
      "Введите комнаду (i/d/u/t)t\n",
      "Testing ...\n"
     ]
    }
   ],
   "source": [
    "com_d = dict(i=insert, d=delete, u=update, t=test)\n",
    "\n",
    "command = input('Введите комнаду (i/d/u/t)')\n",
    "com_d[command]()"
   ]
  },
  {
   "cell_type": "code",
   "execution_count": 69,
   "metadata": {
    "collapsed": true
   },
   "outputs": [],
   "source": [
    "# лямбда функции:\n",
    "add2 = lambda a, b: a + b"
   ]
  },
  {
   "cell_type": "code",
   "execution_count": 70,
   "metadata": {
    "collapsed": false
   },
   "outputs": [
    {
     "data": {
      "text/plain": [
       "5"
      ]
     },
     "execution_count": 70,
     "metadata": {},
     "output_type": "execute_result"
    }
   ],
   "source": [
    "add2(2, 3)"
   ]
  },
  {
   "cell_type": "code",
   "execution_count": 75,
   "metadata": {
    "collapsed": true
   },
   "outputs": [],
   "source": [
    "import collections"
   ]
  },
  {
   "cell_type": "code",
   "execution_count": 82,
   "metadata": {
    "collapsed": false
   },
   "outputs": [
    {
     "name": "stdout",
     "output_type": "stream",
     "text": [
      "Введите комнаду (i/d/u/t)x\n",
      "Неправильное имя команды\n"
     ]
    }
   ],
   "source": [
    "other = lambda: print('Неправильное имя команды')\n",
    "\n",
    "com_dd = collections.defaultdict(lambda: other, com_d.items())\n",
    "\n",
    "command = input('Введите комнаду (i/d/u/t)')\n",
    "com_dd[command]()"
   ]
  },
  {
   "cell_type": "markdown",
   "metadata": {},
   "source": [
    "Ограничения создания лямбда-функций:\n",
    "* в теле функции может быть заключено только одно выражение\n",
    "* значение выражения всега возвращается, как результат работы функции"
   ]
  },
  {
   "cell_type": "markdown",
   "metadata": {},
   "source": [
    "### Глобальные и локальные переменные"
   ]
  },
  {
   "cell_type": "markdown",
   "metadata": {},
   "source": [
    "Глобальные переменные - это переменные, объявленные в программе вне функции. \n",
    "В Pythoп глобальные персменные видны в любой части модуля, включая функции."
   ]
  },
  {
   "cell_type": "code",
   "execution_count": 92,
   "metadata": {
    "collapsed": true
   },
   "outputs": [],
   "source": [
    "def func(glob2): \n",
    "    print(\"Значение глобальной nеременной glob1\", glob1)     \n",
    "    glob2 += 10 \n",
    "    print(\"Значение локальное nеременной glob2\", glob2)     "
   ]
  },
  {
   "cell_type": "code",
   "execution_count": 94,
   "metadata": {
    "collapsed": false
   },
   "outputs": [
    {
     "name": "stdout",
     "output_type": "stream",
     "text": [
      "Значение глобальной nеременной glob1 10\n",
      "Значение локальное nеременной glob2 87\n",
      "Значение глобальной nеременной glob2 5\n"
     ]
    }
   ],
   "source": [
    "glob1 = 10\n",
    "glob2 = 5\n",
    "func(77)\n",
    "print(\"Значение глобальной nеременной glob2\", glob2)"
   ]
  },
  {
   "cell_type": "markdown",
   "metadata": {},
   "source": [
    "Переменной glob2 внутри функции присваивается значение, переданное при вызове функции.\n",
    "По этой причине создается новое имя glob2, которое является локальным. \n",
    "Все изменения этой переменной внутри функции не затронут значение одноименной глобальной переменной. "
   ]
  },
  {
   "cell_type": "markdown",
   "metadata": {},
   "source": [
    "_Локальные переменные_ - это переменные, которым внутри функции присваивается значение.\n",
    "Если имя локальной переменной совпадает с именем глобальной перемснной, \n",
    "то все операции внутри функции осуществляются с локальной переменной, \n",
    "а значение глобальной переменной не изменяется. \n",
    "Локальные персменные видны только внутри тела функции."
   ]
  },
  {
   "cell_type": "code",
   "execution_count": 98,
   "metadata": {
    "collapsed": true
   },
   "outputs": [],
   "source": [
    "def func2(): \n",
    "    local = 77 # Локальная переменная \n",
    "    glob = 25 # Локальная переменная \n",
    "    print(\"Значение glob внутри функции = \", glob) "
   ]
  },
  {
   "cell_type": "code",
   "execution_count": 99,
   "metadata": {
    "collapsed": false
   },
   "outputs": [
    {
     "name": "stdout",
     "output_type": "stream",
     "text": [
      "Значение glob внутри функции =  25\n",
      "Значение glob вне функции =  10\n"
     ]
    }
   ],
   "source": [
    "glob = 10 # Глобальная переменная \n",
    "func2() # Вызываем функцию \n",
    "print(\"Значение glob вне функции = \", glob) "
   ]
  },
  {
   "cell_type": "code",
   "execution_count": 100,
   "metadata": {
    "collapsed": false,
    "scrolled": true
   },
   "outputs": [
    {
     "ename": "NameError",
     "evalue": "name 'local' is not defined",
     "output_type": "error",
     "traceback": [
      "\u001b[1;31m---------------------------------------------------------------------------\u001b[0m",
      "\u001b[1;31mNameError\u001b[0m                                 Traceback (most recent call last)",
      "\u001b[1;32m<ipython-input-100-4edbdd527e3c>\u001b[0m in \u001b[0;36m<module>\u001b[1;34m()\u001b[0m\n\u001b[1;32m----> 1\u001b[1;33m \u001b[0mprint\u001b[0m\u001b[1;33m(\u001b[0m\u001b[0mlocal\u001b[0m\u001b[1;33m)\u001b[0m\u001b[1;33m\u001b[0m\u001b[0m\n\u001b[0m",
      "\u001b[1;31mNameError\u001b[0m: name 'local' is not defined"
     ]
    }
   ],
   "source": [
    "print(local)"
   ]
  },
  {
   "cell_type": "markdown",
   "metadata": {},
   "source": [
    "Для того чтобы значение глобальной переменной можно было изменить внутри функции, \n",
    "необходимо объявить переменную глобальной с помощью ключевого слова global. "
   ]
  },
  {
   "cell_type": "code",
   "execution_count": 103,
   "metadata": {
    "collapsed": true
   },
   "outputs": [],
   "source": [
    "def func2(): \n",
    "    local = 77 # Локальная переменная \n",
    "    global glob\n",
    "    glob = 25 # Локальная переменная \n",
    "    print(\"Значение glob внутри функции = \", glob) "
   ]
  },
  {
   "cell_type": "code",
   "execution_count": 104,
   "metadata": {
    "collapsed": false
   },
   "outputs": [
    {
     "name": "stdout",
     "output_type": "stream",
     "text": [
      "Значение glob внутри функции =  25\n",
      "Значение glob вне функции =  25\n"
     ]
    }
   ],
   "source": [
    "glob = 10 # Глобальная переменная \n",
    "func2() # Вызываем функцию \n",
    "print(\"Значение glob вне функции = \", glob) "
   ]
  },
  {
   "cell_type": "markdown",
   "metadata": {},
   "source": [
    "Поиск идентификатора, используемого внутри функции, будет производиться в следующем порядке: \n",
    "1. Поиск объявления идентификатора внутри функции (в локальной области видимости). \n",
    "2. Поиск объявления идентификатора в глобальной области. \n",
    "3. Поиск во встроенной области видимости (встроенные функции, классы и т. д.)."
   ]
  },
  {
   "cell_type": "markdown",
   "metadata": {},
   "source": [
    "## Вложенные функции и замыкания"
   ]
  },
  {
   "cell_type": "markdown",
   "metadata": {},
   "source": [
    "В Python одну функцию можно вложить в другую функцию, причем уровень вложенности неограничен.\n",
    "В этом случае вложенная функция получает свою собственную локальную область видимости и\n",
    "имеет достуn к идентификаторам внутри функции-родителя."
   ]
  },
  {
   "cell_type": "markdown",
   "metadata": {},
   "source": [
    "Вложенные функции могут создаваться в целях защиты их от всего что происходит вне функции (инкапсуляции):"
   ]
  },
  {
   "cell_type": "code",
   "execution_count": 4,
   "metadata": {
    "collapsed": false
   },
   "outputs": [],
   "source": [
    "def outer(num1):\n",
    "    def inner_increment(num1):  # hidden from outer code\n",
    "        return num1 + 1\n",
    "    num2 = inner_increment(num1)\n",
    "    print(num1, num2)"
   ]
  },
  {
   "cell_type": "code",
   "execution_count": 5,
   "metadata": {
    "collapsed": false
   },
   "outputs": [
    {
     "name": "stdout",
     "output_type": "stream",
     "text": [
      "10 11\n"
     ]
    }
   ],
   "source": [
    "outer(10)"
   ]
  },
  {
   "cell_type": "code",
   "execution_count": 6,
   "metadata": {
    "collapsed": false
   },
   "outputs": [
    {
     "ename": "NameError",
     "evalue": "name 'inner_increment' is not defined",
     "output_type": "error",
     "traceback": [
      "\u001b[1;31m---------------------------------------------------------------------------\u001b[0m",
      "\u001b[1;31mNameError\u001b[0m                                 Traceback (most recent call last)",
      "\u001b[1;32m<ipython-input-6-30154ee7d86e>\u001b[0m in \u001b[0;36m<module>\u001b[1;34m()\u001b[0m\n\u001b[1;32m----> 1\u001b[1;33m \u001b[0minner_increment\u001b[0m\u001b[1;33m(\u001b[0m\u001b[1;36m10\u001b[0m\u001b[1;33m)\u001b[0m \u001b[1;31m# без специальных действий доступ к внутренней функции извне невозможен\u001b[0m\u001b[1;33m\u001b[0m\u001b[0m\n\u001b[0m",
      "\u001b[1;31mNameError\u001b[0m: name 'inner_increment' is not defined"
     ]
    }
   ],
   "source": [
    "inner_increment(10) # без специальных действий доступ к внутренней функции извне невозможен"
   ]
  },
  {
   "cell_type": "markdown",
   "metadata": {},
   "source": [
    "Использование внутренних функций для избавления от повторяющихся фрагментов кода в одной функции (применение принципа DRY).\n",
    "\n",
    "Don’t repeat yourself, DRY (рус. не повторяйся) — это принцип разработки программного обеспечения, нацеленный на снижение повторения информации различного рода, особенно в системах со множеством слоёв абстрагирования. Принцип DRY формулируется как: «Каждая часть знания должна иметь единственное, непротиворечивое и авторитетное представление в рамках системы»"
   ]
  },
  {
   "cell_type": "code",
   "execution_count": 7,
   "metadata": {
    "collapsed": true
   },
   "outputs": [],
   "source": [
    "def process(file_name):\n",
    "    def do_stuff(file_process):\n",
    "        for line in file_process:\n",
    "            print(line)\n",
    "    if isinstance(file_name, str):\n",
    "        with open(file_name, 'r') as f:\n",
    "            do_stuff(f)\n",
    "    else:\n",
    "        do_stuff(file_name)"
   ]
  },
  {
   "cell_type": "markdown",
   "metadata": {},
   "source": [
    "Вложенная функция получает свою собственную локальную область видимости и имеет достуn к идентификаторам внутри функции-родителя. Таким образом, помимо локальной, глобальной и встроенной областей видимости добавляется вложенная область видимости. При этом поиск идентификаторов вначале производится внутри вложенной функции, затем внутри функции-родителя, далее в функциях более высокого уровня и лишь потом в глобальной и встроенных областях видимости. "
   ]
  },
  {
   "cell_type": "code",
   "execution_count": 8,
   "metadata": {
    "collapsed": true
   },
   "outputs": [],
   "source": [
    "def f_lvl_1(x):\n",
    "    y = 2\n",
    "    def f_lvl_2():\n",
    "        print('lvl_2 x = ', x)\n",
    "        print('lvl_2 y = ', y)\n",
    "        y = 3\n",
    "        print('lvl_2 y = ', y)\n",
    "    print('lvl_1 x = ', x)\n",
    "    print('lvl_1 y = ', y)\n",
    "    f_lvl_2()    \n",
    "    print('lvl_1 x = ', x)\n",
    "    print('lvl_1 y = ', y)"
   ]
  },
  {
   "cell_type": "code",
   "execution_count": 9,
   "metadata": {
    "collapsed": false,
    "scrolled": true
   },
   "outputs": [
    {
     "name": "stdout",
     "output_type": "stream",
     "text": [
      "lvl_1 x =  10\n",
      "lvl_1 y =  2\n",
      "lvl_2 x =  10\n"
     ]
    },
    {
     "ename": "UnboundLocalError",
     "evalue": "local variable 'y' referenced before assignment",
     "output_type": "error",
     "traceback": [
      "\u001b[1;31m---------------------------------------------------------------------------\u001b[0m",
      "\u001b[1;31mUnboundLocalError\u001b[0m                         Traceback (most recent call last)",
      "\u001b[1;32m<ipython-input-9-ddf541cddcb6>\u001b[0m in \u001b[0;36m<module>\u001b[1;34m()\u001b[0m\n\u001b[1;32m----> 1\u001b[1;33m \u001b[0mf_lvl_1\u001b[0m\u001b[1;33m(\u001b[0m\u001b[1;36m10\u001b[0m\u001b[1;33m)\u001b[0m\u001b[1;33m\u001b[0m\u001b[0m\n\u001b[0m",
      "\u001b[1;32m<ipython-input-8-72e00c4ee166>\u001b[0m in \u001b[0;36mf_lvl_1\u001b[1;34m(x)\u001b[0m\n\u001b[0;32m      8\u001b[0m     \u001b[0mprint\u001b[0m\u001b[1;33m(\u001b[0m\u001b[1;34m'lvl_1 x = '\u001b[0m\u001b[1;33m,\u001b[0m \u001b[0mx\u001b[0m\u001b[1;33m)\u001b[0m\u001b[1;33m\u001b[0m\u001b[0m\n\u001b[0;32m      9\u001b[0m     \u001b[0mprint\u001b[0m\u001b[1;33m(\u001b[0m\u001b[1;34m'lvl_1 y = '\u001b[0m\u001b[1;33m,\u001b[0m \u001b[0my\u001b[0m\u001b[1;33m)\u001b[0m\u001b[1;33m\u001b[0m\u001b[0m\n\u001b[1;32m---> 10\u001b[1;33m     \u001b[0mf_lvl_2\u001b[0m\u001b[1;33m(\u001b[0m\u001b[1;33m)\u001b[0m\u001b[1;33m\u001b[0m\u001b[0m\n\u001b[0m\u001b[0;32m     11\u001b[0m     \u001b[0mprint\u001b[0m\u001b[1;33m(\u001b[0m\u001b[1;34m'lvl_1 x = '\u001b[0m\u001b[1;33m,\u001b[0m \u001b[0mx\u001b[0m\u001b[1;33m)\u001b[0m\u001b[1;33m\u001b[0m\u001b[0m\n\u001b[0;32m     12\u001b[0m     \u001b[0mprint\u001b[0m\u001b[1;33m(\u001b[0m\u001b[1;34m'lvl_1 y = '\u001b[0m\u001b[1;33m,\u001b[0m \u001b[0my\u001b[0m\u001b[1;33m)\u001b[0m\u001b[1;33m\u001b[0m\u001b[0m\n",
      "\u001b[1;32m<ipython-input-8-72e00c4ee166>\u001b[0m in \u001b[0;36mf_lvl_2\u001b[1;34m()\u001b[0m\n\u001b[0;32m      3\u001b[0m     \u001b[1;32mdef\u001b[0m \u001b[0mf_lvl_2\u001b[0m\u001b[1;33m(\u001b[0m\u001b[1;33m)\u001b[0m\u001b[1;33m:\u001b[0m\u001b[1;33m\u001b[0m\u001b[0m\n\u001b[0;32m      4\u001b[0m         \u001b[0mprint\u001b[0m\u001b[1;33m(\u001b[0m\u001b[1;34m'lvl_2 x = '\u001b[0m\u001b[1;33m,\u001b[0m \u001b[0mx\u001b[0m\u001b[1;33m)\u001b[0m\u001b[1;33m\u001b[0m\u001b[0m\n\u001b[1;32m----> 5\u001b[1;33m         \u001b[0mprint\u001b[0m\u001b[1;33m(\u001b[0m\u001b[1;34m'lvl_2 y = '\u001b[0m\u001b[1;33m,\u001b[0m \u001b[0my\u001b[0m\u001b[1;33m)\u001b[0m\u001b[1;33m\u001b[0m\u001b[0m\n\u001b[0m\u001b[0;32m      6\u001b[0m         \u001b[0my\u001b[0m \u001b[1;33m=\u001b[0m \u001b[1;36m3\u001b[0m\u001b[1;33m\u001b[0m\u001b[0m\n\u001b[0;32m      7\u001b[0m         \u001b[0mprint\u001b[0m\u001b[1;33m(\u001b[0m\u001b[1;34m'lvl_2 y = '\u001b[0m\u001b[1;33m,\u001b[0m \u001b[0my\u001b[0m\u001b[1;33m)\u001b[0m\u001b[1;33m\u001b[0m\u001b[0m\n",
      "\u001b[1;31mUnboundLocalError\u001b[0m: local variable 'y' referenced before assignment"
     ]
    }
   ],
   "source": [
    "f_lvl_1(10)"
   ]
  },
  {
   "cell_type": "code",
   "execution_count": 10,
   "metadata": {
    "collapsed": true
   },
   "outputs": [],
   "source": [
    "def f_lvl_1(x):\n",
    "    y = 2\n",
    "    def f_lvl_2():\n",
    "        print('lvl_2 x = ', x)\n",
    "#         print('lvl_2 y = ', y)\n",
    "        y = 3 # создается ЛОКАЛЬНАЯ переменная во вложенной функции\n",
    "        print('lvl_2 y = ', y)\n",
    "    print('lvl_1 x = ', x)\n",
    "    print('lvl_1 y = ', y)\n",
    "    f_lvl_2()    \n",
    "    print('lvl_1 x = ', x)\n",
    "    print('lvl_1 y = ', y)"
   ]
  },
  {
   "cell_type": "code",
   "execution_count": 11,
   "metadata": {
    "collapsed": false
   },
   "outputs": [
    {
     "name": "stdout",
     "output_type": "stream",
     "text": [
      "lvl_1 x =  10\n",
      "lvl_1 y =  2\n",
      "lvl_2 x =  10\n",
      "lvl_2 y =  3\n",
      "lvl_1 x =  10\n",
      "lvl_1 y =  2\n"
     ]
    }
   ],
   "source": [
    "f_lvl_1(10)"
   ]
  },
  {
   "cell_type": "code",
   "execution_count": 117,
   "metadata": {
    "collapsed": true
   },
   "outputs": [],
   "source": [
    "def f_lvl_1(x):\n",
    "    y = 2\n",
    "    def f_lvl_2():\n",
    "        print('lvl_2 x = ', x)\n",
    "        nonlocal y # доступ к локальной переменной функции родителя\n",
    "        print('lvl_2 y = ', y)\n",
    "        y = 3\n",
    "        print('lvl_2 y = ', y)\n",
    "    print('lvl_1 x = ', x)\n",
    "    print('lvl_1 y = ', y)\n",
    "    f_lvl_2()    \n",
    "    print('lvl_1 x = ', x)\n",
    "    print('lvl_1 y = ', y)"
   ]
  },
  {
   "cell_type": "code",
   "execution_count": 118,
   "metadata": {
    "collapsed": false
   },
   "outputs": [
    {
     "name": "stdout",
     "output_type": "stream",
     "text": [
      "lvl_1 x =  10\n",
      "lvl_1 y =  2\n",
      "lvl_2 x =  10\n",
      "lvl_2 y =  2\n",
      "lvl_2 y =  3\n",
      "lvl_1 x =  10\n",
      "lvl_1 y =  3\n"
     ]
    }
   ],
   "source": [
    "f_lvl_1(10)"
   ]
  },
  {
   "cell_type": "code",
   "execution_count": 12,
   "metadata": {
    "collapsed": true
   },
   "outputs": [],
   "source": [
    "def calculations(a, b):\n",
    "    def add():\n",
    "        return a + b\n",
    "    return add"
   ]
  },
  {
   "cell_type": "code",
   "execution_count": 13,
   "metadata": {
    "collapsed": false
   },
   "outputs": [
    {
     "data": {
      "text/plain": [
       "<function __main__.calculations.<locals>.add>"
      ]
     },
     "execution_count": 13,
     "metadata": {},
     "output_type": "execute_result"
    }
   ],
   "source": [
    "a = calculations(5, 4)\n",
    "a"
   ]
  },
  {
   "cell_type": "code",
   "execution_count": 14,
   "metadata": {
    "collapsed": false
   },
   "outputs": [
    {
     "data": {
      "text/plain": [
       "9"
      ]
     },
     "execution_count": 14,
     "metadata": {},
     "output_type": "execute_result"
    }
   ],
   "source": [
    "a()"
   ]
  },
  {
   "cell_type": "markdown",
   "metadata": {},
   "source": [
    "Замыкание (англ. closure) в программировании — функция, в теле которой присутствуют ссылки на переменные, объявленные вне тела этой функции в окружающем коде и не являющиеся её параметрами. Говоря другим языком, замыкание — функция, которая ссылается на свободные переменные в своём контексте."
   ]
  },
  {
   "cell_type": "code",
   "execution_count": 119,
   "metadata": {
    "collapsed": true
   },
   "outputs": [],
   "source": [
    "def generate_power_func(n):\n",
    "    def nth_power(x):\n",
    "        return x**n\n",
    "    return nth_power"
   ]
  },
  {
   "cell_type": "code",
   "execution_count": 120,
   "metadata": {
    "collapsed": false
   },
   "outputs": [
    {
     "data": {
      "text/plain": [
       "<function __main__.generate_power_func.<locals>.nth_power>"
      ]
     },
     "execution_count": 120,
     "metadata": {},
     "output_type": "execute_result"
    }
   ],
   "source": [
    "n2 = generate_power_func(2)\n",
    "n2"
   ]
  },
  {
   "cell_type": "code",
   "execution_count": 121,
   "metadata": {
    "collapsed": false
   },
   "outputs": [
    {
     "data": {
      "text/plain": [
       "(4, 9, 16)"
      ]
     },
     "execution_count": 121,
     "metadata": {},
     "output_type": "execute_result"
    }
   ],
   "source": [
    "n2(2), n2(3), n2(4)"
   ]
  },
  {
   "cell_type": "code",
   "execution_count": 122,
   "metadata": {
    "collapsed": false
   },
   "outputs": [
    {
     "data": {
      "text/plain": [
       "(8, 27, 64)"
      ]
     },
     "execution_count": 122,
     "metadata": {},
     "output_type": "execute_result"
    }
   ],
   "source": [
    "n3 = generate_power_func(3)\n",
    "n3(2), n3(3), n3(4)"
   ]
  },
  {
   "cell_type": "markdown",
   "metadata": {},
   "source": [
    "## Функции высшего порядка"
   ]
  },
  {
   "cell_type": "markdown",
   "metadata": {},
   "source": [
    "Функции высших порядков — это такие функции, которые могут принимать в качестве аргументов и возвращать другие функции."
   ]
  },
  {
   "cell_type": "code",
   "execution_count": 15,
   "metadata": {
    "collapsed": false
   },
   "outputs": [],
   "source": [
    "# функции обратного вызова (callback functions)\n",
    "def add(a, b):\n",
    "    return a + b\n",
    "\n",
    "def sub(a, b):\n",
    "    return a - b"
   ]
  },
  {
   "cell_type": "code",
   "execution_count": 16,
   "metadata": {
    "collapsed": true
   },
   "outputs": [],
   "source": [
    "def apply_operation(operation, arg1, arg2):\n",
    "    'operation - callback function; arg1, arg2 - arguments'\n",
    "    return operation(arg1, arg2)"
   ]
  },
  {
   "cell_type": "code",
   "execution_count": 17,
   "metadata": {
    "collapsed": false
   },
   "outputs": [
    {
     "data": {
      "text/plain": [
       "5"
      ]
     },
     "execution_count": 17,
     "metadata": {},
     "output_type": "execute_result"
    }
   ],
   "source": [
    "apply_operation(add, 2, 3)"
   ]
  },
  {
   "cell_type": "code",
   "execution_count": 18,
   "metadata": {
    "collapsed": false
   },
   "outputs": [
    {
     "data": {
      "text/plain": [
       "-1"
      ]
     },
     "execution_count": 18,
     "metadata": {},
     "output_type": "execute_result"
    }
   ],
   "source": [
    "apply_operation(sub, 2, 3)"
   ]
  },
  {
   "cell_type": "markdown",
   "metadata": {},
   "source": [
    "Создание частично подготовленных функций"
   ]
  },
  {
   "cell_type": "code",
   "execution_count": 19,
   "metadata": {
    "collapsed": true
   },
   "outputs": [],
   "source": [
    "import functools # модуль с функциями, используемыми в идеомах функционального программирования"
   ]
  },
  {
   "cell_type": "code",
   "execution_count": 20,
   "metadata": {
    "collapsed": false
   },
   "outputs": [
    {
     "name": "stdout",
     "output_type": "stream",
     "text": [
      "Help on class enumerate in module builtins:\n",
      "\n",
      "class enumerate(object)\n",
      " |  enumerate(iterable[, start]) -> iterator for index, value of iterable\n",
      " |  \n",
      " |  Return an enumerate object.  iterable must be another object that supports\n",
      " |  iteration.  The enumerate object yields pairs containing a count (from\n",
      " |  start, which defaults to zero) and a value yielded by the iterable argument.\n",
      " |  enumerate is useful for obtaining an indexed list:\n",
      " |      (0, seq[0]), (1, seq[1]), (2, seq[2]), ...\n",
      " |  \n",
      " |  Methods defined here:\n",
      " |  \n",
      " |  __getattribute__(self, name, /)\n",
      " |      Return getattr(self, name).\n",
      " |  \n",
      " |  __iter__(self, /)\n",
      " |      Implement iter(self).\n",
      " |  \n",
      " |  __new__(*args, **kwargs) from builtins.type\n",
      " |      Create and return a new object.  See help(type) for accurate signature.\n",
      " |  \n",
      " |  __next__(self, /)\n",
      " |      Implement next(self).\n",
      " |  \n",
      " |  __reduce__(...)\n",
      " |      Return state information for pickling.\n",
      "\n"
     ]
    }
   ],
   "source": [
    "help(enumerate)"
   ]
  },
  {
   "cell_type": "code",
   "execution_count": 21,
   "metadata": {
    "collapsed": false
   },
   "outputs": [
    {
     "data": {
      "text/plain": [
       "functools.partial(<class 'enumerate'>, start=1)"
      ]
     },
     "execution_count": 21,
     "metadata": {},
     "output_type": "execute_result"
    }
   ],
   "source": [
    "enum1 = functools.partial(enumerate, start=1) \n",
    "enum1"
   ]
  },
  {
   "cell_type": "code",
   "execution_count": 22,
   "metadata": {
    "collapsed": false
   },
   "outputs": [
    {
     "name": "stdout",
     "output_type": "stream",
     "text": [
      "1 a\n",
      "2 b\n",
      "3 c\n",
      "4 d\n"
     ]
    }
   ],
   "source": [
    "lines = list('abcd')\n",
    "for lino, line in enum1(lines): \n",
    "    print(lino, line)"
   ]
  },
  {
   "cell_type": "code",
   "execution_count": 23,
   "metadata": {
    "collapsed": true
   },
   "outputs": [],
   "source": [
    "reader = functools.partial(open, mode=\"rt\", encoding=\"utf8\") \n",
    "writer = functools.partial(open, mode=\"wt\", encoding=\"utf8\") "
   ]
  },
  {
   "cell_type": "markdown",
   "metadata": {},
   "source": [
    "### Декораторы\n",
    "Декоратор - это функция, которая принимает функцию или метод в качестве единственного аргумента и  \n",
    "возвращает новую функцию или метод, включающую декорированную функцию или метод, с дополнительными функциональными возможностями. "
   ]
  },
  {
   "cell_type": "markdown",
   "metadata": {},
   "source": [
    "Существуют предопределенные декораторы, например, ©property и @classmethod."
   ]
  },
  {
   "cell_type": "markdown",
   "metadata": {},
   "source": [
    "Предположим, что у нас имеется множество функций, выполняющих вычисления, и некоторые из них  \n",
    "всегда должны возвращать положительный результат. Мы могли бы добавить в каждую из таких функций инструкцию assert, но  использование декораторов проще и понятнее. "
   ]
  },
  {
   "cell_type": "code",
   "execution_count": 27,
   "metadata": {
    "collapsed": false
   },
   "outputs": [],
   "source": [
    "@positive_result \n",
    "def discriminant(a, b, c): \n",
    "    return (b ** 2) - (4 * a * c) "
   ]
  },
  {
   "cell_type": "code",
   "execution_count": 26,
   "metadata": {
    "collapsed": false
   },
   "outputs": [],
   "source": [
    "def positive_result(function): # декоратор\n",
    "    def wrapper(*args, **kwargs): # обертка\n",
    "        result = function(*args, **kwargs) #\n",
    "        assert result >= 0, function.__name__ + \"() result isn't >= 0\" \n",
    "        return result \n",
    "    wrapper.__name__ = function.__name__\n",
    "    wrapper.__doc__ = function.__doc__ \n",
    "    return wrapper "
   ]
  },
  {
   "cell_type": "code",
   "execution_count": 28,
   "metadata": {
    "collapsed": false,
    "scrolled": true
   },
   "outputs": [
    {
     "data": {
      "text/plain": [
       "5"
      ]
     },
     "execution_count": 28,
     "metadata": {},
     "output_type": "execute_result"
    }
   ],
   "source": [
    "discriminant(1, 1, -1)"
   ]
  },
  {
   "cell_type": "code",
   "execution_count": 29,
   "metadata": {
    "collapsed": false
   },
   "outputs": [
    {
     "ename": "AssertionError",
     "evalue": "discriminant() result isn't >= 0",
     "output_type": "error",
     "traceback": [
      "\u001b[1;31m---------------------------------------------------------------------------\u001b[0m",
      "\u001b[1;31mAssertionError\u001b[0m                            Traceback (most recent call last)",
      "\u001b[1;32m<ipython-input-29-9a15f5e1ba5a>\u001b[0m in \u001b[0;36m<module>\u001b[1;34m()\u001b[0m\n\u001b[1;32m----> 1\u001b[1;33m \u001b[0mdiscriminant\u001b[0m\u001b[1;33m(\u001b[0m\u001b[1;36m1\u001b[0m\u001b[1;33m,\u001b[0m \u001b[1;36m1\u001b[0m\u001b[1;33m,\u001b[0m \u001b[1;36m1\u001b[0m\u001b[1;33m)\u001b[0m\u001b[1;33m\u001b[0m\u001b[0m\n\u001b[0m",
      "\u001b[1;32m<ipython-input-26-7ba388b573cd>\u001b[0m in \u001b[0;36mwrapper\u001b[1;34m(*args, **kwargs)\u001b[0m\n\u001b[0;32m      2\u001b[0m     \u001b[1;32mdef\u001b[0m \u001b[0mwrapper\u001b[0m\u001b[1;33m(\u001b[0m\u001b[1;33m*\u001b[0m\u001b[0margs\u001b[0m\u001b[1;33m,\u001b[0m \u001b[1;33m**\u001b[0m\u001b[0mkwargs\u001b[0m\u001b[1;33m)\u001b[0m\u001b[1;33m:\u001b[0m \u001b[1;31m# обертка\u001b[0m\u001b[1;33m\u001b[0m\u001b[0m\n\u001b[0;32m      3\u001b[0m         \u001b[0mresult\u001b[0m \u001b[1;33m=\u001b[0m \u001b[0mfunction\u001b[0m\u001b[1;33m(\u001b[0m\u001b[1;33m*\u001b[0m\u001b[0margs\u001b[0m\u001b[1;33m,\u001b[0m \u001b[1;33m**\u001b[0m\u001b[0mkwargs\u001b[0m\u001b[1;33m)\u001b[0m \u001b[1;31m#\u001b[0m\u001b[1;33m\u001b[0m\u001b[0m\n\u001b[1;32m----> 4\u001b[1;33m         \u001b[1;32massert\u001b[0m \u001b[0mresult\u001b[0m \u001b[1;33m>=\u001b[0m \u001b[1;36m0\u001b[0m\u001b[1;33m,\u001b[0m \u001b[0mfunction\u001b[0m\u001b[1;33m.\u001b[0m\u001b[0m__name__\u001b[0m \u001b[1;33m+\u001b[0m \u001b[1;34m\"() result isn't >= 0\"\u001b[0m\u001b[1;33m\u001b[0m\u001b[0m\n\u001b[0m\u001b[0;32m      5\u001b[0m         \u001b[1;32mreturn\u001b[0m \u001b[0mresult\u001b[0m\u001b[1;33m\u001b[0m\u001b[0m\n\u001b[0;32m      6\u001b[0m     \u001b[0mwrapper\u001b[0m\u001b[1;33m.\u001b[0m\u001b[0m__name__\u001b[0m \u001b[1;33m=\u001b[0m \u001b[0mfunction\u001b[0m\u001b[1;33m.\u001b[0m\u001b[0m__name__\u001b[0m\u001b[1;33m\u001b[0m\u001b[0m\n",
      "\u001b[1;31mAssertionError\u001b[0m: discriminant() result isn't >= 0"
     ]
    }
   ],
   "source": [
    "discriminant(1, 1, 1)"
   ]
  },
  {
   "cell_type": "code",
   "execution_count": 34,
   "metadata": {
    "collapsed": true
   },
   "outputs": [],
   "source": [
    "def positive_result2(function): \n",
    "# декоратор, который обеспечивает, что wrapper будет носить имя исходной функции и ее строку документирования.     \n",
    "    @functools.wraps(function) \n",
    "    def wrapper(*args, **kwargs): \n",
    "        result = function(*args, **kwargs) \n",
    "        assert result >= 0, function.__name__ + \"() result isn't >= 0 !\" \n",
    "        return result \n",
    "    return wrapper "
   ]
  },
  {
   "cell_type": "code",
   "execution_count": 35,
   "metadata": {
    "collapsed": true
   },
   "outputs": [],
   "source": [
    "@positive_result2 \n",
    "def discriminant2(a, b, c): \n",
    "    return (b ** 2) - (4 * a * c) "
   ]
  },
  {
   "cell_type": "code",
   "execution_count": 36,
   "metadata": {
    "collapsed": false,
    "scrolled": true
   },
   "outputs": [
    {
     "ename": "AssertionError",
     "evalue": "discriminant2() result isn't >= 0 !",
     "output_type": "error",
     "traceback": [
      "\u001b[1;31m---------------------------------------------------------------------------\u001b[0m",
      "\u001b[1;31mAssertionError\u001b[0m                            Traceback (most recent call last)",
      "\u001b[1;32m<ipython-input-36-bd92bb661561>\u001b[0m in \u001b[0;36m<module>\u001b[1;34m()\u001b[0m\n\u001b[1;32m----> 1\u001b[1;33m \u001b[0mdiscriminant2\u001b[0m\u001b[1;33m(\u001b[0m\u001b[1;36m1\u001b[0m\u001b[1;33m,\u001b[0m \u001b[1;36m1\u001b[0m\u001b[1;33m,\u001b[0m \u001b[1;36m1\u001b[0m\u001b[1;33m)\u001b[0m\u001b[1;33m\u001b[0m\u001b[0m\n\u001b[0m",
      "\u001b[1;32m<ipython-input-34-206236d056ec>\u001b[0m in \u001b[0;36mwrapper\u001b[1;34m(*args, **kwargs)\u001b[0m\n\u001b[0;32m      4\u001b[0m     \u001b[1;32mdef\u001b[0m \u001b[0mwrapper\u001b[0m\u001b[1;33m(\u001b[0m\u001b[1;33m*\u001b[0m\u001b[0margs\u001b[0m\u001b[1;33m,\u001b[0m \u001b[1;33m**\u001b[0m\u001b[0mkwargs\u001b[0m\u001b[1;33m)\u001b[0m\u001b[1;33m:\u001b[0m\u001b[1;33m\u001b[0m\u001b[0m\n\u001b[0;32m      5\u001b[0m         \u001b[0mresult\u001b[0m \u001b[1;33m=\u001b[0m \u001b[0mfunction\u001b[0m\u001b[1;33m(\u001b[0m\u001b[1;33m*\u001b[0m\u001b[0margs\u001b[0m\u001b[1;33m,\u001b[0m \u001b[1;33m**\u001b[0m\u001b[0mkwargs\u001b[0m\u001b[1;33m)\u001b[0m\u001b[1;33m\u001b[0m\u001b[0m\n\u001b[1;32m----> 6\u001b[1;33m         \u001b[1;32massert\u001b[0m \u001b[0mresult\u001b[0m \u001b[1;33m>=\u001b[0m \u001b[1;36m0\u001b[0m\u001b[1;33m,\u001b[0m \u001b[0mfunction\u001b[0m\u001b[1;33m.\u001b[0m\u001b[0m__name__\u001b[0m \u001b[1;33m+\u001b[0m \u001b[1;34m\"() result isn't >= 0 !\"\u001b[0m\u001b[1;33m\u001b[0m\u001b[0m\n\u001b[0m\u001b[0;32m      7\u001b[0m         \u001b[1;32mreturn\u001b[0m \u001b[0mresult\u001b[0m\u001b[1;33m\u001b[0m\u001b[0m\n\u001b[0;32m      8\u001b[0m     \u001b[1;32mreturn\u001b[0m \u001b[0mwrapper\u001b[0m\u001b[1;33m\u001b[0m\u001b[0m\n",
      "\u001b[1;31mAssertionError\u001b[0m: discriminant2() result isn't >= 0 !"
     ]
    }
   ],
   "source": [
    "discriminant2(1, 1, 1)"
   ]
  },
  {
   "cell_type": "markdown",
   "metadata": {},
   "source": [
    "Создание декоратора с параметрами"
   ]
  },
  {
   "cell_type": "code",
   "execution_count": 37,
   "metadata": {
    "collapsed": true
   },
   "outputs": [],
   "source": [
    "def bounded(minimum, maximum): # внешний генератор декоратора\n",
    "    def decorator(function): # вунтренний генератор декоратора\n",
    "        @functools.wraps(function) \n",
    "        def wrapper(*args, **kwargs): # декоратор\n",
    "            result = function(*args, **kwargs) # вызов декарируемой функции\n",
    "            if result < minimum: \n",
    "                return minimum \n",
    "            elif result > maximum: \n",
    "                return maximum \n",
    "            return result \n",
    "        return wrapper \n",
    "    return decorator"
   ]
  },
  {
   "cell_type": "code",
   "execution_count": 38,
   "metadata": {
    "collapsed": false
   },
   "outputs": [],
   "source": [
    "@bounded(0, 100) # обрезает возвращения по нижней и верхней границе \n",
    "def percent(amount, total): \n",
    "    return (amount / total) * 100 "
   ]
  },
  {
   "cell_type": "code",
   "execution_count": 39,
   "metadata": {
    "collapsed": false
   },
   "outputs": [
    {
     "data": {
      "text/plain": [
       "100"
      ]
     },
     "execution_count": 39,
     "metadata": {},
     "output_type": "execute_result"
    }
   ],
   "source": [
    "percent(150, 100)"
   ]
  },
  {
   "cell_type": "code",
   "execution_count": 40,
   "metadata": {
    "collapsed": false
   },
   "outputs": [
    {
     "data": {
      "text/plain": [
       "15.0"
      ]
     },
     "execution_count": 40,
     "metadata": {},
     "output_type": "execute_result"
    }
   ],
   "source": [
    "percent(15, 100)"
   ]
  },
  {
   "cell_type": "code",
   "execution_count": null,
   "metadata": {
    "collapsed": true
   },
   "outputs": [],
   "source": []
  }
 ],
 "metadata": {
  "anaconda-cloud": {},
  "kernelspec": {
   "display_name": "Python [Root]",
   "language": "python",
   "name": "Python [Root]"
  },
  "language_info": {
   "codemirror_mode": {
    "name": "ipython",
    "version": 3
   },
   "file_extension": ".py",
   "mimetype": "text/x-python",
   "name": "python",
   "nbconvert_exporter": "python",
   "pygments_lexer": "ipython3",
   "version": "3.5.2"
  }
 },
 "nbformat": 4,
 "nbformat_minor": 0
}
