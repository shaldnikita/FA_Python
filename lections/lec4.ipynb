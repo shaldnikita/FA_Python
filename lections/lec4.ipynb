{
 "cells": [
  {
   "cell_type": "markdown",
   "metadata": {},
   "source": [
    "# Лекция 4"
   ]
  },
  {
   "cell_type": "markdown",
   "metadata": {},
   "source": [
    "## Функции"
   ]
  },
  {
   "cell_type": "markdown",
   "metadata": {},
   "source": [
    " ### Создание функции и ее вызов"
   ]
  },
  {
   "cell_type": "markdown",
   "metadata": {},
   "source": [
    "Функция оnисывается с nомощью ключевого слова def no следующей схеме: \n",
    "\n",
    "```\n",
    "def  <Имя  функции> ([<Параметры>]):\n",
    "    [\"\"\"  Строка  документирования  \"\"\"] \n",
    "    <Тело функции>    \n",
    "    [return  <Значение>]```\n",
    "\n",
    "Имя функции должно быть уникальным идентификатором, состоящим из латинских букв, цифр и знаков nодчеркивания, nричем имя функции не может начинаться с цифры. В качестве имени нельзя исnользовать ключевые слова, кроме того, следует избегать совnадений с названиями  встроенных  идентификаторов.  Регистр  символов в  названии  функции  имеет \n",
    "значение. \n",
    "\n",
    "После имени функции в  круглых скобках можно указать один или несколько nараметров через  заnятую.  Если функция не  nринимает nараметры, то  nросто указываются  круглые скобки. После круглых скобок ставится двоеточие. \n",
    "\n",
    "Тело функции является составной конструкцией.  Как и  в  любой составной конструкции, инструкции внутри функции выделяются одинаковым количеством nробелов слева. "
   ]
  },
  {
   "cell_type": "code",
   "execution_count": 1,
   "metadata": {
    "collapsed": true
   },
   "outputs": [],
   "source": [
    "def func(): \n",
    "    pass "
   ]
  },
  {
   "cell_type": "markdown",
   "metadata": {},
   "source": [
    "Необязательная инструкция return  nозволяет вернуть значение из функции. После исnолнения этой  инструкции выnолнение функции будет остановлено. "
   ]
  },
  {
   "cell_type": "code",
   "execution_count": 2,
   "metadata": {
    "collapsed": true
   },
   "outputs": [],
   "source": [
    "def  func(): \n",
    "    print (\"Текст  до  инструкции  return\") \n",
    "    return  \"Возвращаемое  значение\" \n",
    "    print (\"Эта  инструкция  никогда  не  будет  вьmолнена\") "
   ]
  },
  {
   "cell_type": "code",
   "execution_count": 3,
   "metadata": {
    "collapsed": false
   },
   "outputs": [
    {
     "name": "stdout",
     "output_type": "stream",
     "text": [
      "Текст  до  инструкции  return\n",
      "Возвращаемое  значение\n"
     ]
    }
   ],
   "source": [
    "print(func())  # вызываем функцию "
   ]
  },
  {
   "cell_type": "code",
   "execution_count": 4,
   "metadata": {
    "collapsed": true
   },
   "outputs": [],
   "source": [
    "def print_ok(): \n",
    "    \"\"\"  Пример  функции  без  nараметров  \"\"\" \n",
    "    print(\"Сообщение  при  удачно вьmолненной  операции\") \n",
    "    \n",
    "def echo(m): \n",
    "    \"\"\"  Пример  функции  с  параметром \"\"\" \n",
    "    print(m) \n",
    "    \n",
    "def summa(x, у): \n",
    "    \"\"\"  Пример функции с параметрами, \n",
    "    возвращающей  сумму двух  переменных\"\"\"\n",
    "    return x + у"
   ]
  },
  {
   "cell_type": "code",
   "execution_count": 5,
   "metadata": {
    "collapsed": false
   },
   "outputs": [
    {
     "name": "stdout",
     "output_type": "stream",
     "text": [
      "Сообщение  при  удачно вьmолненной  операции\n"
     ]
    }
   ],
   "source": [
    "print_ok()"
   ]
  },
  {
   "cell_type": "code",
   "execution_count": 6,
   "metadata": {
    "collapsed": false
   },
   "outputs": [
    {
     "name": "stdout",
     "output_type": "stream",
     "text": [
      "Сообщение\n"
     ]
    }
   ],
   "source": [
    "echo(\"Сообщение\")"
   ]
  },
  {
   "cell_type": "code",
   "execution_count": 7,
   "metadata": {
    "collapsed": false
   },
   "outputs": [
    {
     "data": {
      "text/plain": [
       "7"
      ]
     },
     "execution_count": 7,
     "metadata": {},
     "output_type": "execute_result"
    }
   ],
   "source": [
    "x = summa(5, 2)\n",
    "x"
   ]
  },
  {
   "cell_type": "code",
   "execution_count": 8,
   "metadata": {
    "collapsed": false
   },
   "outputs": [
    {
     "data": {
      "text/plain": [
       "50"
      ]
     },
     "execution_count": 8,
     "metadata": {},
     "output_type": "execute_result"
    }
   ],
   "source": [
    "a, b = 10, 40\n",
    "y = summa(a, b)\n",
    "y"
   ]
  },
  {
   "cell_type": "markdown",
   "metadata": {},
   "source": [
    "Имя переменной в вызове функции может не совпадать с именем переменной в определении функции. Кроме того, глобальные переменные х и у не конфликтуют с одноименными переменными в определении функции, т.к.  они расположены в разных областях видимости. Переменные, указанные в определении функции, являются **локальными** и достуnны только внутри функции. "
   ]
  },
  {
   "cell_type": "code",
   "execution_count": 9,
   "metadata": {
    "collapsed": false
   },
   "outputs": [
    {
     "data": {
      "text/plain": [
       "'string'"
      ]
     },
     "execution_count": 9,
     "metadata": {},
     "output_type": "execute_result"
    }
   ],
   "source": [
    "summa('str', 'ing')"
   ]
  },
  {
   "cell_type": "code",
   "execution_count": 10,
   "metadata": {
    "collapsed": false
   },
   "outputs": [
    {
     "data": {
      "text/plain": [
       "[1, 3, 5, 7]"
      ]
     },
     "execution_count": 10,
     "metadata": {},
     "output_type": "execute_result"
    }
   ],
   "source": [
    "summa([1, 3], [5, 7])"
   ]
  },
  {
   "cell_type": "markdown",
   "metadata": {},
   "source": [
    "Все в языке Python является объектом, наnример строки, сnиски и даже сами тиnы данных. Функции не  являются  исключением. Инструкция def  создает объект, имеющий тиn  function,  и  сохраняет ссылку на  него  в  идентификаторе, указанном  nосле инструкции def. Таким образом, мы можем сохранить ссылку на функцию в  другой nеременной. Для этого  название функции указывается без круглых скобок."
   ]
  },
  {
   "cell_type": "code",
   "execution_count": 11,
   "metadata": {
    "collapsed": false
   },
   "outputs": [
    {
     "data": {
      "text/plain": [
       "30"
      ]
     },
     "execution_count": 11,
     "metadata": {},
     "output_type": "execute_result"
    }
   ],
   "source": [
    "f = summa\n",
    "v = f(10, 20)\n",
    "v"
   ]
  },
  {
   "cell_type": "code",
   "execution_count": 84,
   "metadata": {
    "collapsed": false
   },
   "outputs": [
    {
     "data": {
      "text/plain": [
       "function"
      ]
     },
     "execution_count": 84,
     "metadata": {},
     "output_type": "execute_result"
    }
   ],
   "source": [
    "type(summa)"
   ]
  },
  {
   "cell_type": "code",
   "execution_count": 85,
   "metadata": {
    "collapsed": false
   },
   "outputs": [
    {
     "data": {
      "text/plain": [
       "function"
      ]
     },
     "execution_count": 85,
     "metadata": {},
     "output_type": "execute_result"
    }
   ],
   "source": [
    "type(f)"
   ]
  },
  {
   "cell_type": "code",
   "execution_count": 87,
   "metadata": {
    "collapsed": true
   },
   "outputs": [],
   "source": [
    "def  func(fp,  а,  Ь): \n",
    "    \"\"\" Через переменную f будет доступна ссьmка на \n",
    "    функцию summa() \"\"\"\n",
    "    return fp(а, Ь)  #  Вызываем функцию summa()"
   ]
  },
  {
   "cell_type": "code",
   "execution_count": 88,
   "metadata": {
    "collapsed": false
   },
   "outputs": [
    {
     "data": {
      "text/plain": [
       "30"
      ]
     },
     "execution_count": 88,
     "metadata": {},
     "output_type": "execute_result"
    }
   ],
   "source": [
    "func(summa, 10, 20)"
   ]
  },
  {
   "cell_type": "code",
   "execution_count": 89,
   "metadata": {
    "collapsed": false
   },
   "outputs": [
    {
     "data": {
      "text/plain": [
       "30"
      ]
     },
     "execution_count": 89,
     "metadata": {},
     "output_type": "execute_result"
    }
   ],
   "source": [
    "func(f, 10, 20)"
   ]
  },
  {
   "cell_type": "code",
   "execution_count": 90,
   "metadata": {
    "collapsed": true
   },
   "outputs": [],
   "source": [
    "def razn(a, b):\n",
    "    return a - b"
   ]
  },
  {
   "cell_type": "code",
   "execution_count": 91,
   "metadata": {
    "collapsed": false
   },
   "outputs": [
    {
     "data": {
      "text/plain": [
       "-10"
      ]
     },
     "execution_count": 91,
     "metadata": {},
     "output_type": "execute_result"
    }
   ],
   "source": [
    "func(razn, 10, 20)"
   ]
  },
  {
   "cell_type": "markdown",
   "metadata": {},
   "source": [
    "Объекты функций nоддерживают множество атрибутов. обратиться к которым можно указав атрибут nосле названия функции через точку. Наnример, через атрибут _nаme_ можно nолучить название функции в  виде строки, 'iерез атрибут _doc_  - строку документирования  и  т.  д."
   ]
  },
  {
   "cell_type": "code",
   "execution_count": 92,
   "metadata": {
    "collapsed": false
   },
   "outputs": [
    {
     "data": {
      "text/plain": [
       "'summa'"
      ]
     },
     "execution_count": 92,
     "metadata": {},
     "output_type": "execute_result"
    }
   ],
   "source": [
    "summa.__name__"
   ]
  },
  {
   "cell_type": "code",
   "execution_count": 98,
   "metadata": {
    "collapsed": false
   },
   "outputs": [
    {
     "data": {
      "text/plain": [
       "'  Пример функции с параметрами, \\n    возвращающей  сумму двух  переменных'"
      ]
     },
     "execution_count": 98,
     "metadata": {},
     "output_type": "execute_result"
    }
   ],
   "source": [
    "summa.__doc__"
   ]
  },
  {
   "cell_type": "markdown",
   "metadata": {},
   "source": [
    "Выведем  названия  всех  атрибутов функции с  nомощью встроенной функции dir():"
   ]
  },
  {
   "cell_type": "code",
   "execution_count": 101,
   "metadata": {
    "collapsed": false
   },
   "outputs": [
    {
     "data": {
      "text/plain": [
       "['__annotations__',\n",
       " '__call__',\n",
       " '__class__',\n",
       " '__closure__',\n",
       " '__code__',\n",
       " '__defaults__',\n",
       " '__delattr__',\n",
       " '__dict__',\n",
       " '__dir__',\n",
       " '__doc__',\n",
       " '__eq__',\n",
       " '__format__',\n",
       " '__ge__',\n",
       " '__get__',\n",
       " '__getattribute__',\n",
       " '__globals__',\n",
       " '__gt__',\n",
       " '__hash__',\n",
       " '__init__',\n",
       " '__kwdefaults__',\n",
       " '__le__',\n",
       " '__lt__',\n",
       " '__module__',\n",
       " '__name__',\n",
       " '__ne__',\n",
       " '__new__',\n",
       " '__qualname__',\n",
       " '__reduce__',\n",
       " '__reduce_ex__',\n",
       " '__repr__',\n",
       " '__setattr__',\n",
       " '__sizeof__',\n",
       " '__str__',\n",
       " '__subclasshook__']"
      ]
     },
     "execution_count": 101,
     "metadata": {},
     "output_type": "execute_result"
    }
   ],
   "source": [
    "dir(summa)"
   ]
  },
  {
   "cell_type": "markdown",
   "metadata": {},
   "source": [
    "#### Расположение определений функций"
   ]
  },
  {
   "cell_type": "markdown",
   "metadata": {},
   "source": [
    "Все инструкции в  nрограмме выnолняются nоследовательно сверху вниз. Это означает, что nрежде чем исnользовать идентификатор в nрограмме, его необходимо nредварительно определить, nрисвоив ему значение. Поэтому, оnределение функции должно быть расnоложено ПЕРЕД ВЫЗОВОМ ФУНКЦИИ."
   ]
  },
  {
   "cell_type": "code",
   "execution_count": 105,
   "metadata": {
    "collapsed": false
   },
   "outputs": [
    {
     "name": "stdout",
     "output_type": "stream",
     "text": [
      "Введите 1 дпя  вызова первой функции:2\n",
      "Апьтернативная функция\n"
     ]
    }
   ],
   "source": [
    "# Оnределение функции в зависимости от условия\n",
    "n = input(\"Введите 1 дпя  вызова первой функции:\") \n",
    "n = n.rstrip(\"\\r\")\n",
    "if n == \"1\": \n",
    "    def echo(): \n",
    "        print(\"Вызов первой функции\") \n",
    "else: \n",
    "    def  echo(): \n",
    "        print (\"Апьтернативная функция\") \n",
    "echo() # Вызываем функцию "
   ]
  },
  {
   "cell_type": "markdown",
   "metadata": {},
   "source": [
    "Инструкция def всего лишь присваивает ссылку на объект функции идентификатору, расположенному после ключевого слова def.  Если определение одной функции встречается  в  программе несколько раз,  то будет использоваться функция, которая расположена последней. "
   ]
  },
  {
   "cell_type": "markdown",
   "metadata": {},
   "source": [
    "#### Необязательные параметры и сопоставление по ключам"
   ]
  },
  {
   "cell_type": "markdown",
   "metadata": {},
   "source": [
    "Чтобы  сделать  некоторые параметры  необязательными,  следует  в  определении  функции присвоить этому параметру начальное значение."
   ]
  },
  {
   "cell_type": "code",
   "execution_count": 12,
   "metadata": {
    "collapsed": true
   },
   "outputs": [],
   "source": [
    "def summa(x, y=2):\n",
    "    return x + y"
   ]
  },
  {
   "cell_type": "code",
   "execution_count": 13,
   "metadata": {
    "collapsed": false
   },
   "outputs": [
    {
     "data": {
      "text/plain": [
       "7"
      ]
     },
     "execution_count": 13,
     "metadata": {},
     "output_type": "execute_result"
    }
   ],
   "source": [
    "summa(5)"
   ]
  },
  {
   "cell_type": "code",
   "execution_count": 14,
   "metadata": {
    "collapsed": false
   },
   "outputs": [
    {
     "data": {
      "text/plain": [
       "9"
      ]
     },
     "execution_count": 14,
     "metadata": {},
     "output_type": "execute_result"
    }
   ],
   "source": [
    "summa(5, 4)"
   ]
  },
  {
   "cell_type": "markdown",
   "metadata": {},
   "source": [
    "Синтаксис определения параметров функции не позволяет указывать параметры, не имеющие значений по умолчанию, после параметров со значениями по умолчанию, поэтому такое определение: def bad(a, b=1, с):, будет  вызывать синтаксическую ошибку. "
   ]
  },
  {
   "cell_type": "code",
   "execution_count": 20,
   "metadata": {
    "collapsed": false
   },
   "outputs": [
    {
     "ename": "SyntaxError",
     "evalue": "non-default argument follows default argument (<ipython-input-20-8429922f02f0>, line 2)",
     "output_type": "error",
     "traceback": [
      "\u001b[1;36m  File \u001b[1;32m\"<ipython-input-20-8429922f02f0>\"\u001b[1;36m, line \u001b[1;32m2\u001b[0m\n\u001b[1;33m    def bad(a, b=1, с):\u001b[0m\n\u001b[1;37m           ^\u001b[0m\n\u001b[1;31mSyntaxError\u001b[0m\u001b[1;31m:\u001b[0m non-default argument follows default argument\n"
     ]
    }
   ],
   "source": [
    "# ошибка:\n",
    "def bad(a, b=1, с):\n",
    "    return a + b + c"
   ]
  },
  {
   "cell_type": "markdown",
   "metadata": {},
   "source": [
    "Язык Python  nозволяет также nередать значения в функцию, исnользуя сопоставление по ключам.  Для этого nри вызове функции nараметрам nрисваиваются значения. Последовательность указания nараметров может быть nроизвольной. "
   ]
  },
  {
   "cell_type": "code",
   "execution_count": 15,
   "metadata": {
    "collapsed": false
   },
   "outputs": [
    {
     "data": {
      "text/plain": [
       "30"
      ]
     },
     "execution_count": 15,
     "metadata": {},
     "output_type": "execute_result"
    }
   ],
   "source": [
    "summa(y=10, x=20)"
   ]
  },
  {
   "cell_type": "markdown",
   "metadata": {},
   "source": [
    "Сопоставление по ключам очень удобно использовать, если функция имеет несколько необязательных параметров. В этом случае не нужно перечислять все значения, а достаточно присвоить значение нужному параметру."
   ]
  },
  {
   "cell_type": "code",
   "execution_count": 16,
   "metadata": {
    "collapsed": true
   },
   "outputs": [],
   "source": [
    "def multi_summa(x=1, y=2, z=3):\n",
    "    return x + y + z"
   ]
  },
  {
   "cell_type": "code",
   "execution_count": 17,
   "metadata": {
    "collapsed": false
   },
   "outputs": [
    {
     "data": {
      "text/plain": [
       "60"
      ]
     },
     "execution_count": 17,
     "metadata": {},
     "output_type": "execute_result"
    }
   ],
   "source": [
    "multi_summa(10, 20 , 30)"
   ]
  },
  {
   "cell_type": "code",
   "execution_count": 18,
   "metadata": {
    "collapsed": false
   },
   "outputs": [
    {
     "data": {
      "text/plain": [
       "33"
      ]
     },
     "execution_count": 18,
     "metadata": {},
     "output_type": "execute_result"
    }
   ],
   "source": [
    "multi_summa(10, 20)"
   ]
  },
  {
   "cell_type": "code",
   "execution_count": 19,
   "metadata": {
    "collapsed": false
   },
   "outputs": [
    {
     "data": {
      "text/plain": [
       "15"
      ]
     },
     "execution_count": 19,
     "metadata": {},
     "output_type": "execute_result"
    }
   ],
   "source": [
    "multi_summa(10)"
   ]
  },
  {
   "cell_type": "code",
   "execution_count": 116,
   "metadata": {
    "collapsed": false
   },
   "outputs": [
    {
     "data": {
      "text/plain": [
       "6"
      ]
     },
     "execution_count": 116,
     "metadata": {},
     "output_type": "execute_result"
    }
   ],
   "source": [
    "multi_summa()"
   ]
  },
  {
   "cell_type": "code",
   "execution_count": 117,
   "metadata": {
    "collapsed": false
   },
   "outputs": [
    {
     "data": {
      "text/plain": [
       "33"
      ]
     },
     "execution_count": 117,
     "metadata": {},
     "output_type": "execute_result"
    }
   ],
   "source": [
    "multi_summa(z=30)"
   ]
  },
  {
   "cell_type": "markdown",
   "metadata": {},
   "source": [
    "Значения по умолчанию создаются на этапе выполнения инструкции def (то есть в момент создания функции), а не в момент \n",
    "ее вызова. Для неизменяемых аргументов, таких как строки или числа, это не имеет никакого значения, но в использовании изменяемых аргументов кроется труднозаметная ловушка."
   ]
  },
  {
   "cell_type": "code",
   "execution_count": 25,
   "metadata": {
    "collapsed": true
   },
   "outputs": [],
   "source": [
    "def append_if_even(x, lst=[]): # ОШИБКА! \n",
    "    if x % 2 == 0: \n",
    "        lst.append(x) \n",
    "    return lst "
   ]
  },
  {
   "cell_type": "code",
   "execution_count": 26,
   "metadata": {
    "collapsed": false
   },
   "outputs": [
    {
     "data": {
      "text/plain": [
       "[2]"
      ]
     },
     "execution_count": 26,
     "metadata": {},
     "output_type": "execute_result"
    }
   ],
   "source": [
    "append_if_even(2)"
   ]
  },
  {
   "cell_type": "code",
   "execution_count": 27,
   "metadata": {
    "collapsed": false
   },
   "outputs": [
    {
     "data": {
      "text/plain": [
       "[2, 4]"
      ]
     },
     "execution_count": 27,
     "metadata": {},
     "output_type": "execute_result"
    }
   ],
   "source": [
    "append_if_even(4)"
   ]
  },
  {
   "cell_type": "code",
   "execution_count": 28,
   "metadata": {
    "collapsed": true
   },
   "outputs": [],
   "source": [
    "# пример решения задачи, не содержащего ошибки\n",
    "def append_if_even(x, lst=None):\n",
    "    if lst is None:\n",
    "        lst = []\n",
    "    if x % 2 == 0: \n",
    "        lst.append(x) \n",
    "    return lst "
   ]
  },
  {
   "cell_type": "code",
   "execution_count": 29,
   "metadata": {
    "collapsed": false
   },
   "outputs": [
    {
     "data": {
      "text/plain": [
       "[2]"
      ]
     },
     "execution_count": 29,
     "metadata": {},
     "output_type": "execute_result"
    }
   ],
   "source": [
    "append_if_even(2)"
   ]
  },
  {
   "cell_type": "code",
   "execution_count": 30,
   "metadata": {
    "collapsed": false
   },
   "outputs": [
    {
     "data": {
      "text/plain": [
       "[4]"
      ]
     },
     "execution_count": 30,
     "metadata": {},
     "output_type": "execute_result"
    }
   ],
   "source": [
    "append_if_even(4)"
   ]
  },
  {
   "cell_type": "markdown",
   "metadata": {},
   "source": [
    "#### Распаковывание аргументов и параметров"
   ]
  },
  {
   "cell_type": "markdown",
   "metadata": {},
   "source": [
    "Если значения параметров, которые планируется передать в  функцию, содержатся в  кортеже или списке, то перед объектом следует указать символ *. "
   ]
  },
  {
   "cell_type": "code",
   "execution_count": 33,
   "metadata": {
    "collapsed": true
   },
   "outputs": [],
   "source": [
    "t1 = (5, 10 ,15)\n",
    "t2 = [25, 35, 45]\n",
    "t3 = (5, 10 ,15, 20)"
   ]
  },
  {
   "cell_type": "code",
   "execution_count": 35,
   "metadata": {
    "collapsed": false
   },
   "outputs": [
    {
     "data": {
      "text/plain": [
       "30"
      ]
     },
     "execution_count": 35,
     "metadata": {},
     "output_type": "execute_result"
    }
   ],
   "source": [
    "# неудобный способ:\n",
    "multi_summa(t1[0], t1[1], t1[2])"
   ]
  },
  {
   "cell_type": "code",
   "execution_count": 36,
   "metadata": {
    "collapsed": false
   },
   "outputs": [
    {
     "data": {
      "text/plain": [
       "30"
      ]
     },
     "execution_count": 36,
     "metadata": {},
     "output_type": "execute_result"
    }
   ],
   "source": [
    "multi_summa(*t1)"
   ]
  },
  {
   "cell_type": "code",
   "execution_count": 40,
   "metadata": {
    "collapsed": false
   },
   "outputs": [
    {
     "data": {
      "text/plain": [
       "105"
      ]
     },
     "execution_count": 40,
     "metadata": {},
     "output_type": "execute_result"
    }
   ],
   "source": [
    "multi_summa(*t2)"
   ]
  },
  {
   "cell_type": "code",
   "execution_count": 41,
   "metadata": {
    "collapsed": false
   },
   "outputs": [
    {
     "ename": "TypeError",
     "evalue": "multi_summa() takes from 0 to 3 positional arguments but 4 were given",
     "output_type": "error",
     "traceback": [
      "\u001b[1;31m--------------------------------------------------------------------------\u001b[0m",
      "\u001b[1;31mTypeError\u001b[0m                                Traceback (most recent call last)",
      "\u001b[1;32m<ipython-input-41-b9286becdaf8>\u001b[0m in \u001b[0;36m<module>\u001b[1;34m()\u001b[0m\n\u001b[0;32m      1\u001b[0m \u001b[1;31m# ошибка: количество передаваемых параметров должно равняться количеству объявленных в функции параметров:\u001b[0m\u001b[1;33m\u001b[0m\u001b[1;33m\u001b[0m\u001b[0m\n\u001b[1;32m----> 2\u001b[1;33m \u001b[0mmulti_summa\u001b[0m\u001b[1;33m(\u001b[0m\u001b[1;33m*\u001b[0m\u001b[0mt3\u001b[0m\u001b[1;33m)\u001b[0m\u001b[1;33m\u001b[0m\u001b[0m\n\u001b[0m",
      "\u001b[1;31mTypeError\u001b[0m: multi_summa() takes from 0 to 3 positional arguments but 4 were given"
     ]
    }
   ],
   "source": [
    "# ошибка: количество передаваемых параметров должно равняться количеству объявленных в функции параметров:\n",
    "multi_summa(*t3)"
   ]
  },
  {
   "cell_type": "code",
   "execution_count": 42,
   "metadata": {
    "collapsed": false
   },
   "outputs": [
    {
     "data": {
      "text/plain": [
       "30"
      ]
     },
     "execution_count": 42,
     "metadata": {},
     "output_type": "execute_result"
    }
   ],
   "source": [
    "# решение проблемы:\n",
    "multi_summa(*t3[:3])"
   ]
  },
  {
   "cell_type": "markdown",
   "metadata": {},
   "source": [
    "Если значения параметров содержатся в словаре, то распаковать словарь можно, указав перед ним две звездочки \\*\\* :"
   ]
  },
  {
   "cell_type": "code",
   "execution_count": 43,
   "metadata": {
    "collapsed": false
   },
   "outputs": [],
   "source": [
    "d1 = {'x': 11, 'y': 12, 'z': 13}"
   ]
  },
  {
   "cell_type": "code",
   "execution_count": 44,
   "metadata": {
    "collapsed": false
   },
   "outputs": [
    {
     "data": {
      "text/plain": [
       "36"
      ]
     },
     "execution_count": 44,
     "metadata": {},
     "output_type": "execute_result"
    }
   ],
   "source": [
    "multi_summa(**d1)"
   ]
  },
  {
   "cell_type": "code",
   "execution_count": 45,
   "metadata": {
    "collapsed": false
   },
   "outputs": [
    {
     "data": {
      "text/plain": [
       "-3"
      ]
     },
     "execution_count": 45,
     "metadata": {},
     "output_type": "execute_result"
    }
   ],
   "source": [
    "t3 = [0, -1]\n",
    "d2 = {'z': -2}\n",
    "multi_summa(*t3, **d2)"
   ]
  },
  {
   "cell_type": "markdown",
   "metadata": {},
   "source": [
    "Переменное число параметров в функции"
   ]
  },
  {
   "cell_type": "code",
   "execution_count": 46,
   "metadata": {
    "collapsed": true
   },
   "outputs": [],
   "source": [
    "# распаковывание последовательности в списке параметров функции:\n",
    "def all_summa(*t): \n",
    "    \"\"\"Функция принимает произвольное количество параметров\"\"\" \n",
    "    res = 0\n",
    "    for i in t: \n",
    "        res += i \n",
    "    return  res "
   ]
  },
  {
   "cell_type": "code",
   "execution_count": 47,
   "metadata": {
    "collapsed": false
   },
   "outputs": [
    {
     "data": {
      "text/plain": [
       "150"
      ]
     },
     "execution_count": 47,
     "metadata": {},
     "output_type": "execute_result"
    }
   ],
   "source": [
    "all_summa(10, 20, 30, 40, 50)"
   ]
  },
  {
   "cell_type": "code",
   "execution_count": 48,
   "metadata": {
    "collapsed": false
   },
   "outputs": [
    {
     "data": {
      "text/plain": [
       "280"
      ]
     },
     "execution_count": 48,
     "metadata": {},
     "output_type": "execute_result"
    }
   ],
   "source": [
    "t4 = [10, 20, 30, 40, 50, 60, 70]\n",
    "all_summa(*t4)"
   ]
  },
  {
   "cell_type": "markdown",
   "metadata": {},
   "source": [
    "Если перед параметром в  определении функции указать две звездочки \\*\\*, то все  именованные параметры будут сохранены в словаре"
   ]
  },
  {
   "cell_type": "code",
   "execution_count": 49,
   "metadata": {
    "collapsed": true
   },
   "outputs": [],
   "source": [
    "def d_summa(**d): \n",
    "    for k, v in d.items():  #  Перебираем словарь  с  переданными параметрами \n",
    "        print(\"{} => {}\".format(k, v), end=\" \") "
   ]
  },
  {
   "cell_type": "code",
   "execution_count": 50,
   "metadata": {
    "collapsed": false
   },
   "outputs": [
    {
     "name": "stdout",
     "output_type": "stream",
     "text": [
      "a => 1 x => 10 z => -2 "
     ]
    }
   ],
   "source": [
    "d_summa(a=1, x=10, z=-2)"
   ]
  },
  {
   "cell_type": "code",
   "execution_count": 51,
   "metadata": {
    "collapsed": false,
    "scrolled": false
   },
   "outputs": [
    {
     "name": "stdout",
     "output_type": "stream",
     "text": [
      "e => 5 f => 3 g => 4 "
     ]
    }
   ],
   "source": [
    "d3 = {'f': 3, 'g': 4, 'e': 5}\n",
    "d_summa(**d3)"
   ]
  },
  {
   "cell_type": "markdown",
   "metadata": {},
   "source": [
    "При комбинировании  параметров  параметр с  двумя звездочками указывается  самым последним. "
   ]
  },
  {
   "cell_type": "code",
   "execution_count": 52,
   "metadata": {
    "collapsed": true
   },
   "outputs": [],
   "source": [
    "def c_summa(*t, **d): \n",
    "    for v in t: \n",
    "        print(v, end=\" \") \n",
    "    for k, v in d.items(): \n",
    "        print(\"{} => {}\".format(k, v), end=\" \") "
   ]
  },
  {
   "cell_type": "code",
   "execution_count": 53,
   "metadata": {
    "collapsed": false
   },
   "outputs": [
    {
     "name": "stdout",
     "output_type": "stream",
     "text": [
      "10 20 30 40 50 60 70 e => 5 f => 3 g => 4 "
     ]
    }
   ],
   "source": [
    "c_summa(*t4, **d3)"
   ]
  },
  {
   "cell_type": "markdown",
   "metadata": {},
   "source": [
    "#### Анонимные функции"
   ]
  },
  {
   "cell_type": "markdown",
   "metadata": {},
   "source": [
    "Помимо обычных функций язык Python  позволяет использовать анонимные функции, которые называются лямбда-функциями. Анонимная функция описывается с помощью ключевого слова lambda по следующей схеме:\n",
    "\n",
    "lamda [<Параметрl>[,  ... ,  <ПараметрN>]]:  <Возвращаемое  значение> \n",
    "\n",
    "После ключевого слова lambda можно указать передаваемые параметры. В качестве параметра <Возвращаемое  значение>  указывается  выражение,  результат  выполнения  которого будет возвращен функцией.  Как видно из  схемы, у лямбда-функций нет имени.  По этой причине их и называют анонимными функциями. \n",
    "\n",
    "В  качестве  значения  лямбда-функция  возвращает  ссылку  на  объект-функцию, которую можно сохранить в переменной или передать в качестве параметра в другую функцию. Вызвать лямбда-функцию можно, как и обычную, с помощью круглых скобок, внутри которых расположены передаваемые параметры."
   ]
  },
  {
   "cell_type": "code",
   "execution_count": 147,
   "metadata": {
    "collapsed": false
   },
   "outputs": [
    {
     "name": "stdout",
     "output_type": "stream",
     "text": [
      "30\n",
      "15\n",
      "45\n"
     ]
    }
   ],
   "source": [
    "fl = lambda: 10 + 20  # функция без nараметров \n",
    "f2  = lambda х, y:  х + y  # функция с двумя nараметрами \n",
    "f3  = lambda х, y,  z: х + y + z  # функция с тремя nараметрами \n",
    "print(fl())\n",
    "print(f2(5, 10))\n",
    "print(f3(5, 10, 30))"
   ]
  },
  {
   "cell_type": "code",
   "execution_count": 149,
   "metadata": {
    "collapsed": false
   },
   "outputs": [
    {
     "name": "stdout",
     "output_type": "stream",
     "text": [
      "['Единица2', 'Единый', 'единица1']\n",
      "['единица1', 'Единица2', 'Единый']\n"
     ]
    }
   ],
   "source": [
    "arr  =  [\"единица1\",  \"Единый\",  \"Единица2\"] \n",
    "arr.sort() \n",
    "print(arr)\n",
    "arr.sort(key=lambda s: s.lower()) \n",
    "print(arr)"
   ]
  },
  {
   "cell_type": "markdown",
   "metadata": {},
   "source": [
    "#### Передача параметров функций"
   ]
  },
  {
   "cell_type": "markdown",
   "metadata": {},
   "source": [
    "Объекты в  функцию передаются по ссылке. Если объект относится к  неюменяемому типу, то изменение значения внутри функции не затронет значение переменной вне функuии."
   ]
  },
  {
   "cell_type": "code",
   "execution_count": 126,
   "metadata": {
    "collapsed": true
   },
   "outputs": [],
   "source": [
    "def change(a, b): \n",
    "    а = 20\n",
    "    b = 'str'"
   ]
  },
  {
   "cell_type": "code",
   "execution_count": 127,
   "metadata": {
    "collapsed": false
   },
   "outputs": [
    {
     "name": "stdout",
     "output_type": "stream",
     "text": [
      "v1: 30\n",
      "v2: val\n"
     ]
    }
   ],
   "source": [
    "v1 = 30\n",
    "v2 = 'val'\n",
    "change(v1, v2)\n",
    "print('v1: {}'.format(v1))\n",
    "print('v2: {}'.format(v2))"
   ]
  },
  {
   "cell_type": "code",
   "execution_count": 130,
   "metadata": {
    "collapsed": true
   },
   "outputs": [],
   "source": [
    "def change2(a): \n",
    "    a.append(10)"
   ]
  },
  {
   "cell_type": "code",
   "execution_count": 131,
   "metadata": {
    "collapsed": false
   },
   "outputs": [
    {
     "data": {
      "text/plain": [
       "[1, 10]"
      ]
     },
     "execution_count": 131,
     "metadata": {},
     "output_type": "execute_result"
    }
   ],
   "source": [
    "s1 = [1]\n",
    "change2(s1)\n",
    "s1"
   ]
  },
  {
   "cell_type": "markdown",
   "metadata": {},
   "source": [
    "####  Глобальные и локальные переменные"
   ]
  },
  {
   "cell_type": "markdown",
   "metadata": {},
   "source": [
    "Глобальные  переменные - это  переменные,  объявленные  в  программе  вне  функции. В  Pythoп  глобальные  персменные видны  в  любой части  модуля,  включая функции."
   ]
  },
  {
   "cell_type": "code",
   "execution_count": 54,
   "metadata": {
    "collapsed": false
   },
   "outputs": [
    {
     "name": "stdout",
     "output_type": "stream",
     "text": [
      "Значение  глобальной  nеременной  g1оb =  10\n",
      "Значение  локальной  переменной  g1ob2 =  87\n",
      "Значение  глобальной  переменной  g1ob2 =  5\n"
     ]
    }
   ],
   "source": [
    "def func_glob(glob2): \n",
    "    print(\"Значение  глобальной  nеременной  g1оb = \",  glob) \n",
    "    glob2 += 10 \n",
    "    print(\"Значение  локальной  переменной  g1ob2 = \", glob2) \n",
    "\n",
    "glob, glob2 = 10, 5 \n",
    "func_glob(77)  #  Вызываем функцию \n",
    "print(\"Значение  глобальной  переменной  g1ob2 = \", glob2)"
   ]
  },
  {
   "cell_type": "markdown",
   "metadata": {},
   "source": [
    "Переменной glob2  внутри функции присваивается значение, переданное при вызове функции. По этой причине создается новое имя glob2,  которое является локальным. Все изменения этой переменной внутри функции не затронут значение одноименной глобальной переменной. \n",
    "\n",
    "Локальные переменные - это переменные, которым внутри функции присваивается значение.  Если имя локальной переменной совпадает с  именем глобальной перемснной, то все операции внутри функции осуществляются с локальной переменной, а значение глобальной переменной  не  изменяется.  Локальные  персменные  видны только  внутри  тела  функции"
   ]
  },
  {
   "cell_type": "code",
   "execution_count": 55,
   "metadata": {
    "collapsed": false
   },
   "outputs": [
    {
     "name": "stdout",
     "output_type": "stream",
     "text": [
      "Значение glob внутри функции:  25\n",
      "Значение glob вне  функции:  10\n",
      "Переменная 1ос не видна вне функции\n"
     ]
    }
   ],
   "source": [
    "def func():\n",
    "    loc = 77 #  Локальная  переменная \n",
    "    glob = 25 #  Локальная  переменная \n",
    "    print('Значение glob внутри функции: ', glob)\n",
    "\n",
    "glob = 10 #  Глобальная  переменная \n",
    "func() # Вызываем функцию \n",
    "print(\"Значение glob вне  функции: \", glob) \n",
    "try: \n",
    "    print(loc)  #  Вызовет  исключение  NameError \n",
    "except NameError:  #  Обрабатьrnаем исключение \n",
    "    print(\"Переменная 1ос не видна вне функции\") "
   ]
  },
  {
   "cell_type": "markdown",
   "metadata": {},
   "source": [
    "Как видно из примера, переменная loc, объявленная внутри функции func(), недоступна вне функции. Объявление внутри функции локальной переменной glob не изменило значения одноименной глобальной переменной. Если обращение к  переменной производится до присваивания значения (даже если существует  одноименная глобальная переменная), то будет возбуждено  исключение UnboundLocalError."
   ]
  },
  {
   "cell_type": "markdown",
   "metadata": {},
   "source": [
    "Для того чтобЬI  значение глобальной переменной можно бЬJло  изменить внутри функции, необходимо объявить переменную глобальной с  помощью ключевого слова global."
   ]
  },
  {
   "cell_type": "code",
   "execution_count": 56,
   "metadata": {
    "collapsed": false
   },
   "outputs": [
    {
     "name": "stdout",
     "output_type": "stream",
     "text": [
      "Значение glob внутри функции:  25\n",
      "Значение glob вне  функции:  25\n"
     ]
    }
   ],
   "source": [
    "def func():\n",
    "    global glob\n",
    "    loc = 77 #  Локальная  переменная \n",
    "    glob = 25 #  Локальная  переменная \n",
    "    print('Значение glob внутри функции: ', glob)\n",
    "\n",
    "glob = 10 #  Глобальная  переменная \n",
    "func() # Вызываем функцию \n",
    "print(\"Значение glob вне  функции: \", glob) "
   ]
  },
  {
   "cell_type": "markdown",
   "metadata": {},
   "source": [
    "Поиск  идентификатора, используемого внутри функции, производится в следующем порядке: \n",
    "1.  Поиск объявления идентификатора внутри функции (в локальной области видимости). \n",
    "2.  Поиск объявления идентификатора в глобальной области. \n",
    "3.  Поиск во встроенной области видимости (встроенне функции, классыI и т. д.). "
   ]
  },
  {
   "cell_type": "markdown",
   "metadata": {},
   "source": [
    "Получить все идентификаторы и их значения nозволяют следующие функции: \n",
    "* globals() - возвращает словарь с  глобальными идентификаторами; \n",
    "* locals() - возвращает словарь с локальными идентификаторами;\n",
    "* vars( [<Объект>] ) - если  вызывается  без  параметра  внутри  функции,  то  возвращает словарь с локальными идентификаторами. Если вызывается без параметра вне функции, то возвращает словарь с  глобальными идентификаторами. При указании объекта в  качестве  параметра  возвращает  идентификаторы  этого  объекта  (эквивалентно  вызову \n",
    "<Объект>.\\_\\_dict\\_\\_ )"
   ]
  },
  {
   "cell_type": "code",
   "execution_count": 57,
   "metadata": {
    "collapsed": false
   },
   "outputs": [
    {
     "data": {
      "text/plain": [
       "{'In': ['',\n",
       "  'def func(): \\n    pass ',\n",
       "  'def  func(): \\n    print (\"Текст  до  инструкции  return\") \\n    return  \"Возвращаемое  значение\" \\n    print (\"Эта  инструкция  никогда  не  будет  вьmолнена\") ',\n",
       "  'print(func())  # вызываем функцию ',\n",
       "  'def print_ok(): \\n    \"\"\"  Пример  функции  без  nараметров  \"\"\" \\n    print(\"Сообщение  при  удачно вьmолненной  операции\") \\n    \\ndef echo(m): \\n    \"\"\"  Пример  функции  с  параметром \"\"\" \\n    print(m) \\n    \\ndef summa(x, у): \\n    \"\"\"  Пример функции с параметрами, \\n    возвращающей  сумму двух  переменных\"\"\"\\n    return x + у',\n",
       "  'print_ok()',\n",
       "  'echo(\"Сообщение\")',\n",
       "  'x = summa(5, 2)\\nx',\n",
       "  'a, b = 10, 40\\ny = summa(a, b)\\ny',\n",
       "  \"summa('str', 'ing')\",\n",
       "  'summa([1, 3], [5, 7])',\n",
       "  'f = summa\\nv = f(10, 20)\\nv',\n",
       "  'def summa(x, y=2):\\n    return x + y',\n",
       "  'summa(5)',\n",
       "  'summa(5, 4)',\n",
       "  'summa(y=10, x=20)',\n",
       "  'def multi_summa(x=1, y=2, z=3):\\n    return x + y + z',\n",
       "  'multi_summa(10, 20 , 30)',\n",
       "  'multi_summa(10, 20)',\n",
       "  'multi_summa(10)',\n",
       "  '# ошибка:\\ndef bad(a, b=1, с):\\n    return a + b + c',\n",
       "  'def append_if_even(x, lst=[]): # ОШИБКА! \\n    if x % 2 == 0: \\n        Ist.append(x) \\n    return lst ',\n",
       "  'append_if_even(2)',\n",
       "  'def append_if_even(x, lst=[]): # ОШИБКА! \\n    if x % 2 == 0: \\n        lt.append(x) \\n    return lst ',\n",
       "  'append_if_even(2)',\n",
       "  'def append_if_even(x, lst=[]): # ОШИБКА! \\n    if x % 2 == 0: \\n        lst.append(x) \\n    return lst ',\n",
       "  'append_if_even(2)',\n",
       "  'append_if_even(4)',\n",
       "  '# пример решения задачи, не содержащего ошибки\\ndef append_if_even(x, lst=None):\\n    if lst is None:\\n        lst = []\\n    if x % 2 == 0: \\n        lst.append(x) \\n    return lst ',\n",
       "  'append_if_even(2)',\n",
       "  'append_if_even(4)',\n",
       "  '# неудобный способ:\\nmulti_summa(t1[0], t1[1], t[2])',\n",
       "  't1 = (5, 10 ,15)\\nt2 = [25, 35, 45]',\n",
       "  't1 = (5, 10 ,15)\\nt2 = [25, 35, 45]\\nt3 = (5, 10 ,15, 20)',\n",
       "  '# неудобный способ:\\nmulti_summa(t1[0], t1[1], t[2])',\n",
       "  '# неудобный способ:\\nmulti_summa(t1[0], t1[1], t1[2])',\n",
       "  'multi_summa(*t1)',\n",
       "  'multi_summa(*t2)',\n",
       "  'multi_summa(*t3[:3])',\n",
       "  'multi_summa(*t3)',\n",
       "  'multi_summa(*t2)',\n",
       "  '# ошибка: количество передаваемых параметров должно равняться количеству объявленных в функции параметров:\\nmulti_summa(*t3)',\n",
       "  '# решение проблемы:\\nmulti_summa(*t3[:3])',\n",
       "  \"d1 = {'x': 11, 'y': 12, 'z': 13}\",\n",
       "  'multi_summa(**d1)',\n",
       "  \"t3 = [0, -1]\\nd2 = {'z': -2}\\nmulti_summa(*t3, **d2)\",\n",
       "  '# распаковывание последовательности в списке параметров функции:\\ndef all_summa(*t): \\n    \"\"\"Функция принимает произвольное количество параметров\"\"\" \\n    res = 0\\n    for i in t: \\n        res += i \\n    return  res ',\n",
       "  'all_summa(10, 20, 30, 40, 50)',\n",
       "  't4 = [10, 20, 30, 40, 50, 60, 70]\\nall_summa(*t4)',\n",
       "  'def d_summa(**d): \\n    for k, v in d.items():  #  Перебираем словарь  с  переданными параметрами \\n        print(\"{} => {}\".format(k, v), end=\" \") ',\n",
       "  'd_summa(a=1, x=10, z=-2)',\n",
       "  \"d3 = {'f': 3, 'g': 4, 'e': 5}\\nd_summa(**d3)\",\n",
       "  'def c_summa(*t, **d): \\n    for v in t: \\n        print(v, end=\" \") \\n    for k, v in d.items(): \\n        print(\"{} => {}\".format(k, v), end=\" \") ',\n",
       "  'c_summa(*t4, **d3)',\n",
       "  'def func_glob(glob2): \\n    print(\"Значение  глобальной  nеременной  g1оb = \",  glob) \\n    glob2 += 10 \\n    print(\"Значение  локальной  переменной  g1ob2 = \", glob2) \\n\\nglob, glob2 = 10, 5 \\nfunc_glob(77)  #  Вызываем функцию \\nprint(\"Значение  глобальной  переменной  g1ob2 = \", glob2)',\n",
       "  'def func():\\n    loc = 77 #  Локальная  переменная \\n    glob = 25 #  Локальная  переменная \\n    print(\\'Значение glob внутри функции: \\', glob)\\n\\nglob = 10 #  Глобальная  переменная \\nfunc() # Вызываем функцию \\nprint(\"Значение glob вне  функции: \", glob) \\ntry: \\n    print(loc)  #  Вызовет  исключение  NameError \\nexcept NameError:  #  Обрабатьrnаем исключение \\n    print(\"Переменная 1ос не видна вне функции\") ',\n",
       "  'def func():\\n    global glob\\n    loc = 77 #  Локальная  переменная \\n    glob = 25 #  Локальная  переменная \\n    print(\\'Значение glob внутри функции: \\', glob)\\n\\nglob = 10 #  Глобальная  переменная \\nfunc() # Вызываем функцию \\nprint(\"Значение glob вне  функции: \", glob) ',\n",
       "  'globals()'],\n",
       " 'Out': {7: 7,\n",
       "  8: 50,\n",
       "  9: 'string',\n",
       "  10: [1, 3, 5, 7],\n",
       "  11: 30,\n",
       "  13: 7,\n",
       "  14: 9,\n",
       "  15: 30,\n",
       "  17: 60,\n",
       "  18: 33,\n",
       "  19: 15,\n",
       "  26: [2, 4],\n",
       "  27: [2, 4],\n",
       "  29: [2],\n",
       "  30: [4],\n",
       "  35: 30,\n",
       "  36: 30,\n",
       "  37: 105,\n",
       "  38: 30,\n",
       "  40: 105,\n",
       "  42: 30,\n",
       "  44: 36,\n",
       "  45: -3,\n",
       "  47: 150,\n",
       "  48: 280},\n",
       " '_': 280,\n",
       " '_10': [1, 3, 5, 7],\n",
       " '_11': 30,\n",
       " '_13': 7,\n",
       " '_14': 9,\n",
       " '_15': 30,\n",
       " '_17': 60,\n",
       " '_18': 33,\n",
       " '_19': 15,\n",
       " '_26': [2, 4],\n",
       " '_27': [2, 4],\n",
       " '_29': [2],\n",
       " '_30': [4],\n",
       " '_35': 30,\n",
       " '_36': 30,\n",
       " '_37': 105,\n",
       " '_38': 30,\n",
       " '_40': 105,\n",
       " '_42': 30,\n",
       " '_44': 36,\n",
       " '_45': -3,\n",
       " '_47': 150,\n",
       " '_48': 280,\n",
       " '_7': 7,\n",
       " '_8': 50,\n",
       " '_9': 'string',\n",
       " '__': 150,\n",
       " '___': -3,\n",
       " '__builtin__': <module 'builtins' (built-in)>,\n",
       " '__builtins__': <module 'builtins' (built-in)>,\n",
       " '__doc__': 'Automatically created module for IPython interactive environment',\n",
       " '__loader__': None,\n",
       " '__name__': '__main__',\n",
       " '__package__': None,\n",
       " '__spec__': None,\n",
       " '_dh': ['E:\\\\YandexDisk\\\\Python\\\\Ipynb\\\\fa1_2016\\\\lec_4'],\n",
       " '_i': 'def func():\\n    global glob\\n    loc = 77 #  Локальная  переменная \\n    glob = 25 #  Локальная  переменная \\n    print(\\'Значение glob внутри функции: \\', glob)\\n\\nglob = 10 #  Глобальная  переменная \\nfunc() # Вызываем функцию \\nprint(\"Значение glob вне  функции: \", glob) ',\n",
       " '_i1': 'def func(): \\n    pass ',\n",
       " '_i10': 'summa([1, 3], [5, 7])',\n",
       " '_i11': 'f = summa\\nv = f(10, 20)\\nv',\n",
       " '_i12': 'def summa(x, y=2):\\n    return x + y',\n",
       " '_i13': 'summa(5)',\n",
       " '_i14': 'summa(5, 4)',\n",
       " '_i15': 'summa(y=10, x=20)',\n",
       " '_i16': 'def multi_summa(x=1, y=2, z=3):\\n    return x + y + z',\n",
       " '_i17': 'multi_summa(10, 20 , 30)',\n",
       " '_i18': 'multi_summa(10, 20)',\n",
       " '_i19': 'multi_summa(10)',\n",
       " '_i2': 'def  func(): \\n    print (\"Текст  до  инструкции  return\") \\n    return  \"Возвращаемое  значение\" \\n    print (\"Эта  инструкция  никогда  не  будет  вьmолнена\") ',\n",
       " '_i20': '# ошибка:\\ndef bad(a, b=1, с):\\n    return a + b + c',\n",
       " '_i21': 'def append_if_even(x, lst=[]): # ОШИБКА! \\n    if x % 2 == 0: \\n        Ist.append(x) \\n    return lst ',\n",
       " '_i22': 'append_if_even(2)',\n",
       " '_i23': 'def append_if_even(x, lst=[]): # ОШИБКА! \\n    if x % 2 == 0: \\n        lt.append(x) \\n    return lst ',\n",
       " '_i24': 'append_if_even(2)',\n",
       " '_i25': 'def append_if_even(x, lst=[]): # ОШИБКА! \\n    if x % 2 == 0: \\n        lst.append(x) \\n    return lst ',\n",
       " '_i26': 'append_if_even(2)',\n",
       " '_i27': 'append_if_even(4)',\n",
       " '_i28': '# пример решения задачи, не содержащего ошибки\\ndef append_if_even(x, lst=None):\\n    if lst is None:\\n        lst = []\\n    if x % 2 == 0: \\n        lst.append(x) \\n    return lst ',\n",
       " '_i29': 'append_if_even(2)',\n",
       " '_i3': 'print(func())  # вызываем функцию ',\n",
       " '_i30': 'append_if_even(4)',\n",
       " '_i31': '# неудобный способ:\\nmulti_summa(t1[0], t1[1], t[2])',\n",
       " '_i32': 't1 = (5, 10 ,15)\\nt2 = [25, 35, 45]',\n",
       " '_i33': 't1 = (5, 10 ,15)\\nt2 = [25, 35, 45]\\nt3 = (5, 10 ,15, 20)',\n",
       " '_i34': '# неудобный способ:\\nmulti_summa(t1[0], t1[1], t[2])',\n",
       " '_i35': '# неудобный способ:\\nmulti_summa(t1[0], t1[1], t1[2])',\n",
       " '_i36': 'multi_summa(*t1)',\n",
       " '_i37': 'multi_summa(*t2)',\n",
       " '_i38': 'multi_summa(*t3[:3])',\n",
       " '_i39': 'multi_summa(*t3)',\n",
       " '_i4': 'def print_ok(): \\n    \"\"\"  Пример  функции  без  nараметров  \"\"\" \\n    print(\"Сообщение  при  удачно вьmолненной  операции\") \\n    \\ndef echo(m): \\n    \"\"\"  Пример  функции  с  параметром \"\"\" \\n    print(m) \\n    \\ndef summa(x, у): \\n    \"\"\"  Пример функции с параметрами, \\n    возвращающей  сумму двух  переменных\"\"\"\\n    return x + у',\n",
       " '_i40': 'multi_summa(*t2)',\n",
       " '_i41': '# ошибка: количество передаваемых параметров должно равняться количеству объявленных в функции параметров:\\nmulti_summa(*t3)',\n",
       " '_i42': '# решение проблемы:\\nmulti_summa(*t3[:3])',\n",
       " '_i43': \"d1 = {'x': 11, 'y': 12, 'z': 13}\",\n",
       " '_i44': 'multi_summa(**d1)',\n",
       " '_i45': \"t3 = [0, -1]\\nd2 = {'z': -2}\\nmulti_summa(*t3, **d2)\",\n",
       " '_i46': '# распаковывание последовательности в списке параметров функции:\\ndef all_summa(*t): \\n    \"\"\"Функция принимает произвольное количество параметров\"\"\" \\n    res = 0\\n    for i in t: \\n        res += i \\n    return  res ',\n",
       " '_i47': 'all_summa(10, 20, 30, 40, 50)',\n",
       " '_i48': 't4 = [10, 20, 30, 40, 50, 60, 70]\\nall_summa(*t4)',\n",
       " '_i49': 'def d_summa(**d): \\n    for k, v in d.items():  #  Перебираем словарь  с  переданными параметрами \\n        print(\"{} => {}\".format(k, v), end=\" \") ',\n",
       " '_i5': 'print_ok()',\n",
       " '_i50': 'd_summa(a=1, x=10, z=-2)',\n",
       " '_i51': \"d3 = {'f': 3, 'g': 4, 'e': 5}\\nd_summa(**d3)\",\n",
       " '_i52': 'def c_summa(*t, **d): \\n    for v in t: \\n        print(v, end=\" \") \\n    for k, v in d.items(): \\n        print(\"{} => {}\".format(k, v), end=\" \") ',\n",
       " '_i53': 'c_summa(*t4, **d3)',\n",
       " '_i54': 'def func_glob(glob2): \\n    print(\"Значение  глобальной  nеременной  g1оb = \",  glob) \\n    glob2 += 10 \\n    print(\"Значение  локальной  переменной  g1ob2 = \", glob2) \\n\\nglob, glob2 = 10, 5 \\nfunc_glob(77)  #  Вызываем функцию \\nprint(\"Значение  глобальной  переменной  g1ob2 = \", glob2)',\n",
       " '_i55': 'def func():\\n    loc = 77 #  Локальная  переменная \\n    glob = 25 #  Локальная  переменная \\n    print(\\'Значение glob внутри функции: \\', glob)\\n\\nglob = 10 #  Глобальная  переменная \\nfunc() # Вызываем функцию \\nprint(\"Значение glob вне  функции: \", glob) \\ntry: \\n    print(loc)  #  Вызовет  исключение  NameError \\nexcept NameError:  #  Обрабатьrnаем исключение \\n    print(\"Переменная 1ос не видна вне функции\") ',\n",
       " '_i56': 'def func():\\n    global glob\\n    loc = 77 #  Локальная  переменная \\n    glob = 25 #  Локальная  переменная \\n    print(\\'Значение glob внутри функции: \\', glob)\\n\\nglob = 10 #  Глобальная  переменная \\nfunc() # Вызываем функцию \\nprint(\"Значение glob вне  функции: \", glob) ',\n",
       " '_i57': 'globals()',\n",
       " '_i6': 'echo(\"Сообщение\")',\n",
       " '_i7': 'x = summa(5, 2)\\nx',\n",
       " '_i8': 'a, b = 10, 40\\ny = summa(a, b)\\ny',\n",
       " '_i9': \"summa('str', 'ing')\",\n",
       " '_ih': ['',\n",
       "  'def func(): \\n    pass ',\n",
       "  'def  func(): \\n    print (\"Текст  до  инструкции  return\") \\n    return  \"Возвращаемое  значение\" \\n    print (\"Эта  инструкция  никогда  не  будет  вьmолнена\") ',\n",
       "  'print(func())  # вызываем функцию ',\n",
       "  'def print_ok(): \\n    \"\"\"  Пример  функции  без  nараметров  \"\"\" \\n    print(\"Сообщение  при  удачно вьmолненной  операции\") \\n    \\ndef echo(m): \\n    \"\"\"  Пример  функции  с  параметром \"\"\" \\n    print(m) \\n    \\ndef summa(x, у): \\n    \"\"\"  Пример функции с параметрами, \\n    возвращающей  сумму двух  переменных\"\"\"\\n    return x + у',\n",
       "  'print_ok()',\n",
       "  'echo(\"Сообщение\")',\n",
       "  'x = summa(5, 2)\\nx',\n",
       "  'a, b = 10, 40\\ny = summa(a, b)\\ny',\n",
       "  \"summa('str', 'ing')\",\n",
       "  'summa([1, 3], [5, 7])',\n",
       "  'f = summa\\nv = f(10, 20)\\nv',\n",
       "  'def summa(x, y=2):\\n    return x + y',\n",
       "  'summa(5)',\n",
       "  'summa(5, 4)',\n",
       "  'summa(y=10, x=20)',\n",
       "  'def multi_summa(x=1, y=2, z=3):\\n    return x + y + z',\n",
       "  'multi_summa(10, 20 , 30)',\n",
       "  'multi_summa(10, 20)',\n",
       "  'multi_summa(10)',\n",
       "  '# ошибка:\\ndef bad(a, b=1, с):\\n    return a + b + c',\n",
       "  'def append_if_even(x, lst=[]): # ОШИБКА! \\n    if x % 2 == 0: \\n        Ist.append(x) \\n    return lst ',\n",
       "  'append_if_even(2)',\n",
       "  'def append_if_even(x, lst=[]): # ОШИБКА! \\n    if x % 2 == 0: \\n        lt.append(x) \\n    return lst ',\n",
       "  'append_if_even(2)',\n",
       "  'def append_if_even(x, lst=[]): # ОШИБКА! \\n    if x % 2 == 0: \\n        lst.append(x) \\n    return lst ',\n",
       "  'append_if_even(2)',\n",
       "  'append_if_even(4)',\n",
       "  '# пример решения задачи, не содержащего ошибки\\ndef append_if_even(x, lst=None):\\n    if lst is None:\\n        lst = []\\n    if x % 2 == 0: \\n        lst.append(x) \\n    return lst ',\n",
       "  'append_if_even(2)',\n",
       "  'append_if_even(4)',\n",
       "  '# неудобный способ:\\nmulti_summa(t1[0], t1[1], t[2])',\n",
       "  't1 = (5, 10 ,15)\\nt2 = [25, 35, 45]',\n",
       "  't1 = (5, 10 ,15)\\nt2 = [25, 35, 45]\\nt3 = (5, 10 ,15, 20)',\n",
       "  '# неудобный способ:\\nmulti_summa(t1[0], t1[1], t[2])',\n",
       "  '# неудобный способ:\\nmulti_summa(t1[0], t1[1], t1[2])',\n",
       "  'multi_summa(*t1)',\n",
       "  'multi_summa(*t2)',\n",
       "  'multi_summa(*t3[:3])',\n",
       "  'multi_summa(*t3)',\n",
       "  'multi_summa(*t2)',\n",
       "  '# ошибка: количество передаваемых параметров должно равняться количеству объявленных в функции параметров:\\nmulti_summa(*t3)',\n",
       "  '# решение проблемы:\\nmulti_summa(*t3[:3])',\n",
       "  \"d1 = {'x': 11, 'y': 12, 'z': 13}\",\n",
       "  'multi_summa(**d1)',\n",
       "  \"t3 = [0, -1]\\nd2 = {'z': -2}\\nmulti_summa(*t3, **d2)\",\n",
       "  '# распаковывание последовательности в списке параметров функции:\\ndef all_summa(*t): \\n    \"\"\"Функция принимает произвольное количество параметров\"\"\" \\n    res = 0\\n    for i in t: \\n        res += i \\n    return  res ',\n",
       "  'all_summa(10, 20, 30, 40, 50)',\n",
       "  't4 = [10, 20, 30, 40, 50, 60, 70]\\nall_summa(*t4)',\n",
       "  'def d_summa(**d): \\n    for k, v in d.items():  #  Перебираем словарь  с  переданными параметрами \\n        print(\"{} => {}\".format(k, v), end=\" \") ',\n",
       "  'd_summa(a=1, x=10, z=-2)',\n",
       "  \"d3 = {'f': 3, 'g': 4, 'e': 5}\\nd_summa(**d3)\",\n",
       "  'def c_summa(*t, **d): \\n    for v in t: \\n        print(v, end=\" \") \\n    for k, v in d.items(): \\n        print(\"{} => {}\".format(k, v), end=\" \") ',\n",
       "  'c_summa(*t4, **d3)',\n",
       "  'def func_glob(glob2): \\n    print(\"Значение  глобальной  nеременной  g1оb = \",  glob) \\n    glob2 += 10 \\n    print(\"Значение  локальной  переменной  g1ob2 = \", glob2) \\n\\nglob, glob2 = 10, 5 \\nfunc_glob(77)  #  Вызываем функцию \\nprint(\"Значение  глобальной  переменной  g1ob2 = \", glob2)',\n",
       "  'def func():\\n    loc = 77 #  Локальная  переменная \\n    glob = 25 #  Локальная  переменная \\n    print(\\'Значение glob внутри функции: \\', glob)\\n\\nglob = 10 #  Глобальная  переменная \\nfunc() # Вызываем функцию \\nprint(\"Значение glob вне  функции: \", glob) \\ntry: \\n    print(loc)  #  Вызовет  исключение  NameError \\nexcept NameError:  #  Обрабатьrnаем исключение \\n    print(\"Переменная 1ос не видна вне функции\") ',\n",
       "  'def func():\\n    global glob\\n    loc = 77 #  Локальная  переменная \\n    glob = 25 #  Локальная  переменная \\n    print(\\'Значение glob внутри функции: \\', glob)\\n\\nglob = 10 #  Глобальная  переменная \\nfunc() # Вызываем функцию \\nprint(\"Значение glob вне  функции: \", glob) ',\n",
       "  'globals()'],\n",
       " '_ii': 'def func():\\n    loc = 77 #  Локальная  переменная \\n    glob = 25 #  Локальная  переменная \\n    print(\\'Значение glob внутри функции: \\', glob)\\n\\nglob = 10 #  Глобальная  переменная \\nfunc() # Вызываем функцию \\nprint(\"Значение glob вне  функции: \", glob) \\ntry: \\n    print(loc)  #  Вызовет  исключение  NameError \\nexcept NameError:  #  Обрабатьrnаем исключение \\n    print(\"Переменная 1ос не видна вне функции\") ',\n",
       " '_iii': 'def func_glob(glob2): \\n    print(\"Значение  глобальной  nеременной  g1оb = \",  glob) \\n    glob2 += 10 \\n    print(\"Значение  локальной  переменной  g1ob2 = \", glob2) \\n\\nglob, glob2 = 10, 5 \\nfunc_glob(77)  #  Вызываем функцию \\nprint(\"Значение  глобальной  переменной  g1ob2 = \", glob2)',\n",
       " '_oh': {7: 7,\n",
       "  8: 50,\n",
       "  9: 'string',\n",
       "  10: [1, 3, 5, 7],\n",
       "  11: 30,\n",
       "  13: 7,\n",
       "  14: 9,\n",
       "  15: 30,\n",
       "  17: 60,\n",
       "  18: 33,\n",
       "  19: 15,\n",
       "  26: [2, 4],\n",
       "  27: [2, 4],\n",
       "  29: [2],\n",
       "  30: [4],\n",
       "  35: 30,\n",
       "  36: 30,\n",
       "  37: 105,\n",
       "  38: 30,\n",
       "  40: 105,\n",
       "  42: 30,\n",
       "  44: 36,\n",
       "  45: -3,\n",
       "  47: 150,\n",
       "  48: 280},\n",
       " '_sh': <module 'IPython.core.shadowns' from 'C:\\\\Anaconda3\\\\lib\\\\site-packages\\\\IPython\\\\core\\\\shadowns.py'>,\n",
       " 'a': 10,\n",
       " 'all_summa': <function __main__.all_summa>,\n",
       " 'append_if_even': <function __main__.append_if_even>,\n",
       " 'b': 40,\n",
       " 'c_summa': <function __main__.c_summa>,\n",
       " 'd1': {'x': 11, 'y': 12, 'z': 13},\n",
       " 'd2': {'z': -2},\n",
       " 'd3': {'e': 5, 'f': 3, 'g': 4},\n",
       " 'd_summa': <function __main__.d_summa>,\n",
       " 'echo': <function __main__.echo>,\n",
       " 'exit': <IPython.core.autocall.ZMQExitAutocall at 0x53237febe0>,\n",
       " 'f': <function __main__.summa>,\n",
       " 'func': <function __main__.func>,\n",
       " 'func_glob': <function __main__.func_glob>,\n",
       " 'get_ipython': <bound method InteractiveShell.get_ipython of <ipykernel.zmqshell.ZMQInteractiveShell object at 0x00000053223A9C18>>,\n",
       " 'glob': 25,\n",
       " 'glob2': 5,\n",
       " 'multi_summa': <function __main__.multi_summa>,\n",
       " 'print_ok': <function __main__.print_ok>,\n",
       " 'quit': <IPython.core.autocall.ZMQExitAutocall at 0x53237febe0>,\n",
       " 'summa': <function __main__.summa>,\n",
       " 't1': (5, 10, 15),\n",
       " 't2': [25, 35, 45],\n",
       " 't3': [0, -1],\n",
       " 't4': [10, 20, 30, 40, 50, 60, 70],\n",
       " 'v': 30,\n",
       " 'x': 7,\n",
       " 'y': 50}"
      ]
     },
     "execution_count": 57,
     "metadata": {},
     "output_type": "execute_result"
    }
   ],
   "source": [
    "globals()"
   ]
  },
  {
   "cell_type": "code",
   "execution_count": 58,
   "metadata": {
    "collapsed": false
   },
   "outputs": [
    {
     "data": {
      "text/plain": [
       "{'In': ['',\n",
       "  'def func(): \\n    pass ',\n",
       "  'def  func(): \\n    print (\"Текст  до  инструкции  return\") \\n    return  \"Возвращаемое  значение\" \\n    print (\"Эта  инструкция  никогда  не  будет  вьmолнена\") ',\n",
       "  'print(func())  # вызываем функцию ',\n",
       "  'def print_ok(): \\n    \"\"\"  Пример  функции  без  nараметров  \"\"\" \\n    print(\"Сообщение  при  удачно вьmолненной  операции\") \\n    \\ndef echo(m): \\n    \"\"\"  Пример  функции  с  параметром \"\"\" \\n    print(m) \\n    \\ndef summa(x, у): \\n    \"\"\"  Пример функции с параметрами, \\n    возвращающей  сумму двух  переменных\"\"\"\\n    return x + у',\n",
       "  'print_ok()',\n",
       "  'echo(\"Сообщение\")',\n",
       "  'x = summa(5, 2)\\nx',\n",
       "  'a, b = 10, 40\\ny = summa(a, b)\\ny',\n",
       "  \"summa('str', 'ing')\",\n",
       "  'summa([1, 3], [5, 7])',\n",
       "  'f = summa\\nv = f(10, 20)\\nv',\n",
       "  'def summa(x, y=2):\\n    return x + y',\n",
       "  'summa(5)',\n",
       "  'summa(5, 4)',\n",
       "  'summa(y=10, x=20)',\n",
       "  'def multi_summa(x=1, y=2, z=3):\\n    return x + y + z',\n",
       "  'multi_summa(10, 20 , 30)',\n",
       "  'multi_summa(10, 20)',\n",
       "  'multi_summa(10)',\n",
       "  '# ошибка:\\ndef bad(a, b=1, с):\\n    return a + b + c',\n",
       "  'def append_if_even(x, lst=[]): # ОШИБКА! \\n    if x % 2 == 0: \\n        Ist.append(x) \\n    return lst ',\n",
       "  'append_if_even(2)',\n",
       "  'def append_if_even(x, lst=[]): # ОШИБКА! \\n    if x % 2 == 0: \\n        lt.append(x) \\n    return lst ',\n",
       "  'append_if_even(2)',\n",
       "  'def append_if_even(x, lst=[]): # ОШИБКА! \\n    if x % 2 == 0: \\n        lst.append(x) \\n    return lst ',\n",
       "  'append_if_even(2)',\n",
       "  'append_if_even(4)',\n",
       "  '# пример решения задачи, не содержащего ошибки\\ndef append_if_even(x, lst=None):\\n    if lst is None:\\n        lst = []\\n    if x % 2 == 0: \\n        lst.append(x) \\n    return lst ',\n",
       "  'append_if_even(2)',\n",
       "  'append_if_even(4)',\n",
       "  '# неудобный способ:\\nmulti_summa(t1[0], t1[1], t[2])',\n",
       "  't1 = (5, 10 ,15)\\nt2 = [25, 35, 45]',\n",
       "  't1 = (5, 10 ,15)\\nt2 = [25, 35, 45]\\nt3 = (5, 10 ,15, 20)',\n",
       "  '# неудобный способ:\\nmulti_summa(t1[0], t1[1], t[2])',\n",
       "  '# неудобный способ:\\nmulti_summa(t1[0], t1[1], t1[2])',\n",
       "  'multi_summa(*t1)',\n",
       "  'multi_summa(*t2)',\n",
       "  'multi_summa(*t3[:3])',\n",
       "  'multi_summa(*t3)',\n",
       "  'multi_summa(*t2)',\n",
       "  '# ошибка: количество передаваемых параметров должно равняться количеству объявленных в функции параметров:\\nmulti_summa(*t3)',\n",
       "  '# решение проблемы:\\nmulti_summa(*t3[:3])',\n",
       "  \"d1 = {'x': 11, 'y': 12, 'z': 13}\",\n",
       "  'multi_summa(**d1)',\n",
       "  \"t3 = [0, -1]\\nd2 = {'z': -2}\\nmulti_summa(*t3, **d2)\",\n",
       "  '# распаковывание последовательности в списке параметров функции:\\ndef all_summa(*t): \\n    \"\"\"Функция принимает произвольное количество параметров\"\"\" \\n    res = 0\\n    for i in t: \\n        res += i \\n    return  res ',\n",
       "  'all_summa(10, 20, 30, 40, 50)',\n",
       "  't4 = [10, 20, 30, 40, 50, 60, 70]\\nall_summa(*t4)',\n",
       "  'def d_summa(**d): \\n    for k, v in d.items():  #  Перебираем словарь  с  переданными параметрами \\n        print(\"{} => {}\".format(k, v), end=\" \") ',\n",
       "  'd_summa(a=1, x=10, z=-2)',\n",
       "  \"d3 = {'f': 3, 'g': 4, 'e': 5}\\nd_summa(**d3)\",\n",
       "  'def c_summa(*t, **d): \\n    for v in t: \\n        print(v, end=\" \") \\n    for k, v in d.items(): \\n        print(\"{} => {}\".format(k, v), end=\" \") ',\n",
       "  'c_summa(*t4, **d3)',\n",
       "  'def func_glob(glob2): \\n    print(\"Значение  глобальной  nеременной  g1оb = \",  glob) \\n    glob2 += 10 \\n    print(\"Значение  локальной  переменной  g1ob2 = \", glob2) \\n\\nglob, glob2 = 10, 5 \\nfunc_glob(77)  #  Вызываем функцию \\nprint(\"Значение  глобальной  переменной  g1ob2 = \", glob2)',\n",
       "  'def func():\\n    loc = 77 #  Локальная  переменная \\n    glob = 25 #  Локальная  переменная \\n    print(\\'Значение glob внутри функции: \\', glob)\\n\\nglob = 10 #  Глобальная  переменная \\nfunc() # Вызываем функцию \\nprint(\"Значение glob вне  функции: \", glob) \\ntry: \\n    print(loc)  #  Вызовет  исключение  NameError \\nexcept NameError:  #  Обрабатьrnаем исключение \\n    print(\"Переменная 1ос не видна вне функции\") ',\n",
       "  'def func():\\n    global glob\\n    loc = 77 #  Локальная  переменная \\n    glob = 25 #  Локальная  переменная \\n    print(\\'Значение glob внутри функции: \\', glob)\\n\\nglob = 10 #  Глобальная  переменная \\nfunc() # Вызываем функцию \\nprint(\"Значение glob вне  функции: \", glob) ',\n",
       "  'globals()',\n",
       "  'locals()'],\n",
       " 'Out': {7: 7,\n",
       "  8: 50,\n",
       "  9: 'string',\n",
       "  10: [1, 3, 5, 7],\n",
       "  11: 30,\n",
       "  13: 7,\n",
       "  14: 9,\n",
       "  15: 30,\n",
       "  17: 60,\n",
       "  18: 33,\n",
       "  19: 15,\n",
       "  26: [2, 4],\n",
       "  27: [2, 4],\n",
       "  29: [2],\n",
       "  30: [4],\n",
       "  35: 30,\n",
       "  36: 30,\n",
       "  37: 105,\n",
       "  38: 30,\n",
       "  40: 105,\n",
       "  42: 30,\n",
       "  44: 36,\n",
       "  45: -3,\n",
       "  47: 150,\n",
       "  48: 280,\n",
       "  57: {...}},\n",
       " '_': {...},\n",
       " '_10': [1, 3, 5, 7],\n",
       " '_11': 30,\n",
       " '_13': 7,\n",
       " '_14': 9,\n",
       " '_15': 30,\n",
       " '_17': 60,\n",
       " '_18': 33,\n",
       " '_19': 15,\n",
       " '_26': [2, 4],\n",
       " '_27': [2, 4],\n",
       " '_29': [2],\n",
       " '_30': [4],\n",
       " '_35': 30,\n",
       " '_36': 30,\n",
       " '_37': 105,\n",
       " '_38': 30,\n",
       " '_40': 105,\n",
       " '_42': 30,\n",
       " '_44': 36,\n",
       " '_45': -3,\n",
       " '_47': 150,\n",
       " '_48': 280,\n",
       " '_57': {...},\n",
       " '_7': 7,\n",
       " '_8': 50,\n",
       " '_9': 'string',\n",
       " '__': 280,\n",
       " '___': 150,\n",
       " '__builtin__': <module 'builtins' (built-in)>,\n",
       " '__builtins__': <module 'builtins' (built-in)>,\n",
       " '__doc__': 'Automatically created module for IPython interactive environment',\n",
       " '__loader__': None,\n",
       " '__name__': '__main__',\n",
       " '__package__': None,\n",
       " '__spec__': None,\n",
       " '_dh': ['E:\\\\YandexDisk\\\\Python\\\\Ipynb\\\\fa1_2016\\\\lec_4'],\n",
       " '_i': 'globals()',\n",
       " '_i1': 'def func(): \\n    pass ',\n",
       " '_i10': 'summa([1, 3], [5, 7])',\n",
       " '_i11': 'f = summa\\nv = f(10, 20)\\nv',\n",
       " '_i12': 'def summa(x, y=2):\\n    return x + y',\n",
       " '_i13': 'summa(5)',\n",
       " '_i14': 'summa(5, 4)',\n",
       " '_i15': 'summa(y=10, x=20)',\n",
       " '_i16': 'def multi_summa(x=1, y=2, z=3):\\n    return x + y + z',\n",
       " '_i17': 'multi_summa(10, 20 , 30)',\n",
       " '_i18': 'multi_summa(10, 20)',\n",
       " '_i19': 'multi_summa(10)',\n",
       " '_i2': 'def  func(): \\n    print (\"Текст  до  инструкции  return\") \\n    return  \"Возвращаемое  значение\" \\n    print (\"Эта  инструкция  никогда  не  будет  вьmолнена\") ',\n",
       " '_i20': '# ошибка:\\ndef bad(a, b=1, с):\\n    return a + b + c',\n",
       " '_i21': 'def append_if_even(x, lst=[]): # ОШИБКА! \\n    if x % 2 == 0: \\n        Ist.append(x) \\n    return lst ',\n",
       " '_i22': 'append_if_even(2)',\n",
       " '_i23': 'def append_if_even(x, lst=[]): # ОШИБКА! \\n    if x % 2 == 0: \\n        lt.append(x) \\n    return lst ',\n",
       " '_i24': 'append_if_even(2)',\n",
       " '_i25': 'def append_if_even(x, lst=[]): # ОШИБКА! \\n    if x % 2 == 0: \\n        lst.append(x) \\n    return lst ',\n",
       " '_i26': 'append_if_even(2)',\n",
       " '_i27': 'append_if_even(4)',\n",
       " '_i28': '# пример решения задачи, не содержащего ошибки\\ndef append_if_even(x, lst=None):\\n    if lst is None:\\n        lst = []\\n    if x % 2 == 0: \\n        lst.append(x) \\n    return lst ',\n",
       " '_i29': 'append_if_even(2)',\n",
       " '_i3': 'print(func())  # вызываем функцию ',\n",
       " '_i30': 'append_if_even(4)',\n",
       " '_i31': '# неудобный способ:\\nmulti_summa(t1[0], t1[1], t[2])',\n",
       " '_i32': 't1 = (5, 10 ,15)\\nt2 = [25, 35, 45]',\n",
       " '_i33': 't1 = (5, 10 ,15)\\nt2 = [25, 35, 45]\\nt3 = (5, 10 ,15, 20)',\n",
       " '_i34': '# неудобный способ:\\nmulti_summa(t1[0], t1[1], t[2])',\n",
       " '_i35': '# неудобный способ:\\nmulti_summa(t1[0], t1[1], t1[2])',\n",
       " '_i36': 'multi_summa(*t1)',\n",
       " '_i37': 'multi_summa(*t2)',\n",
       " '_i38': 'multi_summa(*t3[:3])',\n",
       " '_i39': 'multi_summa(*t3)',\n",
       " '_i4': 'def print_ok(): \\n    \"\"\"  Пример  функции  без  nараметров  \"\"\" \\n    print(\"Сообщение  при  удачно вьmолненной  операции\") \\n    \\ndef echo(m): \\n    \"\"\"  Пример  функции  с  параметром \"\"\" \\n    print(m) \\n    \\ndef summa(x, у): \\n    \"\"\"  Пример функции с параметрами, \\n    возвращающей  сумму двух  переменных\"\"\"\\n    return x + у',\n",
       " '_i40': 'multi_summa(*t2)',\n",
       " '_i41': '# ошибка: количество передаваемых параметров должно равняться количеству объявленных в функции параметров:\\nmulti_summa(*t3)',\n",
       " '_i42': '# решение проблемы:\\nmulti_summa(*t3[:3])',\n",
       " '_i43': \"d1 = {'x': 11, 'y': 12, 'z': 13}\",\n",
       " '_i44': 'multi_summa(**d1)',\n",
       " '_i45': \"t3 = [0, -1]\\nd2 = {'z': -2}\\nmulti_summa(*t3, **d2)\",\n",
       " '_i46': '# распаковывание последовательности в списке параметров функции:\\ndef all_summa(*t): \\n    \"\"\"Функция принимает произвольное количество параметров\"\"\" \\n    res = 0\\n    for i in t: \\n        res += i \\n    return  res ',\n",
       " '_i47': 'all_summa(10, 20, 30, 40, 50)',\n",
       " '_i48': 't4 = [10, 20, 30, 40, 50, 60, 70]\\nall_summa(*t4)',\n",
       " '_i49': 'def d_summa(**d): \\n    for k, v in d.items():  #  Перебираем словарь  с  переданными параметрами \\n        print(\"{} => {}\".format(k, v), end=\" \") ',\n",
       " '_i5': 'print_ok()',\n",
       " '_i50': 'd_summa(a=1, x=10, z=-2)',\n",
       " '_i51': \"d3 = {'f': 3, 'g': 4, 'e': 5}\\nd_summa(**d3)\",\n",
       " '_i52': 'def c_summa(*t, **d): \\n    for v in t: \\n        print(v, end=\" \") \\n    for k, v in d.items(): \\n        print(\"{} => {}\".format(k, v), end=\" \") ',\n",
       " '_i53': 'c_summa(*t4, **d3)',\n",
       " '_i54': 'def func_glob(glob2): \\n    print(\"Значение  глобальной  nеременной  g1оb = \",  glob) \\n    glob2 += 10 \\n    print(\"Значение  локальной  переменной  g1ob2 = \", glob2) \\n\\nglob, glob2 = 10, 5 \\nfunc_glob(77)  #  Вызываем функцию \\nprint(\"Значение  глобальной  переменной  g1ob2 = \", glob2)',\n",
       " '_i55': 'def func():\\n    loc = 77 #  Локальная  переменная \\n    glob = 25 #  Локальная  переменная \\n    print(\\'Значение glob внутри функции: \\', glob)\\n\\nglob = 10 #  Глобальная  переменная \\nfunc() # Вызываем функцию \\nprint(\"Значение glob вне  функции: \", glob) \\ntry: \\n    print(loc)  #  Вызовет  исключение  NameError \\nexcept NameError:  #  Обрабатьrnаем исключение \\n    print(\"Переменная 1ос не видна вне функции\") ',\n",
       " '_i56': 'def func():\\n    global glob\\n    loc = 77 #  Локальная  переменная \\n    glob = 25 #  Локальная  переменная \\n    print(\\'Значение glob внутри функции: \\', glob)\\n\\nglob = 10 #  Глобальная  переменная \\nfunc() # Вызываем функцию \\nprint(\"Значение glob вне  функции: \", glob) ',\n",
       " '_i57': 'globals()',\n",
       " '_i58': 'locals()',\n",
       " '_i6': 'echo(\"Сообщение\")',\n",
       " '_i7': 'x = summa(5, 2)\\nx',\n",
       " '_i8': 'a, b = 10, 40\\ny = summa(a, b)\\ny',\n",
       " '_i9': \"summa('str', 'ing')\",\n",
       " '_ih': ['',\n",
       "  'def func(): \\n    pass ',\n",
       "  'def  func(): \\n    print (\"Текст  до  инструкции  return\") \\n    return  \"Возвращаемое  значение\" \\n    print (\"Эта  инструкция  никогда  не  будет  вьmолнена\") ',\n",
       "  'print(func())  # вызываем функцию ',\n",
       "  'def print_ok(): \\n    \"\"\"  Пример  функции  без  nараметров  \"\"\" \\n    print(\"Сообщение  при  удачно вьmолненной  операции\") \\n    \\ndef echo(m): \\n    \"\"\"  Пример  функции  с  параметром \"\"\" \\n    print(m) \\n    \\ndef summa(x, у): \\n    \"\"\"  Пример функции с параметрами, \\n    возвращающей  сумму двух  переменных\"\"\"\\n    return x + у',\n",
       "  'print_ok()',\n",
       "  'echo(\"Сообщение\")',\n",
       "  'x = summa(5, 2)\\nx',\n",
       "  'a, b = 10, 40\\ny = summa(a, b)\\ny',\n",
       "  \"summa('str', 'ing')\",\n",
       "  'summa([1, 3], [5, 7])',\n",
       "  'f = summa\\nv = f(10, 20)\\nv',\n",
       "  'def summa(x, y=2):\\n    return x + y',\n",
       "  'summa(5)',\n",
       "  'summa(5, 4)',\n",
       "  'summa(y=10, x=20)',\n",
       "  'def multi_summa(x=1, y=2, z=3):\\n    return x + y + z',\n",
       "  'multi_summa(10, 20 , 30)',\n",
       "  'multi_summa(10, 20)',\n",
       "  'multi_summa(10)',\n",
       "  '# ошибка:\\ndef bad(a, b=1, с):\\n    return a + b + c',\n",
       "  'def append_if_even(x, lst=[]): # ОШИБКА! \\n    if x % 2 == 0: \\n        Ist.append(x) \\n    return lst ',\n",
       "  'append_if_even(2)',\n",
       "  'def append_if_even(x, lst=[]): # ОШИБКА! \\n    if x % 2 == 0: \\n        lt.append(x) \\n    return lst ',\n",
       "  'append_if_even(2)',\n",
       "  'def append_if_even(x, lst=[]): # ОШИБКА! \\n    if x % 2 == 0: \\n        lst.append(x) \\n    return lst ',\n",
       "  'append_if_even(2)',\n",
       "  'append_if_even(4)',\n",
       "  '# пример решения задачи, не содержащего ошибки\\ndef append_if_even(x, lst=None):\\n    if lst is None:\\n        lst = []\\n    if x % 2 == 0: \\n        lst.append(x) \\n    return lst ',\n",
       "  'append_if_even(2)',\n",
       "  'append_if_even(4)',\n",
       "  '# неудобный способ:\\nmulti_summa(t1[0], t1[1], t[2])',\n",
       "  't1 = (5, 10 ,15)\\nt2 = [25, 35, 45]',\n",
       "  't1 = (5, 10 ,15)\\nt2 = [25, 35, 45]\\nt3 = (5, 10 ,15, 20)',\n",
       "  '# неудобный способ:\\nmulti_summa(t1[0], t1[1], t[2])',\n",
       "  '# неудобный способ:\\nmulti_summa(t1[0], t1[1], t1[2])',\n",
       "  'multi_summa(*t1)',\n",
       "  'multi_summa(*t2)',\n",
       "  'multi_summa(*t3[:3])',\n",
       "  'multi_summa(*t3)',\n",
       "  'multi_summa(*t2)',\n",
       "  '# ошибка: количество передаваемых параметров должно равняться количеству объявленных в функции параметров:\\nmulti_summa(*t3)',\n",
       "  '# решение проблемы:\\nmulti_summa(*t3[:3])',\n",
       "  \"d1 = {'x': 11, 'y': 12, 'z': 13}\",\n",
       "  'multi_summa(**d1)',\n",
       "  \"t3 = [0, -1]\\nd2 = {'z': -2}\\nmulti_summa(*t3, **d2)\",\n",
       "  '# распаковывание последовательности в списке параметров функции:\\ndef all_summa(*t): \\n    \"\"\"Функция принимает произвольное количество параметров\"\"\" \\n    res = 0\\n    for i in t: \\n        res += i \\n    return  res ',\n",
       "  'all_summa(10, 20, 30, 40, 50)',\n",
       "  't4 = [10, 20, 30, 40, 50, 60, 70]\\nall_summa(*t4)',\n",
       "  'def d_summa(**d): \\n    for k, v in d.items():  #  Перебираем словарь  с  переданными параметрами \\n        print(\"{} => {}\".format(k, v), end=\" \") ',\n",
       "  'd_summa(a=1, x=10, z=-2)',\n",
       "  \"d3 = {'f': 3, 'g': 4, 'e': 5}\\nd_summa(**d3)\",\n",
       "  'def c_summa(*t, **d): \\n    for v in t: \\n        print(v, end=\" \") \\n    for k, v in d.items(): \\n        print(\"{} => {}\".format(k, v), end=\" \") ',\n",
       "  'c_summa(*t4, **d3)',\n",
       "  'def func_glob(glob2): \\n    print(\"Значение  глобальной  nеременной  g1оb = \",  glob) \\n    glob2 += 10 \\n    print(\"Значение  локальной  переменной  g1ob2 = \", glob2) \\n\\nglob, glob2 = 10, 5 \\nfunc_glob(77)  #  Вызываем функцию \\nprint(\"Значение  глобальной  переменной  g1ob2 = \", glob2)',\n",
       "  'def func():\\n    loc = 77 #  Локальная  переменная \\n    glob = 25 #  Локальная  переменная \\n    print(\\'Значение glob внутри функции: \\', glob)\\n\\nglob = 10 #  Глобальная  переменная \\nfunc() # Вызываем функцию \\nprint(\"Значение glob вне  функции: \", glob) \\ntry: \\n    print(loc)  #  Вызовет  исключение  NameError \\nexcept NameError:  #  Обрабатьrnаем исключение \\n    print(\"Переменная 1ос не видна вне функции\") ',\n",
       "  'def func():\\n    global glob\\n    loc = 77 #  Локальная  переменная \\n    glob = 25 #  Локальная  переменная \\n    print(\\'Значение glob внутри функции: \\', glob)\\n\\nglob = 10 #  Глобальная  переменная \\nfunc() # Вызываем функцию \\nprint(\"Значение glob вне  функции: \", glob) ',\n",
       "  'globals()',\n",
       "  'locals()'],\n",
       " '_ii': 'def func():\\n    global glob\\n    loc = 77 #  Локальная  переменная \\n    glob = 25 #  Локальная  переменная \\n    print(\\'Значение glob внутри функции: \\', glob)\\n\\nglob = 10 #  Глобальная  переменная \\nfunc() # Вызываем функцию \\nprint(\"Значение glob вне  функции: \", glob) ',\n",
       " '_iii': 'def func():\\n    loc = 77 #  Локальная  переменная \\n    glob = 25 #  Локальная  переменная \\n    print(\\'Значение glob внутри функции: \\', glob)\\n\\nglob = 10 #  Глобальная  переменная \\nfunc() # Вызываем функцию \\nprint(\"Значение glob вне  функции: \", glob) \\ntry: \\n    print(loc)  #  Вызовет  исключение  NameError \\nexcept NameError:  #  Обрабатьrnаем исключение \\n    print(\"Переменная 1ос не видна вне функции\") ',\n",
       " '_oh': {7: 7,\n",
       "  8: 50,\n",
       "  9: 'string',\n",
       "  10: [1, 3, 5, 7],\n",
       "  11: 30,\n",
       "  13: 7,\n",
       "  14: 9,\n",
       "  15: 30,\n",
       "  17: 60,\n",
       "  18: 33,\n",
       "  19: 15,\n",
       "  26: [2, 4],\n",
       "  27: [2, 4],\n",
       "  29: [2],\n",
       "  30: [4],\n",
       "  35: 30,\n",
       "  36: 30,\n",
       "  37: 105,\n",
       "  38: 30,\n",
       "  40: 105,\n",
       "  42: 30,\n",
       "  44: 36,\n",
       "  45: -3,\n",
       "  47: 150,\n",
       "  48: 280,\n",
       "  57: {...}},\n",
       " '_sh': <module 'IPython.core.shadowns' from 'C:\\\\Anaconda3\\\\lib\\\\site-packages\\\\IPython\\\\core\\\\shadowns.py'>,\n",
       " 'a': 10,\n",
       " 'all_summa': <function __main__.all_summa>,\n",
       " 'append_if_even': <function __main__.append_if_even>,\n",
       " 'b': 40,\n",
       " 'c_summa': <function __main__.c_summa>,\n",
       " 'd1': {'x': 11, 'y': 12, 'z': 13},\n",
       " 'd2': {'z': -2},\n",
       " 'd3': {'e': 5, 'f': 3, 'g': 4},\n",
       " 'd_summa': <function __main__.d_summa>,\n",
       " 'echo': <function __main__.echo>,\n",
       " 'exit': <IPython.core.autocall.ZMQExitAutocall at 0x53237febe0>,\n",
       " 'f': <function __main__.summa>,\n",
       " 'func': <function __main__.func>,\n",
       " 'func_glob': <function __main__.func_glob>,\n",
       " 'get_ipython': <bound method InteractiveShell.get_ipython of <ipykernel.zmqshell.ZMQInteractiveShell object at 0x00000053223A9C18>>,\n",
       " 'glob': 25,\n",
       " 'glob2': 5,\n",
       " 'multi_summa': <function __main__.multi_summa>,\n",
       " 'print_ok': <function __main__.print_ok>,\n",
       " 'quit': <IPython.core.autocall.ZMQExitAutocall at 0x53237febe0>,\n",
       " 'summa': <function __main__.summa>,\n",
       " 't1': (5, 10, 15),\n",
       " 't2': [25, 35, 45],\n",
       " 't3': [0, -1],\n",
       " 't4': [10, 20, 30, 40, 50, 60, 70],\n",
       " 'v': 30,\n",
       " 'x': 7,\n",
       " 'y': 50}"
      ]
     },
     "execution_count": 58,
     "metadata": {},
     "output_type": "execute_result"
    }
   ],
   "source": [
    "locals()"
   ]
  },
  {
   "cell_type": "code",
   "execution_count": 59,
   "metadata": {
    "collapsed": true
   },
   "outputs": [],
   "source": [
    "def func(): \n",
    "    loc = 54 \n",
    "    glob2 = 25 \n",
    "    print(\"Локальные идентификаторы внутри  функции\", sorted(vars().keys())) "
   ]
  },
  {
   "cell_type": "code",
   "execution_count": 60,
   "metadata": {
    "collapsed": false
   },
   "outputs": [
    {
     "name": "stdout",
     "output_type": "stream",
     "text": [
      "Локальные идентификаторы внутри  функции ['glob2', 'loc']\n"
     ]
    }
   ],
   "source": [
    "func()"
   ]
  },
  {
   "cell_type": "code",
   "execution_count": 63,
   "metadata": {
    "collapsed": false
   },
   "outputs": [
    {
     "data": {
      "text/plain": [
       "(5, 10, 15)"
      ]
     },
     "execution_count": 63,
     "metadata": {},
     "output_type": "execute_result"
    }
   ],
   "source": [
    "t1't1 value is: {t1}, second element is: {t1[1]}'"
   ]
  },
  {
   "cell_type": "code",
   "execution_count": 68,
   "metadata": {
    "collapsed": false,
    "scrolled": true
   },
   "outputs": [
    {
     "data": {
      "text/plain": [
       "'t1 value is: (5, 10, 15), second element is: 10'"
      ]
     },
     "execution_count": 68,
     "metadata": {},
     "output_type": "execute_result"
    }
   ],
   "source": [
    "# очень удобное применение locals():\n",
    "'t1 value is: {t1}, second element is: {t1[1]}'.format(**locals())"
   ]
  },
  {
   "cell_type": "code",
   "execution_count": 72,
   "metadata": {
    "collapsed": true
   },
   "outputs": [],
   "source": [
    "def ff(s):\n",
    "    return s.format(**globals())"
   ]
  },
  {
   "cell_type": "code",
   "execution_count": 73,
   "metadata": {
    "collapsed": false
   },
   "outputs": [
    {
     "data": {
      "text/plain": [
       "'t1 value is: (5, 10, 15), second element is: 10'"
      ]
     },
     "execution_count": 73,
     "metadata": {},
     "output_type": "execute_result"
    }
   ],
   "source": [
    "ff('t1 value is: {t1}, second element is: {t1[1]}')"
   ]
  },
  {
   "cell_type": "code",
   "execution_count": 74,
   "metadata": {
    "collapsed": true
   },
   "outputs": [],
   "source": [
    "def test_f(val):\n",
    "    print(ff('{val}'))\n",
    "    print(val)"
   ]
  },
  {
   "cell_type": "code",
   "execution_count": 75,
   "metadata": {
    "collapsed": false
   },
   "outputs": [
    {
     "ename": "KeyError",
     "evalue": "'val'",
     "output_type": "error",
     "traceback": [
      "\u001b[1;31m--------------------------------------------------------------------------\u001b[0m",
      "\u001b[1;31mKeyError\u001b[0m                                 Traceback (most recent call last)",
      "\u001b[1;32m<ipython-input-75-5f8808b5e82b>\u001b[0m in \u001b[0;36m<module>\u001b[1;34m()\u001b[0m\n\u001b[1;32m----> 1\u001b[1;33m \u001b[0mtest_f\u001b[0m\u001b[1;33m(\u001b[0m\u001b[1;34m'test'\u001b[0m\u001b[1;33m)\u001b[0m\u001b[1;33m\u001b[0m\u001b[0m\n\u001b[0m",
      "\u001b[1;32m<ipython-input-74-9e0290675af8>\u001b[0m in \u001b[0;36mtest_f\u001b[1;34m(val)\u001b[0m\n\u001b[0;32m      1\u001b[0m \u001b[1;32mdef\u001b[0m \u001b[0mtest_f\u001b[0m\u001b[1;33m(\u001b[0m\u001b[0mval\u001b[0m\u001b[1;33m)\u001b[0m\u001b[1;33m:\u001b[0m\u001b[1;33m\u001b[0m\u001b[0m\n\u001b[1;32m----> 2\u001b[1;33m     \u001b[0mprint\u001b[0m\u001b[1;33m(\u001b[0m\u001b[0mff\u001b[0m\u001b[1;33m(\u001b[0m\u001b[1;34m'{val}'\u001b[0m\u001b[1;33m)\u001b[0m\u001b[1;33m)\u001b[0m\u001b[1;33m\u001b[0m\u001b[0m\n\u001b[0m\u001b[0;32m      3\u001b[0m     \u001b[0mprint\u001b[0m\u001b[1;33m(\u001b[0m\u001b[0mval\u001b[0m\u001b[1;33m)\u001b[0m\u001b[1;33m\u001b[0m\u001b[0m\n",
      "\u001b[1;32m<ipython-input-72-b8dec53fd1c9>\u001b[0m in \u001b[0;36mff\u001b[1;34m(s)\u001b[0m\n\u001b[0;32m      1\u001b[0m \u001b[1;32mdef\u001b[0m \u001b[0mff\u001b[0m\u001b[1;33m(\u001b[0m\u001b[0ms\u001b[0m\u001b[1;33m)\u001b[0m\u001b[1;33m:\u001b[0m\u001b[1;33m\u001b[0m\u001b[0m\n\u001b[1;32m----> 2\u001b[1;33m     \u001b[1;32mreturn\u001b[0m \u001b[0ms\u001b[0m\u001b[1;33m.\u001b[0m\u001b[0mformat\u001b[0m\u001b[1;33m(\u001b[0m\u001b[1;33m**\u001b[0m\u001b[0mglobals\u001b[0m\u001b[1;33m(\u001b[0m\u001b[1;33m)\u001b[0m\u001b[1;33m)\u001b[0m\u001b[1;33m\u001b[0m\u001b[0m\n\u001b[0m",
      "\u001b[1;31mKeyError\u001b[0m: 'val'"
     ]
    }
   ],
   "source": [
    "test_f('test')"
   ]
  },
  {
   "cell_type": "markdown",
   "metadata": {},
   "source": [
    "#### Вложенные функции"
   ]
  },
  {
   "cell_type": "markdown",
   "metadata": {},
   "source": [
    "Одну функцию можно вложить в другую функцию, причем уровень вложенности неограничен.  В этом случае вложенная функция получает свою собственную локальную область видимости и  имеет достуn к идентификаторам внутри функции-родителя. "
   ]
  },
  {
   "cell_type": "code",
   "execution_count": 247,
   "metadata": {
    "collapsed": false
   },
   "outputs": [],
   "source": [
    "def f1(x): \n",
    "    def f2(): \n",
    "        print(x) \n",
    "    return f2 "
   ]
  },
  {
   "cell_type": "code",
   "execution_count": 256,
   "metadata": {
    "collapsed": false
   },
   "outputs": [
    {
     "name": "stdout",
     "output_type": "stream",
     "text": [
      "12\n"
     ]
    }
   ],
   "source": [
    "fa = f1(12)\n",
    "fa()"
   ]
  },
  {
   "cell_type": "code",
   "execution_count": 257,
   "metadata": {
    "collapsed": false
   },
   "outputs": [
    {
     "name": "stdout",
     "output_type": "stream",
     "text": [
      "22\n"
     ]
    }
   ],
   "source": [
    "fb = f1(22)\n",
    "fb()"
   ]
  }
 ],
 "metadata": {
  "anaconda-cloud": {},
  "kernelspec": {
   "display_name": "Python [Root]",
   "language": "python",
   "name": "Python [Root]"
  },
  "language_info": {
   "codemirror_mode": {
    "name": "ipython",
    "version": 3
   },
   "file_extension": ".py",
   "mimetype": "text/x-python",
   "name": "python",
   "nbconvert_exporter": "python",
   "pygments_lexer": "ipython3",
   "version": "3.5.2"
  }
 },
 "nbformat": 4,
 "nbformat_minor": 0
}
