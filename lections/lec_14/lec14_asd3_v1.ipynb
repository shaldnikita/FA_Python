{
 "cells": [
  {
   "cell_type": "markdown",
   "metadata": {},
   "source": [
    "# Деревья"
   ]
  },
  {
   "cell_type": "markdown",
   "metadata": {},
   "source": [
    "Дерево - связный ациклический граф."
   ]
  },
  {
   "cell_type": "markdown",
   "metadata": {},
   "source": [
    "Представление деревьев: а – иерархическая структура, б – множества, в – линейное представление\n",
    "\n",
    "![](tree_1.png)"
   ]
  },
  {
   "cell_type": "markdown",
   "metadata": {},
   "source": [
    "Граф (или сеть) состоит из: вершин или узлов (vertice, node) и ребер или дуг или связей (edge, arc, link).\n",
    "\n",
    "Путь - упорядоченный список узлов, связанных друг с другом.\n",
    "\n",
    "Дочерние узлы (children) - все узлы имеющие входящие связи от некоторого узла, называются дочерними узлами данного узла.\n",
    "\n",
    "Родитель (parent) - узел, исходящая связь которого соединена с данным узлом.\n",
    "\n",
    "Сиблинги (sibling) - узлы, являющиеся дочерними узлами родителя данного узла.\n",
    "\n",
    "Корень (root) — узел дерева, не имеющий родитетеля.\n",
    "\n",
    "Лист (leaf node) (или терминальный узел) — узел, не имеющий дочерних узлов.\n",
    "\n",
    "Внутренний узел — любой узел дерева, имеющий дочерние узлы, и таким образом, не являющийся листовым узлом.\n",
    "\n",
    "Уровень (level) узла - длина пути от корня до данного узла. Уровень корня по определению равен 0.\n",
    "\n",
    "Высота дерева (height) - максимальный уровень среди узлов дерева.\n",
    "\n",
    "Поддерво (subtree) - множество узлов и связей включающее родителя и всех его потомков."
   ]
  },
  {
   "cell_type": "markdown",
   "metadata": {},
   "source": [
    "## Знакомство с бинарными деревьями"
   ]
  },
  {
   "cell_type": "markdown",
   "metadata": {},
   "source": [
    "Двоичное (бинарное) дерево (binary tree) — иерархическая структура данных, в которой каждый узел имеет не более двух потомков (детей). Обычно, первый называется родительским узлом, а дети называются левым и правым наследниками."
   ]
  },
  {
   "cell_type": "markdown",
   "metadata": {},
   "source": [
    "Пример небольшого бинарного дерева.\n",
    "\n",
    "![](tree_2.png)"
   ]
  },
  {
   "cell_type": "markdown",
   "metadata": {},
   "source": [
    "Среди бинарных деревьев отдельно выделяют полные бинарные деревья, все вершины которых имеют по две дочерних, кроме листьев, которые расположены на одинаковой глубине:\n",
    "\n",
    "![](tree_4.png)"
   ]
  },
  {
   "cell_type": "markdown",
   "metadata": {},
   "source": [
    "Также полными часто называют бинарные деревья, у которых полностью заполнены все уровни, кроме последнего:\n",
    "\n",
    "![](tree_5.png)"
   ]
  },
  {
   "cell_type": "code",
   "execution_count": 3,
   "metadata": {
    "collapsed": false
   },
   "outputs": [],
   "source": [
    "# Представление бинарного дерева в виде списка списков:\n",
    "my_tree = \\\n",
    "['a', #root\n",
    "    ['b', #left subtree\n",
    "        ['d', [], []],\n",
    "        ['e', [], []] ],\n",
    "    ['c', #right subtree\n",
    "        ['f', [], []],\n",
    "        [] ]\n",
    "]"
   ]
  },
  {
   "cell_type": "markdown",
   "metadata": {},
   "source": [
    "Пример API (application programming interface) для работы с двоичными деревьями:\n",
    "* BinaryTree() - создание нового экземпляра бинарного дерева.\n",
    "* get_left_child() - возвращает бинарное дерево связанное с левым дочерним узлом рассматриваемого узла.\n",
    "* get_right_child() - возвращает бинарное дерево связанное с правым дочерним узлом рассматриваемого узла. \n",
    "* get_root_val() - возвращает объект, хранящийся в данном узле.\n",
    "* set_root_val(val) - сохраняет объект, хранящийся в данном узле.\n",
    "* insert_left(val) - создает новое бинарное дерево связанное с левым дочерним узлом рассматриваемого узла.\n",
    "* insert_right(val) - создает новое бинарное дерево связанное с левым дочерним узлом рассматриваемого узла."
   ]
  },
  {
   "cell_type": "code",
   "execution_count": 4,
   "metadata": {
    "collapsed": false
   },
   "outputs": [
    {
     "name": "stdout",
     "output_type": "stream",
     "text": [
      "['a', ['b', ['d', [], []], ['e', [], []]], ['c', ['f', [], []], []]]\n",
      "left subtree =  ['b', ['d', [], []], ['e', [], []]]\n",
      "root =  a\n",
      "right subtree =  ['c', ['f', [], []], []]\n"
     ]
    }
   ],
   "source": [
    "print(my_tree)\n",
    "print('left subtree = ', my_tree[1])\n",
    "print('root = ', my_tree[0])\n",
    "print('right subtree = ', my_tree[2])"
   ]
  },
  {
   "cell_type": "code",
   "execution_count": 5,
   "metadata": {
    "collapsed": true
   },
   "outputs": [],
   "source": [
    "# Пример реализации функции insert_left для представления бинарного дерева в виде списка списков:\n",
    "def insert_left(root, new_branch):\n",
    "    t = root.pop(1)\n",
    "    if len(t) > 1:\n",
    "        root.insert(1, [new_branch, t, []])\n",
    "    else:\n",
    "        root.insert(1, [new_branch, [], []])\n",
    "    return root"
   ]
  },
  {
   "cell_type": "code",
   "execution_count": 6,
   "metadata": {
    "collapsed": false
   },
   "outputs": [
    {
     "data": {
      "text/plain": [
       "['c', ['H', ['f', [], []], []], []]"
      ]
     },
     "execution_count": 6,
     "metadata": {},
     "output_type": "execute_result"
    }
   ],
   "source": [
    "insert_left(my_tree[2], 'H')"
   ]
  },
  {
   "cell_type": "markdown",
   "metadata": {},
   "source": [
    "Пример представления бинарного дерева в виде узлов и ссылок:\n",
    "\n",
    "![](tree_3.png)"
   ]
  },
  {
   "cell_type": "code",
   "execution_count": 17,
   "metadata": {
    "collapsed": false
   },
   "outputs": [],
   "source": [
    "# Фрагмент реализации бинарного дерева с помощью представления в виде узлов и ссылок:\n",
    "class BinaryTree:\n",
    "    def __init__(self, root):\n",
    "        self.key = root\n",
    "        self.left_child = None\n",
    "        self.right_child = None\n",
    "        \n",
    "    def insert_left(self,new_node):\n",
    "        if self.left_child == None:\n",
    "            self.left_child = BinaryTree(new_node)\n",
    "        else:\n",
    "            t = BinaryTree(new_node)\n",
    "            t.left_child = self.left_child\n",
    "            self.left_child = t\n",
    "            \n",
    "    def insert_right(self,new_node):\n",
    "        if self.right_child == None:\n",
    "            self.right_child = BinaryTree(new_node)\n",
    "        else:\n",
    "            t = BinaryTree(new_node)\n",
    "            t.right_child = self.right_child\n",
    "            self.right_child = t\n",
    "    \n",
    "    def get_right_child(self):\n",
    "        return self.right_child\n",
    "\n",
    "    def get_left_child(self):\n",
    "        return self.left_child\n",
    "\n",
    "    def set_root_val(self,obj):\n",
    "        self.key = obj\n",
    "\n",
    "    def get_root_val(self):\n",
    "        return self.key\n",
    "    \n",
    "    def __str__(self):\n",
    "        return '{} ({}, {})'.format(self.get_root_val(), str(self.get_left_child()), str(self.get_right_child()))"
   ]
  },
  {
   "cell_type": "code",
   "execution_count": 22,
   "metadata": {
    "collapsed": false
   },
   "outputs": [
    {
     "name": "stdout",
     "output_type": "stream",
     "text": [
      "a (None, None)\n"
     ]
    }
   ],
   "source": [
    "r = BinaryTree('a')\n",
    "print(r)"
   ]
  },
  {
   "cell_type": "code",
   "execution_count": 23,
   "metadata": {
    "collapsed": false
   },
   "outputs": [
    {
     "name": "stdout",
     "output_type": "stream",
     "text": [
      "a (b (None, None), None)\n",
      "b (None, None)\n",
      "b\n"
     ]
    }
   ],
   "source": [
    "r.insert_left('b')\n",
    "print(r)\n",
    "print(r.get_left_child())\n",
    "print(r.get_left_child().get_root_val())"
   ]
  },
  {
   "cell_type": "code",
   "execution_count": 24,
   "metadata": {
    "collapsed": false
   },
   "outputs": [
    {
     "name": "stdout",
     "output_type": "stream",
     "text": [
      "a (b (None, None), c (None, None))\n",
      "c (None, None)\n",
      "c\n"
     ]
    }
   ],
   "source": [
    "r.insert_right('c')\n",
    "print(r)\n",
    "print(r.get_right_child())\n",
    "print(r.get_right_child().get_root_val())"
   ]
  },
  {
   "cell_type": "code",
   "execution_count": 25,
   "metadata": {
    "collapsed": false
   },
   "outputs": [
    {
     "name": "stdout",
     "output_type": "stream",
     "text": [
      "hello\n"
     ]
    }
   ],
   "source": [
    "r.get_right_child().set_root_val('hello')\n",
    "print(r.get_right_child().get_root_val())"
   ]
  },
  {
   "cell_type": "markdown",
   "metadata": {},
   "source": [
    "## Использование бинарных деревьев в прикладных задачах"
   ]
  },
  {
   "cell_type": "markdown",
   "metadata": {},
   "source": [
    "Двоичные деревья можно использовать для разбора (parsing) различных выражений. Рассмотрим, например, представления математического выражения ((7 + 3) * (5 − 2)) в виде двоичного дерева."
   ]
  },
  {
   "cell_type": "markdown",
   "metadata": {},
   "source": [
    "Представление математического выражения ((7 + 3) * (5 − 2)) в виде двоичного дерева:\n",
    "\n",
    "![](m_tree_1.png)"
   ]
  },
  {
   "cell_type": "markdown",
   "metadata": {},
   "source": [
    "Представление выражения (предложения) в виде дерева позволяет удобно работать с частями выражения как с поддервеьями или родительским и дочерним узлов (пример на рис.):\n",
    "\n",
    "![](m_tree_2.png)"
   ]
  },
  {
   "cell_type": "markdown",
   "metadata": {
    "collapsed": true
   },
   "source": [
    "Для испльзования древовидного представления выражения необходимо решить следующие задачи:\n",
    "\n",
    "* Как построить древововидное представление выражения в результате разбора математического выражения.\n",
    "* Как вычислить математиченское выражение представленное в виде двоичного дерева.\n",
    "* Как восстановить исходное математическое выражение из дрвеовидного представления."
   ]
  },
  {
   "cell_type": "markdown",
   "metadata": {},
   "source": [
    "Алгоритм разбора математического выражения для получения его древовидного представления:\n",
    "1. Если текущий токен ‘(’, то добавляем новый узел в качестве левого дочернего узла текущего узла и спускаемся в новый узел.\n",
    "2. Если текущий токен содержится в списке [‘+’,‘−’,‘/’,‘*’], то устанавливаем значение в текущем узле, соответствующее оператору, представленному в токене. Добавляем новый узел в качестве правого дочернего узла текущего узла и спускаемся в него.\n",
    "3. Если текущий токен является числом, то устанавливаем значение в текущем узле соответствующее числу в токене и переходим к родительскому узлу. \n",
    "4. Если текущий токен ‘)’, то переходим к родителю текущего узла. "
   ]
  },
  {
   "cell_type": "markdown",
   "metadata": {},
   "source": [
    "Разбор математического выражения (3 + (4 \\* 5)) или [‘(’, ‘3’, ‘+’, ‘(’, ‘4’, ‘*’, ‘5’ ,‘)’, ‘)’] и построение на его основе двоичного дерева:\n",
    "\n",
    "<img src=\"m_tree_3.png\" alt=\"Drawing\" style=\"width: 300px;\"/>"
   ]
  },
  {
   "cell_type": "markdown",
   "metadata": {},
   "source": [
    "Для вычисления значения выражения имеющего древовидное представление достаточно реализовать простую рекурсивную функцию."
   ]
  },
  {
   "cell_type": "markdown",
   "metadata": {},
   "source": [
    "Представление документа (книги) как дерева:\n",
    "\n",
    "![](m_tree_4.png)"
   ]
  },
  {
   "cell_type": "markdown",
   "metadata": {},
   "source": [
    "## Обход (traversing/walk)  бинарных деревьев "
   ]
  },
  {
   "cell_type": "markdown",
   "metadata": {},
   "source": [
    "Прямой порядок: preorder In a preorder traversal, we visit the root node ﬁrst, then recursively do a preorder\n",
    "traversal of the left subtree, followed by a recursive preorder traversal of the right subtree.\n",
    "\n",
    "Обратный порядок: postorder In a postorder traversal, we recursively do a postorder traversal of the left subtree\n",
    "and the right subtree followed by a visit to the root node.\n",
    "\n",
    "Симметричный обход: inorder In an inorder traversal, we recursively do an inorder traversal on the left subtree, visit\n",
    "the root node, and ﬁnally do a recursive inorder traversal of the right subtree."
   ]
  },
  {
   "cell_type": "markdown",
   "metadata": {},
   "source": [
    "Прямой порядок обхода дерева:\n",
    "\n",
    "![](t_tree_1.png)"
   ]
  },
  {
   "cell_type": "markdown",
   "metadata": {},
   "source": [
    "Обратный порядок обхода дерева:\n",
    "\n",
    "![](t_tree_2.png)"
   ]
  },
  {
   "cell_type": "markdown",
   "metadata": {},
   "source": [
    "Симметричный порядок обхода дерева:\n",
    "\n",
    "![](t_tree_3.png)"
   ]
  },
  {
   "cell_type": "markdown",
   "metadata": {},
   "source": [
    "## Двоичное дерево поиска"
   ]
  },
  {
   "cell_type": "markdown",
   "metadata": {},
   "source": [
    "Двоичное дерево поиска (binary search tree, BST) — это двоичное дерево, для которого выполняются следующие дополнительные условия (свойства дерева поиска):\n",
    "\n",
    "1. Оба поддерева — левое и правое — являются двоичными деревьями поиска.\n",
    "2. У всех узлов левого поддерева произвольного узла X значения ключей данных меньше, нежели значение ключа данных самого узла X.\n",
    "3. У всех узлов правого поддерева произвольного узла X значения ключей данных больше либо равно, нежели значение ключа данных самого узла X.\n",
    "\n",
    "Очевидно, данные в каждом узле должны обладать ключами, на которых определена операция сравнения (например, операция меньше)."
   ]
  },
  {
   "cell_type": "markdown",
   "metadata": {},
   "source": [
    "Пример двоичного дерва поиска:\n",
    "\n",
    "![](bst_tree_1.png)"
   ]
  },
  {
   "cell_type": "markdown",
   "metadata": {},
   "source": [
    "Основные операции в бинарном дереве поиска выполняются за время, пропорциональное его высоте. Для полного бинарного дерева с n узлами эти операции выполняются за время O(lg n) в наихудшем \n",
    "случае. Математическое ожидание высоты построенного случайным образом бинарного дерева равно О (lg n), так что все основные операции динамическим множеством в таком дереве выполняются в среднем за \n",
    "время Θ(lg n)."
   ]
  },
  {
   "cell_type": "markdown",
   "metadata": {},
   "source": [
    "На практике мы не всегда можем гарантировать случайность построения бинарного дерева поиска, однако имеются версии деревьев, в \n",
    "которых гарантируется хорошее время работы в наихудшем случае. \n",
    "Речь идет о деревьях сбалансированных по высоте по определенным \n",
    "критериям, это АВЛ –деревья, 2-3, 3-4 деревья, красно-черные деревья, \n",
    "высота которых определяется как О (lg n). "
   ]
  },
  {
   "cell_type": "markdown",
   "metadata": {},
   "source": [
    "Алгоритм вставки узла в двоичное дерево поиска:\n",
    "\n",
    "* Starting at the root of the tree, search the binary tree comparing the new key to the key in the current node. If the new key is less than the current node, search the left subtree. If the new key is greater than the current node, search the right subtree.\n",
    "* When there is no left (or right) child to search, we have found the position in the tree where the new node should be installed.\n",
    "* To add a node to the tree, create a new TreeNode object and insert the object at the point discovered in the previous step."
   ]
  },
  {
   "cell_type": "markdown",
   "metadata": {},
   "source": [
    "Пример вставки узла в двоичное дерево поиска:\n",
    "\n",
    "![](bst_tree_2.png)"
   ]
  },
  {
   "cell_type": "code",
   "execution_count": 28,
   "metadata": {
    "collapsed": true
   },
   "outputs": [],
   "source": [
    "# Приер реализации поика элемента в двоичном дереве поиска:\n",
    "def get(self,key):\n",
    "    if self.root:\n",
    "        res = self._get(key, self.root)\n",
    "        if res:\n",
    "            return res.payload\n",
    "        else:\n",
    "            return None\n",
    "    else:\n",
    "        return None\n",
    "\n",
    "def _get(self, key, current_node):\n",
    "    if not current_node:\n",
    "        return None\n",
    "    elif current_node.key == key:\n",
    "        return current_node    \n",
    "    elif key < current_node.key:\n",
    "        return self._get(key, current_node.left_child)\n",
    "    else:\n",
    "        return self._get(key, current_node.right_child)  "
   ]
  },
  {
   "cell_type": "code",
   "execution_count": 29,
   "metadata": {
    "collapsed": true
   },
   "outputs": [],
   "source": [
    "def __getitem__(self, key):\n",
    "    return self.get(key)  \n",
    "\n",
    "def __contains__(self, key):\n",
    "    if self._get(key, self.root):\n",
    "        return True\n",
    "    else:\n",
    "        return False"
   ]
  },
  {
   "cell_type": "code",
   "execution_count": null,
   "metadata": {
    "collapsed": true
   },
   "outputs": [],
   "source": [
    "if 'Northfield' in my_zip_tree:\n",
    "    print('Found!')"
   ]
  },
  {
   "cell_type": "markdown",
   "metadata": {},
   "source": [
    "Наиболее сложной операцией является удаление узла из дерева:\n",
    "\n",
    "Шаг 1. При помощи поиска по дереву найти узел который нужно удалить.\n",
    "\n",
    "Шаг 2. После обнаружения узла существует три случая, которые требуют специфической реализации операции удаления узла."
   ]
  },
  {
   "cell_type": "markdown",
   "metadata": {},
   "source": [
    "Случай 1. Удаляемый узел не имеет потомков:\n",
    "\n",
    "![](bst_tree_3.png)"
   ]
  },
  {
   "cell_type": "markdown",
   "metadata": {},
   "source": [
    "Случай 2. Удаляемый узел имеет только одного потомка:\n",
    "\n",
    "![](bst_tree_4.png)"
   ]
  },
  {
   "cell_type": "markdown",
   "metadata": {},
   "source": [
    "1. If the current node is a left child then we only need to update the parent reference of\n",
    "the left child to point to the parent of the current node, and then update the left child\n",
    "reference of the parent to point to the current node’s left child.\n",
    "\n",
    "2. If the current node is a right child then we only need to update the parent reference of\n",
    "the right child to point to the parent of the current node, and then update the right child\n",
    "reference of the parent to point to the current node’s right child.\n",
    "\n",
    "3. If the current node has no parent, it must be the root. "
   ]
  },
  {
   "cell_type": "markdown",
   "metadata": {},
   "source": [
    "Случай 3. Удаляемый узел имеет двух потомков:\n",
    "\n",
    "![](bst_tree_5.png)"
   ]
  },
  {
   "cell_type": "markdown",
   "metadata": {},
   "source": [
    "Если у удаляемого узла Z два дочерних узла, то мы находим следующий за ним по величине узел Y, у которого не более одного дочернего узла и убираем его из позиции, где он находился ранее, путем создания новой связи между его родителем и потомком, и заменяем им узел Z."
   ]
  },
  {
   "cell_type": "markdown",
   "metadata": {},
   "source": [
    "Поиск наследника выполняется по следующему алгоритму:\n",
    "\n",
    "1. If the node has a right child, then the successor is the smallest key in the right subtree.\n",
    "2. If the node has no right child and is the left child of its parent, then the parent is the\n",
    "successor.\n",
    "3. If the node is the right child of its parent, and itself has no right child, then the successor\n",
    "to this node is the successor of its parent, excluding this node.\n",
    "4. The ﬁrst condition is the only one that matters for us when deleting a node from a binary\n",
    "search tree. However, the ﬁnd_successor method has other uses that we will explore in\n",
    "the exercises at the end of this chapter."
   ]
  },
  {
   "cell_type": "markdown",
   "metadata": {},
   "source": [
    "Пример неэффективного двоичного дерева поиска:\n",
    "\n",
    "![](bst_tree_6.png)"
   ]
  },
  {
   "cell_type": "markdown",
   "metadata": {},
   "source": [
    "Алгоритм вставки в бинарное дерево, который мы только что \n",
    "рассмотрели, дает хорошие результаты при использовании случайных \n",
    "входных данных, но все же существует неприятная возможность того, \n",
    "что при этом будет построено вырожденное дерево. Можно было бы \n",
    "разработать алгоритм, поддерживающий дерево в оптимальном состоянии все время, где под оптимальностью мы в данном случае понимаем сбалансированность дерева. \n",
    "\n",
    "Идеально сбалансированным \n",
    "называется дерево, у которого для каждой вершины выполняется тре-\n",
    "бование: число вершин в левом и правом поддеревьях различается не \n",
    "более чем на 1. \n",
    "\n",
    "Поддержка идеальной сбалансированности, к сожалению, очень сложная задача. Другая идея заключается в том, чтобы \n",
    "ввести менее жесткие критерии сбалансированности и на их основе \n",
    "предложить достаточно простые алгоритмы обеспечения этих критериев. "
   ]
  },
  {
   "cell_type": "markdown",
   "metadata": {},
   "source": [
    "## Двоичные кучи и очереди с приоритетом"
   ]
  },
  {
   "cell_type": "markdown",
   "metadata": {},
   "source": [
    "Двоичная куча (пирамида) (binary heap) — такое двоичное дерево, для которого выполнены три условия:\n",
    "\n",
    "1. Значение в любой вершине не больше, чем значения её потомков.\n",
    "2. Уровень всех листьев (расстояние до корня) отличается не более чем на 1.\n",
    "3. Последний уровень заполняется слева направо без «дырок»."
   ]
  },
  {
   "cell_type": "markdown",
   "metadata": {},
   "source": [
    "Пример двоичной кучи:\n",
    "\n",
    "![](bh_tree_1.png)"
   ]
  },
  {
   "cell_type": "markdown",
   "metadata": {},
   "source": [
    "Для гарантированной логарифмической производительности мы дложны поддержвать двоичную кучу в виде сбалансированного дерева. Для этого мы будем строить двоичную кучу в виде полного бинарного дерева - дерева в котором каждый уровень кроме последнего содержит все возможные узлы, а последний уровень заполняется с лева на право без пропусков. "
   ]
  },
  {
   "cell_type": "markdown",
   "metadata": {},
   "source": [
    "Пример двоичной кучи и ее представления в виде списка:\n",
    "\n",
    "![](bh_tree_2.png)"
   ]
  },
  {
   "cell_type": "markdown",
   "metadata": {},
   "source": [
    "Важным свойством полного бинарного дерева является то, что такое дерево может быть представленно в виде одного списка. Левый потомок родителя (имеющего индекс p) является элеменотом списка с индексом 2p. Аналогично, правый потомок является элеменотом списка с индексом 2p + 1. Для того, чтобы найти индекс родительского узла нужно взять целую часть от индекса элемента, разделенного на 2."
   ]
  },
  {
   "cell_type": "markdown",
   "metadata": {},
   "source": [
    "Базовые операции для двоичной кучи:\n",
    "\n",
    "* BinaryHeap() creates a new, empty, binary heap.\n",
    "* insert(k) adds a new item to the heap.\n",
    "* find_min() returns the item with the minimum key value, leaving item in the heap.\n",
    "* del_min() returns the item with the minimum key value, removing the item from the\n",
    "heap.\n",
    "* is_empty() returns true if the heap is empty, false otherwise.\n",
    "* size() returns the number of items in the heap.\n",
    "* build_heap(list) builds a new heap from a list of keys."
   ]
  },
  {
   "cell_type": "code",
   "execution_count": null,
   "metadata": {
    "collapsed": true
   },
   "outputs": [],
   "source": [
    "class BinHeap:\n",
    "    def __init__(self):\n",
    "        self.heap_list = [0]\n",
    "        self.current_size = 0"
   ]
  },
  {
   "cell_type": "markdown",
   "metadata": {},
   "source": [
    "Вставка нового узла и просачивание его наверх:\n",
    "\n",
    "![](bh_tree_3.png)"
   ]
  },
  {
   "cell_type": "code",
   "execution_count": 35,
   "metadata": {
    "collapsed": true
   },
   "outputs": [],
   "source": [
    "class BinHeap:\n",
    "    def __init__(self):\n",
    "        self.heap_list = [0]\n",
    "        self.current_size = 0\n",
    "        \n",
    "    def insert(self, k):\n",
    "        self.heap_list.append(k)\n",
    "        self.current_size = self.current_size + 1\n",
    "        perc_up(self, self.current_size)"
   ]
  },
  {
   "cell_type": "code",
   "execution_count": 36,
   "metadata": {
    "collapsed": true
   },
   "outputs": [],
   "source": [
    "def perc_up(self, i):\n",
    "    while i // 2 > 0:\n",
    "        if self.heap_list[i] < self.heap_list[i // 2]:\n",
    "            tmp = self.heap_list[i // 2]\n",
    "            self.heap_list[i // 2] = self.heap_list[i]\n",
    "            self.heap_list[i] = tmp\n",
    "        i = i // 2"
   ]
  },
  {
   "cell_type": "markdown",
   "metadata": {},
   "source": [
    "Реализация метода del_min:\n",
    "\n",
    "The heap property requires that the root of the tree be the smallest item in the tree, ﬁnding the\n",
    "minimum item is easy.  \n",
    "\n",
    "The hard part of del_min is restoring full compliance with the heap\n",
    "structure and heap order properties after the root has been removed. We can restore our heap in two steps:\n",
    "\n",
    "1. we will restore the root item by taking the last item in the list and moving it\n",
    "to the root position. Moving the last item maintains our heap structure property. However, we\n",
    "have probably destroyed the heap order property of our binary heap. \n",
    "2. we will restore the heap order property by pushing the new root node down the tree to its proper position.\n",
    "Figure shows the series of swaps needed to move the new root node to its proper position\n",
    "in the heap."
   ]
  },
  {
   "cell_type": "markdown",
   "metadata": {},
   "source": [
    "Удаление корневого элемента и просачивание нового значения вниз:\n",
    "\n",
    "![](bh_tree_4.png)"
   ]
  },
  {
   "cell_type": "code",
   "execution_count": 33,
   "metadata": {
    "collapsed": true
   },
   "outputs": [],
   "source": [
    "def perc_down(self, i):\n",
    "    while (i * 2) <= self.current_size:\n",
    "        mc = min_child(self, i)\n",
    "        if self.heap_list[i] > self.heap_list[mc]:\n",
    "            tmp = self.heap_list[i]\n",
    "            self.heap_list[i] = self.heap_list[mc]\n",
    "            self.heap_list[mc] = tmp\n",
    "        i = mc"
   ]
  },
  {
   "cell_type": "code",
   "execution_count": 34,
   "metadata": {
    "collapsed": true
   },
   "outputs": [],
   "source": [
    "def min_child(self, i):\n",
    "    if i * 2 + 1 > self.current_size:\n",
    "        return i * 2\n",
    "    else:\n",
    "        if self.heap_list[i * 2] < self.heap_list[i * 2 + 1]:\n",
    "            return i * 2\n",
    "        else:\n",
    "            return i * 2 + 1"
   ]
  },
  {
   "cell_type": "code",
   "execution_count": 38,
   "metadata": {
    "collapsed": true
   },
   "outputs": [],
   "source": [
    "class BinHeap:\n",
    "    def __init__(self):\n",
    "        self.heap_list = [0]\n",
    "        self.current_size = 0\n",
    "        \n",
    "    def insert(self, k):\n",
    "        self.heap_list.append(k)\n",
    "        self.current_size = self.current_size + 1\n",
    "        perc_up(self, self.current_size)\n",
    "        \n",
    "    def del_min(self):\n",
    "        ret_val = self.heap_list[1]\n",
    "        self.heap_list[1] = self.heap_list[self.current_size]\n",
    "        self.current_size = self.current_size - 1\n",
    "        self.heap_list.pop()\n",
    "        perc_down(self, 1)\n",
    "        return ret_val        \n",
    "    \n",
    "    def build_heap(self, a_list):\n",
    "        i = len(a_list) // 2\n",
    "        self.current_size = len(a_list)\n",
    "        self.heap_list = [0] + a_list[:]\n",
    "        while (i > 0):\n",
    "            self.perc_down(i)\n",
    "            i = i - 1"
   ]
  },
  {
   "cell_type": "markdown",
   "metadata": {},
   "source": [
    "Using the fact that you can build a heap from a list in 𝑂(𝑛) time, you will construct a sorting\n",
    "algorithm that uses a heap and sorts a list in 𝑂(𝑛 log 𝑛) as an exercise at the end of this chapter."
   ]
  },
  {
   "cell_type": "code",
   "execution_count": null,
   "metadata": {
    "collapsed": true
   },
   "outputs": [],
   "source": []
  },
  {
   "cell_type": "markdown",
   "metadata": {},
   "source": []
  }
 ],
 "metadata": {
  "anaconda-cloud": {},
  "kernelspec": {
   "display_name": "Python [Root]",
   "language": "python",
   "name": "Python [Root]"
  },
  "language_info": {
   "codemirror_mode": {
    "name": "ipython",
    "version": 3
   },
   "file_extension": ".py",
   "mimetype": "text/x-python",
   "name": "python",
   "nbconvert_exporter": "python",
   "pygments_lexer": "ipython3",
   "version": "3.5.2"
  }
 },
 "nbformat": 4,
 "nbformat_minor": 0
}
