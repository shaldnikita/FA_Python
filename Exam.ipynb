{
 "cells": [
  {
   "cell_type": "raw",
   "metadata": {},
   "source": [
    "1.\tИнвертировать последовательность слов, разделенных запятыми. \n",
    "Пример: строка 'SIX, SEVEN, EIGHT, NINE, TEN' будет преобразована в: 'TEN, NINE, EIGHT, SEVEN, SIX'."
   ]
  },
  {
   "cell_type": "code",
   "execution_count": 17,
   "metadata": {
    "collapsed": false,
    "scrolled": true
   },
   "outputs": [
    {
     "name": "stdout",
     "output_type": "stream",
     "text": [
      " TEN, NINE, EIGHT, SEVEN,SIX\n"
     ]
    }
   ],
   "source": [
    "from functools import reduce\n",
    "s='SIX, SEVEN, EIGHT, NINE, TEN'\n",
    "print(reduce(lambda a,b: a+\",\"+b,s.split(\",\")[::-1]))"
   ]
  },
  {
   "cell_type": "raw",
   "metadata": {},
   "source": [
    "2.\tИспользуя генератор списков (и не используя код вне него) преобразовать строку по следующей логике:для каждого символа исходной строки создать в итоговом списке строку, содержащую копии символа в количестве, равном номеру символа в исходной строке. \n",
    "Пример: 'abcd' -> ['a', 'bb', 'ccc', 'dddd']"
   ]
  },
  {
   "cell_type": "code",
   "execution_count": 22,
   "metadata": {
    "collapsed": false
   },
   "outputs": [
    {
     "data": {
      "text/plain": [
       "['a', 'bb', 'ccc', 'dddd']"
      ]
     },
     "execution_count": 22,
     "metadata": {},
     "output_type": "execute_result"
    }
   ],
   "source": [
    "s='abcd'\n",
    "s=[(i+1)*v for i,v in enumerate(s)]\n",
    "s"
   ]
  },
  {
   "cell_type": "raw",
   "metadata": {},
   "source": [
    "3.\tСоздать иерархию классов для фруктов, продающихся в магазине. Иерархия должна содержать не менее 5 классов, и не менее 3х уровней. Объекты должны содержать не менее 3х атрибутов и 2х методов (часть из которых должны быть перегружены). В конструкторах должны корректно использоваться конструкторы базовых классов. Необходимо заполнить список представителями всех классов (всего не менее 10 объектов) и продемонстрировать работу полиморфизма."
   ]
  },
  {
   "cell_type": "code",
   "execution_count": null,
   "metadata": {
    "collapsed": true
   },
   "outputs": [],
   "source": []
  },
  {
   "cell_type": "raw",
   "metadata": {},
   "source": [
    "4.\tРеализовать функцию cummulate для рассчета накопленных сумм (произведений). Функция принимает одно или более числовое значение (количество параметров заранее не определено). На основе этих значений рассчитываются накопленные суммы, которые сохраняются в списке, список возвращается как результат функции. Пример:параметры: 1, 3, 2, 2 -> [1, 4, 6, 8] . Необязательный булевский параметр mul должен позволять заменять суммирование умножением. Пример:параметры: 1, 3, 2, 2 -> [1, 3, 6, 12]"
   ]
  },
  {
   "cell_type": "code",
   "execution_count": 32,
   "metadata": {
    "collapsed": false
   },
   "outputs": [
    {
     "name": "stdout",
     "output_type": "stream",
     "text": [
      "true\n",
      "[1, 4, 8, 16]\n",
      "false\n",
      "[1, 5, 7, 9]\n"
     ]
    },
    {
     "data": {
      "text/plain": [
       "[1, 5, 7, 9]"
      ]
     },
     "execution_count": 32,
     "metadata": {},
     "output_type": "execute_result"
    }
   ],
   "source": [
    "def commulate(*args,mul=None):\n",
    "    list=[]\n",
    "    if(mul!=None):\n",
    "        print('true')\n",
    "        sum=1\n",
    "        for i in args:\n",
    "            sum=sum*i\n",
    "            list.append(sum)\n",
    "    else:\n",
    "        print('false')\n",
    "        sum=0\n",
    "        for i in args:\n",
    "            sum=sum+i\n",
    "            list.append(sum)\n",
    "    print(list)\n",
    "    return list\n",
    "commulate(1,4,2,2,mul=True)\n",
    "commulate(1,4,2,2)"
   ]
  },
  {
   "cell_type": "raw",
   "metadata": {},
   "source": [
    "5.\tРекурсивно реализовать функцию fib(n) вычисляющую значение n-го числа Фибоначи.  Числа Фибоначчи — элементы числовой последовательности в которой каждое последующее число равно сумме двух предыдущих чисел (Числа Фибоначчи: 0, 1, 1, 2, 3, 5, 8, 13, 21, 34, 55, 89, 144, 233, 377, 610, 987, … )."
   ]
  },
  {
   "cell_type": "code",
   "execution_count": 45,
   "metadata": {
    "collapsed": false
   },
   "outputs": [
    {
     "data": {
      "text/plain": [
       "8"
      ]
     },
     "execution_count": 45,
     "metadata": {},
     "output_type": "execute_result"
    }
   ],
   "source": [
    "def fib(n):\n",
    "    if n<3:\n",
    "        return 1\n",
    "    return fib(n-1) + fib(n-2)\n",
    "fib(6)"
   ]
  },
  {
   "cell_type": "raw",
   "metadata": {},
   "source": [
    "6.\tРеализовать декоратор, который выводит на печать возвращаемые значения функции."
   ]
  },
  {
   "cell_type": "code",
   "execution_count": 110,
   "metadata": {
    "collapsed": false
   },
   "outputs": [
    {
     "name": "stdout",
     "output_type": "stream",
     "text": [
      "Value to print\n"
     ]
    }
   ],
   "source": [
    "def printer(func):\n",
    "    def wrapper():\n",
    "        print(func())\n",
    "    return wrapper\n",
    "\n",
    "@printer\n",
    "def func():\n",
    "    return 'Value to print'\n",
    "func()"
   ]
  },
  {
   "cell_type": "raw",
   "metadata": {},
   "source": [
    "7.\tПри помощи механизма map/filter/reduce возвести в квадрат числа от 1 до 100, и рассчитать их сумму, не включая в сумму числа, кратные 10."
   ]
  },
  {
   "cell_type": "code",
   "execution_count": 49,
   "metadata": {
    "collapsed": false
   },
   "outputs": [
    {
     "data": {
      "text/plain": [
       "28500"
      ]
     },
     "execution_count": 49,
     "metadata": {},
     "output_type": "execute_result"
    }
   ],
   "source": [
    "from functools import reduce\n",
    "\n",
    "reduce(lambda a,b:a+b,filter(lambda x: x%10==0,map(lambda z: z**2,[num for num in range(100)])))"
   ]
  },
  {
   "cell_type": "raw",
   "metadata": {},
   "source": [
    "8.\tПри помощи стека (можно исопльзовать любую реализацию стека) проверить что в строке содержащей открывающие и закрывающие скобки трех типов: (), [], {}. Соблюдается корректный баланс и вложенность скобок."
   ]
  },
  {
   "cell_type": "code",
   "execution_count": 107,
   "metadata": {
    "collapsed": false
   },
   "outputs": [
    {
     "name": "stdout",
     "output_type": "stream",
     "text": [
      "True\n"
     ]
    }
   ],
   "source": [
    "s='[[]({})]'\n",
    "from collections import deque\n",
    "class Stack(deque):\n",
    "    def push(self, a):\n",
    "        self.append(a)\n",
    "        \n",
    "s1 = Stack()\n",
    "a={'[':']','(':')','{':'}'}\n",
    "isCool=True\n",
    "for i in s:\n",
    "    if i in a.keys():\n",
    "        s1.push(i)\n",
    "    if i in a.values():\n",
    "        if len(s1)!=0 and a.get(s1[-1])==i:\n",
    "            s1.pop()\n",
    "        else:\n",
    "            isCool=False\n",
    "            break\n",
    "print(isCool)"
   ]
  },
  {
   "cell_type": "raw",
   "metadata": {},
   "source": [
    "9.\tРеализовать алгоритм обменной сортировки."
   ]
  },
  {
   "cell_type": "code",
   "execution_count": 109,
   "metadata": {
    "collapsed": false
   },
   "outputs": [],
   "source": [
    "# Сортировка пузырьком:\n",
    "def bubble_sort_2(a_list):\n",
    "    for pass_num in range(len(a_list) - 1, 0, -1):\n",
    "        flag = False\n",
    "        for i in range(pass_num):\n",
    "            if a_list[i] > a_list[i + 1]:\n",
    "                temp = a_list[i]\n",
    "                a_list[i] = a_list[i + 1]\n",
    "                a_list[i + 1] = temp\n",
    "                flag = True\n",
    "        if not flag:\n",
    "            return a_list"
   ]
  },
  {
   "cell_type": "raw",
   "metadata": {},
   "source": [
    "10.\tРеализовать алгоритм сортировки Шелла."
   ]
  },
  {
   "cell_type": "code",
   "execution_count": 50,
   "metadata": {
    "collapsed": false
   },
   "outputs": [
    {
     "name": "stdout",
     "output_type": "stream",
     "text": [
      "[3, 12, 21, 24, 33, 40, 44, 51, 64, 70, 85, 97]\n"
     ]
    }
   ],
   "source": [
    "#SHELL\n",
    "def shellSort():\n",
    "    size=len(arrayA)\n",
    "    h=1\n",
    "    \n",
    "    while h< size//3: #Последовательность Кнута\n",
    "        h=h*3+1\n",
    "    \n",
    "    while h>0:\n",
    "        for outer in range(h,size):\n",
    "            temp=arrayA[outer]\n",
    "            inner=outer\n",
    "            \n",
    "            while (inner>h-1 and arrayA[inner-h]>temp):\n",
    "                arrayA[inner]=arrayA[inner-h]\n",
    "                inner-=h\n",
    "            arrayA[inner]=temp\n",
    "        h=(h-1)//3\n",
    "               \n",
    "arrayA = [64,21,33,70,12,85,44,3,97,24,51,40]  \n",
    "shellSort()\n",
    "print(arrayA)"
   ]
  }
 ],
 "metadata": {
  "kernelspec": {
   "display_name": "Python [Root]",
   "language": "python",
   "name": "Python [Root]"
  },
  "language_info": {
   "codemirror_mode": {
    "name": "ipython",
    "version": 3
   },
   "file_extension": ".py",
   "mimetype": "text/x-python",
   "name": "python",
   "nbconvert_exporter": "python",
   "pygments_lexer": "ipython3",
   "version": "3.5.2"
  }
 },
 "nbformat": 4,
 "nbformat_minor": 0
}
