{
 "cells": [
  {
   "cell_type": "code",
   "execution_count": 2,
   "metadata": {
    "collapsed": false
   },
   "outputs": [],
   "source": [
    "#1"
   ]
  },
  {
   "cell_type": "code",
   "execution_count": 9,
   "metadata": {
    "collapsed": false
   },
   "outputs": [
    {
     "name": "stdout",
     "output_type": "stream",
     "text": [
      "[[ 1  0  0  0  0  0  0  0  0  0]\n",
      " [ 0  2  0  0  0  0  0  0  0  0]\n",
      " [ 0  0  3  0  0  0  0  0  0  0]\n",
      " [ 0  0  0  4  0  0  0  0  0  0]\n",
      " [ 0  0  0  0  5  0  0  0  0  0]\n",
      " [ 0  0  0  0  0  6  0  0  0  0]\n",
      " [ 0  0  0  0  0  0  7  0  0  0]\n",
      " [ 0  0  0  0  0  0  0  8  0  0]\n",
      " [ 0  0  0  0  0  0  0  0  9  0]\n",
      " [ 0  0  0  0  0  0  0  0  0 10]]\n"
     ]
    }
   ],
   "source": [
    "#2\n",
    "import numpy as np\n",
    "def magic():\n",
    "    a=np.array([0 for _ in range(100)]).reshape(10,10)\n",
    "    it = np.nditer(a, op_flags=['readwrite'],flags=['c_index','multi_index'])\n",
    "    while not it.finished:\n",
    "        i=it.multi_index[0]\n",
    "        j=it.multi_index[1]\n",
    "        if j==i:\n",
    "            it[0] = i+1\n",
    "        it.iternext()\n",
    "    return a\n",
    "print(magic())"
   ]
  },
  {
   "cell_type": "code",
   "execution_count": 214,
   "metadata": {
    "collapsed": false
   },
   "outputs": [
    {
     "name": "stdout",
     "output_type": "stream",
     "text": [
      "[[2 3 8 0 2 9 1 6 8 4 1 0 6 2 2]\n",
      " [0 8 8 6 3 7 3 8 3 7 6 2 7 6 0]]\n",
      "[0 4 3 3 0 1 9 6 9 9 5 7 7 4 0]\n",
      "deliting 1+3<9\n",
      "deliting 0+2<7\n",
      "[[2 3 8 0 2 9 6 8 4 1 6 2 2]\n",
      " [0 8 8 6 3 7 8 3 7 6 7 6 0]]\n"
     ]
    }
   ],
   "source": [
    "#3\n",
    "import numpy as np\n",
    "import random as r\n",
    "a=np.array([r.randint(0, 9) for _ in range(30) ]).reshape(2,15)\n",
    "b=np.array([r.randint(0, 9) for _ in range(15) ])\n",
    "it = np.nditer([a[0],a[1],b], op_flags=['readwrite'],flags=['c_index'])\n",
    "print(a)\n",
    "print(b)\n",
    "i=0\n",
    "while not it.finished:\n",
    "    if(it[0]+it[1]<it[2]):\n",
    "        a=np.delete(a,i,1)\n",
    "        i-=1\n",
    "        print(\"deliting %d+%d<%d\" %(it[0],it[1],it[2]))\n",
    "    i+=1\n",
    "    it.iternext()\n",
    "print(a)"
   ]
  },
  {
   "cell_type": "code",
   "execution_count": null,
   "metadata": {
    "collapsed": false
   },
   "outputs": [],
   "source": []
  }
 ],
 "metadata": {
  "kernelspec": {
   "display_name": "Python 3",
   "language": "python",
   "name": "python3"
  },
  "language_info": {
   "codemirror_mode": {
    "name": "ipython",
    "version": 3
   },
   "file_extension": ".py",
   "mimetype": "text/x-python",
   "name": "python",
   "nbconvert_exporter": "python",
   "pygments_lexer": "ipython3",
   "version": "3.6.0"
  }
 },
 "nbformat": 4,
 "nbformat_minor": 2
}
