{
 "cells": [
  {
   "cell_type": "code",
   "execution_count": null,
   "metadata": {
    "collapsed": false
   },
   "outputs": [],
   "source": []
  },
  {
   "cell_type": "code",
   "execution_count": 69,
   "metadata": {
    "collapsed": false
   },
   "outputs": [
    {
     "data": {
      "text/plain": [
       "array([[0, 1, 0],\n",
       "       [1, 0, 1],\n",
       "       [0, 1, 0]])"
      ]
     },
     "execution_count": 69,
     "metadata": {},
     "output_type": "execute_result"
    }
   ],
   "source": [
    "#2\n",
    "import numpy as np\n",
    "def magic(a):\n",
    "    it = np.nditer(a, op_flags=['readwrite'],flags=['c_index'])\n",
    "    while not it.finished:\n",
    "        it[0] = it.index%2 \n",
    "        it.iternext()\n",
    "    return a\n",
    "magic(np.array([x for x in range(9)]).reshape(3,3))"
   ]
  },
  {
   "cell_type": "code",
   "execution_count": 76,
   "metadata": {
    "collapsed": false
   },
   "outputs": [
    {
     "data": {
      "text/plain": [
       "array([[ 9, 13, 17, 21],\n",
       "       [12, 16, 20, 24],\n",
       "       [15, 19, 23, 27]])"
      ]
     },
     "execution_count": 76,
     "metadata": {},
     "output_type": "execute_result"
    }
   ],
   "source": [
    "import numpy as np\n",
    "a=np.array([x for x in range(12)]).reshape(3,4)\n",
    "it = np.nditer(a, op_flags=['readwrite'],flags=['c_index','multi_index'])\n",
    "while not it.finished:\n",
    "    i=it.multi_index[0]\n",
    "    j=it.multi_index[1]\n",
    "    it[0] = 3*(i+1)+4*(j+1)+2\n",
    "    it.iternext()\n",
    "a"
   ]
  }
 ],
 "metadata": {
  "kernelspec": {
   "display_name": "Python 3",
   "language": "python",
   "name": "python3"
  },
  "language_info": {
   "codemirror_mode": {
    "name": "ipython",
    "version": 3
   },
   "file_extension": ".py",
   "mimetype": "text/x-python",
   "name": "python",
   "nbconvert_exporter": "python",
   "pygments_lexer": "ipython3",
   "version": "3.6.0"
  }
 },
 "nbformat": 4,
 "nbformat_minor": 2
}
