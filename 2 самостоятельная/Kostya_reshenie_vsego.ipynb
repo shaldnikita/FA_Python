{
 "cells": [
  {
   "cell_type": "code",
   "execution_count": null,
   "metadata": {
    "collapsed": false
   },
   "outputs": [],
   "source": [
    "#1.1\n",
    "class Binary_Tree_LI(object):\n",
    "    \n",
    "    @classmethod\n",
    "    def check_list_validity(cls,lis):\n",
    "        if len(lis)!=3:\n",
    "            raise AssertionError(\"Недопустимый формат аргумента-списка\")\n",
    "        else:\n",
    "            to_check = [l for l in lis[1:] if l!=[]]\n",
    "            for elem in to_check:\n",
    "                cls.check_list_validity(elem)\n",
    "        \n",
    "    \n",
    "    def __init__(self, new_tree):\n",
    "        if isinstance(new_tree, Binary_Tree_LI):\n",
    "            self.tree = new_tree.get_tree_list()\n",
    "        elif isinstance(new_tree, list):\n",
    "            Binary_Tree_LI.check_list_validity(new_tree)\n",
    "            self.tree = new_tree\n",
    "        else:\n",
    "            self.tree = [new_tree,[],[]]\n",
    "            \n",
    "    def __getitem__(self, position):\n",
    "        return self.tree[position]\n",
    "    \n",
    "    def __setitem__(self, position,item):\n",
    "        if position==0:\n",
    "            self.tree[position] = item\n",
    "        else:\n",
    "            self.tree[position] = Binary_Tree_LI(item)\n",
    "            \n",
    "    def get_tree_list(self, do_print = False):\n",
    "        if do_print:\n",
    "            print(self.tree)\n",
    "        return self.tree\n",
    "    \n",
    "    def get_left_child(self):\n",
    "        return Binary_Tree_LI(self[1]) if len(self[1])==3 else None\n",
    "    \n",
    "    def get_right_child(self):\n",
    "        return Binary_Tree_LI(self[2]) if len(self[2])==3 else None\n",
    "    \n",
    "    def get_val(self):\n",
    "        return self[0]\n",
    "    \n",
    "    def set_val(self, new_val):\n",
    "        self[0] = new_val\n",
    "        \n",
    "    def insert_left_child(self, node):\n",
    "        self[1] = node\n",
    "        \n",
    "    def insert_left_child(self, node):\n",
    "        self[2] = node\n",
    "        \n",
    "\n",
    "import operator\n",
    "ops = {\"+\" : operator.add, \"-\" : operator.sub, \"*\": operator.mul}\n",
    "\n",
    "def is_int(arg):\n",
    "    try:\n",
    "        int(arg)\n",
    "        return True\n",
    "    except:\n",
    "        return False\n",
    "\n",
    "def calculate(node):\n",
    "    left_child = node.get_left_child()\n",
    "    right_child = node.get_right_child()\n",
    "    left_val = left_child.get_val()\n",
    "    right_val = right_child.get_val()\n",
    "    f = ops[node.get_val()]\n",
    "    if is_int(left_val) and is_int(right_val):\n",
    "        return ops[node.get_val()](left_val,right_val)\n",
    "    elif is_int(left_val):\n",
    "        return f(left_val, calculate(right_child))\n",
    "    elif is_int(right_val):\n",
    "        return f(calculate(left_child), right_val)\n",
    "    else:\n",
    "        return f(calculate(left_child), calculate(right_child))\n",
    "        \n",
    "tree = Binary_Tree_LI([\"+\",[\"-\",[2,[],[]],[3,[],[]]],[1,[],[]]])\n",
    "tree2 = Binary_Tree_LI([\"-\",[\"+\",[4,[],[]],[\"*\",[2,[],[]],[3,[],[]]]],[1,[],[]]])\n",
    "print(calculate(tree))\n",
    "print(calculate(tree2))"
   ]
  },
  {
   "cell_type": "code",
   "execution_count": 1,
   "metadata": {
    "collapsed": false
   },
   "outputs": [
    {
     "data": {
      "text/plain": [
       "array([[ 0.,  1.,  0.,  1.],\n",
       "       [ 1.,  0.,  1.,  0.],\n",
       "       [ 0.,  1.,  0.,  1.]])"
      ]
     },
     "execution_count": 1,
     "metadata": {},
     "output_type": "execute_result"
    }
   ],
   "source": [
    "#1.2\n",
    "import numpy as np\n",
    "def morph(matrix):\n",
    "    M = np.zeros((len(matrix),len(matrix[0])))\n",
    "    M[1::2,::2] = 1\n",
    "    M[::2,1::2] = 1\n",
    "    return M\n",
    "\n",
    "morph(np.arange(12).reshape(3,4))"
   ]
  },
  {
   "cell_type": "code",
   "execution_count": 2,
   "metadata": {
    "collapsed": false
   },
   "outputs": [
    {
     "name": "stdout",
     "output_type": "stream",
     "text": [
      "[[  2.   6.  10.  14.]\n",
      " [  5.   9.  13.  17.]\n",
      " [  8.  12.  16.  20.]]\n"
     ]
    }
   ],
   "source": [
    "#1.3\n",
    "M = np.fromfunction(lambda i,j : 3*i + 4*j + 2, (3,4))\n",
    "print(M)"
   ]
  },
  {
   "cell_type": "code",
   "execution_count": 25,
   "metadata": {
    "collapsed": false
   },
   "outputs": [
    {
     "name": "stdout",
     "output_type": "stream",
     "text": [
      "7\n",
      "4\n",
      "10\n",
      "3\n",
      "5\n",
      "1\n",
      "9\n",
      "12\n"
     ]
    }
   ],
   "source": [
    "#2.1\n",
    "import random\n",
    "def gen_list():\n",
    "    length = random.randint(5,10)\n",
    "    last = 0\n",
    "    lis = []\n",
    "    for i in range(length):\n",
    "        lis.append(last)\n",
    "        last+=random.randint(1,10)\n",
    "    return lis\n",
    "\n",
    "\n",
    "class Node(object):\n",
    "    \n",
    "    def __init__(self, val):\n",
    "        self.value = val\n",
    "        self.left_child = None\n",
    "        self.right_child = None\n",
    "\n",
    "class Binary_Search_Tree(object):\n",
    "    \n",
    "    def __init__(self, val):\n",
    "        self.root = Node(val)\n",
    "    \n",
    "    def insert(self,val):\n",
    "        to_insert = Node(val)\n",
    "        pointer = self.root\n",
    "        while(True):\n",
    "            if to_insert.value > pointer.value:\n",
    "                if pointer.right_child is None:\n",
    "                    pointer.right_child = to_insert\n",
    "                    return\n",
    "                else:\n",
    "                    pointer = pointer.right_child\n",
    "            elif to_insert.value < pointer.value:\n",
    "                if pointer.left_child is None:\n",
    "                    pointer.left_child = to_insert\n",
    "                    return\n",
    "                else:\n",
    "                    pointer = pointer.left_child\n",
    "                    \n",
    "    def display_tree(self):\n",
    "        \n",
    "        print(self.root.value)\n",
    "        \n",
    "        def display(node):\n",
    "            if node is None:\n",
    "                return\n",
    "            if node.left_child is not None:\n",
    "                print(node.left_child.value)\n",
    "            if node.right_child is not None:\n",
    "                print(node.right_child.value)\n",
    "            display(node.left_child)\n",
    "            display(node.right_child)\n",
    "                \n",
    "        display(self.root)\n",
    "\n",
    "#Тестовые данные   \n",
    "tree = Binary_Search_Tree(10)\n",
    "tree.insert(7)\n",
    "tree.insert(15)\n",
    "tree.insert(3)\n",
    "tree.insert(8)\n",
    "tree.insert(13)\n",
    "tree.insert(19)\n",
    "#tree.display_tree()\n",
    "\n",
    "def convert(lis):\n",
    "    \n",
    "    middle = len(lis)//2\n",
    "    tree = Binary_Search_Tree(lis[middle])\n",
    "    \n",
    "    def convert_inner(lis, tree):\n",
    "        if len(lis)<1:\n",
    "            return\n",
    "        elif len(lis)==1:\n",
    "            tree.insert(lis[0])\n",
    "            return\n",
    "        middle = len(lis)//2\n",
    "        tree.insert(lis[middle])\n",
    "        convert_inner(lis[:middle],tree)\n",
    "        convert_inner(lis[middle+1:],tree)\n",
    "    \n",
    "    convert_inner(lis[:middle],tree)\n",
    "    convert_inner(lis[middle+1:],tree)\n",
    "    return tree\n",
    "\n",
    "tr = convert([1,3,4,5,7,9,10,12])\n",
    "tr.display_tree()"
   ]
  },
  {
   "cell_type": "code",
   "execution_count": 3,
   "metadata": {
    "collapsed": false
   },
   "outputs": [
    {
     "name": "stdout",
     "output_type": "stream",
     "text": [
      "[[ 1.          0.          0.          0.          0.          0.          0.\n",
      "   0.          0.          0.        ]\n",
      " [ 0.          0.5         0.          0.          0.          0.          0.\n",
      "   0.          0.          0.        ]\n",
      " [ 0.          0.          0.33333333  0.          0.          0.          0.\n",
      "   0.          0.          0.        ]\n",
      " [ 0.          0.          0.          0.25        0.          0.          0.\n",
      "   0.          0.          0.        ]\n",
      " [ 0.          0.          0.          0.          0.2         0.          0.\n",
      "   0.          0.          0.        ]\n",
      " [ 0.          0.          0.          0.          0.          0.16666667\n",
      "   0.          0.          0.          0.        ]\n",
      " [ 0.          0.          0.          0.          0.          0.\n",
      "   0.14285714  0.          0.          0.        ]\n",
      " [ 0.          0.          0.          0.          0.          0.          0.\n",
      "   0.125       0.          0.        ]\n",
      " [ 0.          0.          0.          0.          0.          0.          0.\n",
      "   0.          0.11111111  0.        ]\n",
      " [ 0.          0.          0.          0.          0.          0.          0.\n",
      "   0.          0.          0.1       ]]\n",
      "[[ 1.  0.  0.  0.  0.  0.  0.  0.  0.  0.]\n",
      " [ 0.  1.  0.  0.  0.  0.  0.  0.  0.  0.]\n",
      " [ 0.  0.  1.  0.  0.  0.  0.  0.  0.  0.]\n",
      " [ 0.  0.  0.  1.  0.  0.  0.  0.  0.  0.]\n",
      " [ 0.  0.  0.  0.  1.  0.  0.  0.  0.  0.]\n",
      " [ 0.  0.  0.  0.  0.  1.  0.  0.  0.  0.]\n",
      " [ 0.  0.  0.  0.  0.  0.  1.  0.  0.  0.]\n",
      " [ 0.  0.  0.  0.  0.  0.  0.  1.  0.  0.]\n",
      " [ 0.  0.  0.  0.  0.  0.  0.  0.  1.  0.]\n",
      " [ 0.  0.  0.  0.  0.  0.  0.  0.  0.  1.]]\n"
     ]
    }
   ],
   "source": [
    "#2.2\n",
    "M = np.diag(np.arange(1,11))\n",
    "rm = np.linalg.inv(M)\n",
    "print(rm)\n",
    "print(rm*M) #Проверка"
   ]
  },
  {
   "cell_type": "code",
   "execution_count": null,
   "metadata": {
    "collapsed": false
   },
   "outputs": [],
   "source": [
    "#2.3\n",
    "matrix = np.random.randint(0,10,(2,15))\n",
    "vector = np.random.randint(0,10,(1,15))\n",
    "print(matrix)\n",
    "print(vector)"
   ]
  },
  {
   "cell_type": "code",
   "execution_count": null,
   "metadata": {
    "collapsed": false
   },
   "outputs": [],
   "source": [
    "matrix2 = matrix.sum(axis=0)\n",
    "filt = matrix2>vector\n",
    "filt = filt & np.array([True,True]).reshape(2,1)\n",
    "filt"
   ]
  },
  {
   "cell_type": "code",
   "execution_count": null,
   "metadata": {
    "collapsed": false
   },
   "outputs": [],
   "source": [
    "matrix[filt].reshape(2, len(matrix[filt])//2)"
   ]
  },
  {
   "cell_type": "code",
   "execution_count": null,
   "metadata": {
    "collapsed": true
   },
   "outputs": [],
   "source": []
  }
 ],
 "metadata": {
  "kernelspec": {
   "display_name": "Python 3",
   "language": "python",
   "name": "python3"
  },
  "language_info": {
   "codemirror_mode": {
    "name": "ipython",
    "version": 3
   },
   "file_extension": ".py",
   "mimetype": "text/x-python",
   "name": "python",
   "nbconvert_exporter": "python",
   "pygments_lexer": "ipython3",
   "version": "3.6.0"
  }
 },
 "nbformat": 4,
 "nbformat_minor": 0
}
