{
 "cells": [
  {
   "cell_type": "markdown",
   "metadata": {},
   "source": [
    "1) Реализовать модификацию сортировки пузырьком \"камешек-пузырек\": с чередующимися проходами, приводящими к \"всплытию\" самого большого значения списка и к \"погружению\" самого маленького значения из неотсортированной части списка."
   ]
  },
  {
   "cell_type": "code",
   "execution_count": 4,
   "metadata": {
    "collapsed": false
   },
   "outputs": [],
   "source": [
    "def bubblestonesort(lst):\n",
    "    \n",
    "    switches=0\n",
    "    comparisons=0\n",
    "    \n",
    "    def movebubble(lis):\n",
    "        nonlocal switches\n",
    "        nonlocal comparisons\n",
    "        for i in range(len(lis)-1):\n",
    "            comparisons+=1\n",
    "            if lis[i]>lis[i+1]:\n",
    "                switches+=1\n",
    "                lis[i],lis[i+1] = lis[i+1], lis[i]\n",
    "        return lis\n",
    "\n",
    "    def movestone(lis):\n",
    "        nonlocal switches\n",
    "        nonlocal comparisons\n",
    "        for i in range(len(lis)-1,0,-1):\n",
    "            comparisons+=1\n",
    "            if lis[i]<lis[i-1]:\n",
    "                switches+=1\n",
    "                lis[i],lis[i-1] = lis[i-1], lis[i]\n",
    "        return lis\n",
    "\n",
    "    length = len(lst)\n",
    "    for i in range(length//2):\n",
    "        lst[i:length-i]=movebubble(lst[i:length - i])\n",
    "        lst[i:length - i - 1]=movestone(lst[i:length - i - 1])\n",
    "    return lst,comparisons,switches"
   ]
  },
  {
   "cell_type": "code",
   "execution_count": 13,
   "metadata": {
    "collapsed": false
   },
   "outputs": [
    {
     "name": "stdout",
     "output_type": "stream",
     "text": [
      "List: [2, 3, 4], Comparisons: 3, Switches: 1\n"
     ]
    }
   ],
   "source": [
    "#2\n",
    "reply=bubblestonesort([2,4,3])\n",
    "print(\"List: {}, Comparisons: {}, Switches: {}\".format(reply[0],reply[1],reply[2]))"
   ]
  },
  {
   "cell_type": "markdown",
   "metadata": {},
   "source": [
    "2) Добавить в сортировку счетчик операций перестановки и счетчик операций сравнения. Возвращать значение счетчиков вместе с отсортированным списком (кортеж: список, перестановки, сравнения)."
   ]
  },
  {
   "cell_type": "markdown",
   "metadata": {},
   "source": [
    "3) Реализовать модификацию сортировки выбором на основе выбора из подсписков (описанного в лекции). Начать с разбиения на 3 подсписка, в идеале реализовать квадратичный выбор."
   ]
  },
  {
   "cell_type": "code",
   "execution_count": 60,
   "metadata": {
    "collapsed": false
   },
   "outputs": [
    {
     "ename": "TypeError",
     "evalue": "max expected 1 arguments, got 0",
     "output_type": "error",
     "traceback": [
      "\u001b[1;31m---------------------------------------------------------------------------\u001b[0m",
      "\u001b[1;31mTypeError\u001b[0m                                 Traceback (most recent call last)",
      "\u001b[1;32m<ipython-input-60-11f2c2f889da>\u001b[0m in \u001b[0;36m<module>\u001b[1;34m()\u001b[0m\n\u001b[0;32m     10\u001b[0m     \u001b[1;32mreturn\u001b[0m \u001b[0mlis\u001b[0m\u001b[1;33m\u001b[0m\u001b[0m\n\u001b[0;32m     11\u001b[0m \u001b[1;33m\u001b[0m\u001b[0m\n\u001b[1;32m---> 12\u001b[1;33m \u001b[0mchoose_modified\u001b[0m\u001b[1;33m(\u001b[0m\u001b[1;33m[\u001b[0m\u001b[1;36m2\u001b[0m\u001b[1;33m,\u001b[0m\u001b[1;36m4\u001b[0m\u001b[1;33m,\u001b[0m\u001b[1;36m3\u001b[0m\u001b[1;33m,\u001b[0m\u001b[1;36m1\u001b[0m\u001b[1;33m]\u001b[0m\u001b[1;33m)\u001b[0m\u001b[1;33m\u001b[0m\u001b[0m\n\u001b[0m",
      "\u001b[1;32m<ipython-input-60-11f2c2f889da>\u001b[0m in \u001b[0;36mchoose_modified\u001b[1;34m(lis)\u001b[0m\n\u001b[0;32m      6\u001b[0m         \u001b[0mmaximums\u001b[0m \u001b[1;33m=\u001b[0m \u001b[1;33m[\u001b[0m\u001b[1;33m]\u001b[0m\u001b[1;33m\u001b[0m\u001b[0m\n\u001b[0;32m      7\u001b[0m         \u001b[1;32mfor\u001b[0m \u001b[0mj\u001b[0m \u001b[1;32min\u001b[0m \u001b[0mrange\u001b[0m\u001b[1;33m(\u001b[0m\u001b[0mgroups_left\u001b[0m\u001b[1;33m)\u001b[0m\u001b[1;33m:\u001b[0m\u001b[1;33m\u001b[0m\u001b[0m\n\u001b[1;32m----> 8\u001b[1;33m             \u001b[0mmaximums\u001b[0m\u001b[1;33m.\u001b[0m\u001b[0mappend\u001b[0m\u001b[1;33m(\u001b[0m\u001b[0mmax\u001b[0m\u001b[1;33m(\u001b[0m\u001b[1;33m*\u001b[0m\u001b[0mlis\u001b[0m\u001b[1;33m[\u001b[0m\u001b[1;33m:\u001b[0m\u001b[0mlen\u001b[0m\u001b[1;33m(\u001b[0m\u001b[0mlis\u001b[0m\u001b[1;33m)\u001b[0m\u001b[1;33m-\u001b[0m\u001b[1;36m1\u001b[0m\u001b[1;33m]\u001b[0m\u001b[1;33m[\u001b[0m\u001b[0mj\u001b[0m\u001b[1;33m*\u001b[0m\u001b[0mgroup_by\u001b[0m\u001b[1;33m:\u001b[0m\u001b[0mj\u001b[0m\u001b[1;33m*\u001b[0m\u001b[0mgroup_by\u001b[0m\u001b[1;33m+\u001b[0m\u001b[0mj\u001b[0m\u001b[1;33m]\u001b[0m\u001b[1;33m)\u001b[0m\u001b[1;33m)\u001b[0m\u001b[1;33m\u001b[0m\u001b[0m\n\u001b[0m\u001b[0;32m      9\u001b[0m         \u001b[0mlis\u001b[0m\u001b[1;33m[\u001b[0m\u001b[0mi\u001b[0m\u001b[1;33m]\u001b[0m\u001b[1;33m,\u001b[0m \u001b[0mlis\u001b[0m\u001b[1;33m[\u001b[0m\u001b[0mlen\u001b[0m\u001b[1;33m(\u001b[0m\u001b[0mlis\u001b[0m\u001b[1;33m)\u001b[0m\u001b[1;33m-\u001b[0m\u001b[0mi\u001b[0m\u001b[1;33m]\u001b[0m \u001b[1;33m=\u001b[0m \u001b[0mlis\u001b[0m\u001b[1;33m[\u001b[0m\u001b[0mlen\u001b[0m\u001b[1;33m(\u001b[0m\u001b[0mlis\u001b[0m\u001b[1;33m)\u001b[0m\u001b[1;33m-\u001b[0m\u001b[0mi\u001b[0m\u001b[1;33m]\u001b[0m\u001b[1;33m,\u001b[0m \u001b[0mlis\u001b[0m\u001b[1;33m[\u001b[0m\u001b[0mi\u001b[0m\u001b[1;33m]\u001b[0m\u001b[1;33m\u001b[0m\u001b[0m\n\u001b[0;32m     10\u001b[0m     \u001b[1;32mreturn\u001b[0m \u001b[0mlis\u001b[0m\u001b[1;33m\u001b[0m\u001b[0m\n",
      "\u001b[1;31mTypeError\u001b[0m: max expected 1 arguments, got 0"
     ]
    }
   ],
   "source": [
    "import math\n",
    "def choose_modified(lis):\n",
    "    group_by = int(math.sqrt(len(lis)))\n",
    "    groups_left = group_by\n",
    "    for i in range(len(lis)):\n",
    "        maximums = []\n",
    "        for j in range(groups_left-1):\n",
    "            maximums+=[max(*lis[j*group_by:j*group_by+group_by])]\n",
    "        lis[i], lis[len(lis)-i] = lis[len(lis)-i], lis[i]\n",
    "    return lis\n",
    "\n",
    "choose_modified([2,4,3,1])"
   ]
  },
  {
   "cell_type": "markdown",
   "metadata": {},
   "source": [
    "4) Создать алгоритмы порождения списка целых значений: отсортированного (по возрастанию и убыванию), случайного и почти отсортированного по возрастанию."
   ]
  },
  {
   "cell_type": "code",
   "execution_count": 7,
   "metadata": {
    "collapsed": false
   },
   "outputs": [
    {
     "data": {
      "text/plain": [
       "[9, 18, 55, 13, 14, 51, 56]"
      ]
     },
     "execution_count": 7,
     "metadata": {},
     "output_type": "execute_result"
    }
   ],
   "source": [
    "#4\n",
    "import random\n",
    "def gen_random(length = random.randint(10,20), start = 1, end = 100):\n",
    "    return [random.randint(start,end) for _ in range(length)]\n",
    "\n",
    "def gen_sorted(length = random.randint(1,100), revert = False):\n",
    "    last_val = random.randint(1,10)\n",
    "    ret_list = []\n",
    "    for i in range(length):\n",
    "        ret_list.append(last_val)\n",
    "        last_val = random.randint(last_val, last_val+random.randint(1,15))\n",
    "    return ret_list if not revert else ret_list[::-1]\n",
    "\n",
    "def gen_partly_sorted(length = random.randint(1,100)):\n",
    "    sorted_len = random.randint(1, random.randint(1,length))\n",
    "    ret_val = []\n",
    "    ret_val+=gen_sorted(sorted_len)\n",
    "    return ret_val+gen_random(length-sorted_len)\n",
    "\n",
    "gen_partly_sorted(7)"
   ]
  },
  {
   "cell_type": "markdown",
   "metadata": {},
   "source": [
    "5) Реализовать функцию тестирования алгоритма сортировки. Процедура принимает на вход алгоритм сортировки, алгоритм порождения списка f_gen(list_len) (генерирует список заданной длины), количество повторений теста и список длин списков, использующихся для тестирования.\n",
    "Для каждой длины списка функция тестирования возвращает минимальное, среднее и наибольшее количество сравнений и перестановок."
   ]
  },
  {
   "cell_type": "code",
   "execution_count": 55,
   "metadata": {
    "collapsed": false
   },
   "outputs": [
    {
     "data": {
      "text/plain": [
       "'Minimum comparisons: 3, Average comparisons: 10.0, Maximum comparisons: 21 \\nMinimum switches: 2, Average switches: 6.0, Maximum switches: 12'"
      ]
     },
     "execution_count": 55,
     "metadata": {},
     "output_type": "execute_result"
    }
   ],
   "source": [
    "#5,6\n",
    "def test_alg(sort_alg, list_generator, test_repetitions, lengths):\n",
    "    results = [] #Comparisons, switches\n",
    "    all_lists = [list_generator(arg) for arg in lengths]\n",
    "    for i in range(test_repetitions):\n",
    "        reply = sort_alg(all_lists[i])\n",
    "        results.append([reply[1],reply[2]])\n",
    "    rets = \"Minimum comparisons: {}, Average comparisons: {}, Maximum comparisons: {} \\n\"\n",
    "    rets+= \"Minimum switches: {}, Average switches: {}, Maximum switches: {}\"\n",
    "    comparisons = [lis[0] for lis in results]\n",
    "    switches = [lis[1] for lis in results]\n",
    "    return rets.format(min(*comparisons), sum(comparisons)/len(comparisons), max(*comparisons),\n",
    "                       min(*switches), sum(switches)/len(switches), max(*switches))\n",
    "\n",
    "test_alg(bubblestonesort, gen_random, 3, [3,7,4])"
   ]
  },
  {
   "cell_type": "markdown",
   "metadata": {},
   "source": [
    "6) Протестировать алгоритмы \"пузырек\", \"камешек-пузырек\" и \"квадратичный выбор\" на разных типах списков."
   ]
  },
  {
   "cell_type": "code",
   "execution_count": 21,
   "metadata": {
    "collapsed": false
   },
   "outputs": [
    {
     "data": {
      "text/plain": [
       "([52, 10, 14],\n",
       " [23.9, 5.0, 8.8],\n",
       " [0, 1, 2],\n",
       " [105, 15, 28],\n",
       " [105.0, 15.0, 28.0],\n",
       " [105, 15, 28])"
      ]
     },
     "execution_count": 21,
     "metadata": {},
     "output_type": "execute_result"
    }
   ],
   "source": [
    "def test_alg(sort_alg, list_generator, test_repetitions, lengths):\n",
    "    max_swaps = []\n",
    "    avg_swaps = []\n",
    "    min_swaps = []\n",
    "    max_comps = []\n",
    "    avg_comps = []\n",
    "    min_comps = []\n",
    "    for length in lengths:\n",
    "        max_swap = 0\n",
    "        min_swap = 9999999999999999\n",
    "        max_comp = 0\n",
    "        min_comp = 9999999999999999\n",
    "        sum_swaps = 0\n",
    "        sum_comps = 0\n",
    "        for test in range(test_repetitions):\n",
    "            new_list = list_generator(length)\n",
    "            reply = sort_alg(new_list)\n",
    "            swaps = reply[2]\n",
    "            comps = reply[1]\n",
    "            if swaps > max_swap: max_swap = swaps\n",
    "            if swaps < min_swap: min_swap = swaps\n",
    "            if comps > max_comp: max_comp = comps\n",
    "            if comps < min_comp: min_comp = comps\n",
    "            sum_swaps+=swaps\n",
    "            sum_comps+=comps\n",
    "        max_swaps.append(max_swap)\n",
    "        min_swaps.append(min_swap)\n",
    "        avg_swaps.append(sum_swaps / test_repetitions)\n",
    "        max_comps.append(max_comp)\n",
    "        min_comps.append(min_comp)\n",
    "        avg_comps.append(sum_comps / test_repetitions)\n",
    "    return max_swaps, avg_swaps, min_swaps, max_comps, avg_comps, min_comps\n",
    "\n",
    "test_alg(bubblestonesort, gen_partly_sorted, 10 , [15,6,8])"
   ]
  },
  {
   "cell_type": "code",
   "execution_count": 18,
   "metadata": {
    "collapsed": true
   },
   "outputs": [],
   "source": [
    "def bubble_sort(a_list):\n",
    "    switches = 0\n",
    "    comparisons = 0\n",
    "    for pass_num in range(len(a_list) - 1, 0, -1):\n",
    "        for i in range(pass_num):\n",
    "            comparisons+=1\n",
    "            if a_list[i] > a_list[i + 1]:\n",
    "                switches+=1\n",
    "                temp = a_list[i]\n",
    "                a_list[i] = a_list[i + 1]\n",
    "                a_list[i + 1] = temp\n",
    "    return a_list, comparisons, switches"
   ]
  },
  {
   "cell_type": "code",
   "execution_count": 20,
   "metadata": {
    "collapsed": false
   },
   "outputs": [
    {
     "data": {
      "text/plain": [
       "([63, 6, 16],\n",
       " [31.2, 3.2, 9.1],\n",
       " [1, 0, 0],\n",
       " [105, 15, 28],\n",
       " [105.0, 15.0, 28.0],\n",
       " [105, 15, 28])"
      ]
     },
     "execution_count": 20,
     "metadata": {},
     "output_type": "execute_result"
    }
   ],
   "source": [
    "test_alg(bubble_sort, gen_partly_sorted, 10 , [15,6,8])"
   ]
  },
  {
   "cell_type": "markdown",
   "metadata": {
    "collapsed": true
   },
   "source": [
    "7) Реализовать быструю сортировку с возможностью подсчета операций. Сравнить производительность алгоритма на случайных, упорядоченных и почти упорядоченных исходных данных."
   ]
  },
  {
   "cell_type": "code",
   "execution_count": 14,
   "metadata": {
    "collapsed": false
   },
   "outputs": [],
   "source": [
    "\n",
    "\n",
    "def quick_sort(a_list):\n",
    "    comps=0\n",
    "    swaps=0\n",
    "    comps, swaps =quick_sort_helper(a_list, 0, len(a_list) - 1, comps, swaps)\n",
    "    return a_list, comps, swapsS\n",
    "\n",
    "def quick_sort_helper(a_list, first, last, comps, swaps):\n",
    "    if first < last:\n",
    "\n",
    "        split_point, comps, swaps = partition(a_list, first, last,comps, swaps)\n",
    "\n",
    "        comps, swaps=quick_sort_helper(a_list, first, split_point - 1,comps, swaps)\n",
    "        comps, swaps=quick_sort_helper(a_list, split_point + 1, last,comps, swaps)\n",
    "    comps+=1\n",
    "    return comps, swaps\n",
    "\n",
    "def partition(a_list, first, last, comps, swaps):\n",
    "    pivot_value = a_list[first]\n",
    "    \n",
    "\n",
    "    left_mark = first + 1\n",
    "    right_mark = last\n",
    "\n",
    "    done = False\n",
    "    while not done:\n",
    "        comps+=5\n",
    "\n",
    "        while left_mark <= right_mark and a_list[left_mark] <= pivot_value:\n",
    "            left_mark = left_mark + 1\n",
    "            comps+=2\n",
    "\n",
    "        while a_list[right_mark] >= pivot_value and right_mark >= left_mark:\n",
    "            right_mark = right_mark - 1\n",
    "            comps+=2\n",
    "\n",
    "        if right_mark < left_mark:\n",
    "            done = True\n",
    "        else:\n",
    "            temp = a_list[left_mark]\n",
    "            a_list[left_mark] = a_list[right_mark]\n",
    "            a_list[right_mark] = temp\n",
    "            swaps+=1\n",
    "\n",
    "    temp = a_list[first]\n",
    "    a_list[first] = a_list[right_mark]\n",
    "    a_list[right_mark] = temp\n",
    "    swaps+=1\n",
    "\n",
    "    return right_mark,comps, swaps"
   ]
  },
  {
   "cell_type": "code",
   "execution_count": 15,
   "metadata": {
    "collapsed": false
   },
   "outputs": [
    {
     "data": {
      "text/plain": [
       "([1, 2], 10, 1)"
      ]
     },
     "execution_count": 15,
     "metadata": {},
     "output_type": "execute_result"
    }
   ],
   "source": [
    "test_list = [1,2]\n",
    "quick_sort(list(test_list))\n"
   ]
  },
  {
   "cell_type": "code",
   "execution_count": null,
   "metadata": {
    "collapsed": true
   },
   "outputs": [],
   "source": []
  }
 ],
 "metadata": {
  "anaconda-cloud": {},
  "kernelspec": {
   "display_name": "Python 3",
   "language": "python",
   "name": "python3"
  },
  "language_info": {
   "codemirror_mode": {
    "name": "ipython",
    "version": 3
   },
   "file_extension": ".py",
   "mimetype": "text/x-python",
   "name": "python",
   "nbconvert_exporter": "python",
   "pygments_lexer": "ipython3",
   "version": "3.6.0"
  }
 },
 "nbformat": 4,
 "nbformat_minor": 0
}
